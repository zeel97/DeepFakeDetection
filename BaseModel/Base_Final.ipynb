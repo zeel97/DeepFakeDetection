{
 "cells": [
  {
   "cell_type": "markdown",
   "metadata": {},
   "source": [
    "# DeepFake Detection: Base Model\n",
    "\n",
    "**Objective**: Develop a base CNN model for DeepFake detection to use as baseline accuracy which can later be compared with other transfer learning models\n",
    "\n",
    "**Base Models**: develop 2 types of base models:\n",
    "1. Binary Classification\n",
    "2. Multiclass Classification"
   ]
  },
  {
   "cell_type": "code",
   "execution_count": 1,
   "metadata": {},
   "outputs": [
    {
     "name": "stderr",
     "output_type": "stream",
     "text": [
      "Using TensorFlow backend.\n",
      "/mnt/disks/user/anaconda3/lib/python3.6/site-packages/tensorflow/python/framework/dtypes.py:523: FutureWarning: Passing (type, 1) or '1type' as a synonym of type is deprecated; in a future version of numpy, it will be understood as (type, (1,)) / '(1,)type'.\n",
      "  _np_qint8 = np.dtype([(\"qint8\", np.int8, 1)])\n",
      "/mnt/disks/user/anaconda3/lib/python3.6/site-packages/tensorflow/python/framework/dtypes.py:524: FutureWarning: Passing (type, 1) or '1type' as a synonym of type is deprecated; in a future version of numpy, it will be understood as (type, (1,)) / '(1,)type'.\n",
      "  _np_quint8 = np.dtype([(\"quint8\", np.uint8, 1)])\n",
      "/mnt/disks/user/anaconda3/lib/python3.6/site-packages/tensorflow/python/framework/dtypes.py:525: FutureWarning: Passing (type, 1) or '1type' as a synonym of type is deprecated; in a future version of numpy, it will be understood as (type, (1,)) / '(1,)type'.\n",
      "  _np_qint16 = np.dtype([(\"qint16\", np.int16, 1)])\n",
      "/mnt/disks/user/anaconda3/lib/python3.6/site-packages/tensorflow/python/framework/dtypes.py:526: FutureWarning: Passing (type, 1) or '1type' as a synonym of type is deprecated; in a future version of numpy, it will be understood as (type, (1,)) / '(1,)type'.\n",
      "  _np_quint16 = np.dtype([(\"quint16\", np.uint16, 1)])\n",
      "/mnt/disks/user/anaconda3/lib/python3.6/site-packages/tensorflow/python/framework/dtypes.py:527: FutureWarning: Passing (type, 1) or '1type' as a synonym of type is deprecated; in a future version of numpy, it will be understood as (type, (1,)) / '(1,)type'.\n",
      "  _np_qint32 = np.dtype([(\"qint32\", np.int32, 1)])\n",
      "/mnt/disks/user/anaconda3/lib/python3.6/site-packages/tensorflow/python/framework/dtypes.py:532: FutureWarning: Passing (type, 1) or '1type' as a synonym of type is deprecated; in a future version of numpy, it will be understood as (type, (1,)) / '(1,)type'.\n",
      "  np_resource = np.dtype([(\"resource\", np.ubyte, 1)])\n",
      "/mnt/disks/user/anaconda3/lib/python3.6/site-packages/sklearn/ensemble/weight_boosting.py:29: DeprecationWarning: numpy.core.umath_tests is an internal NumPy module and should not be imported. It will be removed in a future NumPy release.\n",
      "  from numpy.core.umath_tests import inner1d\n"
     ]
    }
   ],
   "source": [
    "import numpy as np\n",
    "% matplotlib inline\n",
    "from __future__ import print_function\n",
    "\n",
    "#Data Processing\n",
    "from skimage import io\n",
    "import os\n",
    "import glob\n",
    "from sklearn.preprocessing import LabelEncoder\n",
    "from keras.preprocessing.image import img_to_array\n",
    "from keras.preprocessing.image import load_img\n",
    "from keras.preprocessing.image import array_to_img\n",
    "from keras.applications.vgg16 import preprocess_input\n",
    "from tensorflow.keras.preprocessing import image\n",
    "from keras.preprocessing.image import ImageDataGenerator\n",
    "import random\n",
    "from PIL import Image\n",
    "import matplotlib.pyplot as plt\n",
    "from collections import Counter\n",
    "\n",
    "#Neural Networks\n",
    "from tensorflow.python import keras\n",
    "import tensorflow as tf\n",
    "from tensorflow.keras.models import Model\n",
    "from tensorflow.keras.layers import Dense, Dropout, Activation, Flatten\n",
    "from tensorflow.keras.layers import Conv2D, MaxPooling2D\n",
    "from tensorflow.keras.layers import LeakyReLU\n",
    "from tensorflow.keras.layers import GlobalAveragePooling2D\n",
    "from tensorflow.keras.models import Sequential\n",
    "from keras.optimizers import Adam\n",
    "\n",
    "#Models\n",
    "from sklearn.svm import SVC\n",
    "from sklearn.ensemble import RandomForestClassifier\n",
    "from sklearn import linear_model\n",
    "\n",
    "#Evaluation\n",
    "from sklearn.metrics import roc_auc_score\n",
    "from sklearn.metrics import roc_curve\n",
    "from sklearn.metrics import classification_report\n",
    "from sklearn.metrics import confusion_matrix\n",
    "from keras.callbacks import ModelCheckpoint,Callback\n",
    "from sklearn import metrics\n",
    "from tensorflow.keras.models import load_model"
   ]
  },
  {
   "cell_type": "markdown",
   "metadata": {},
   "source": [
    "## Dataset Split\n",
    "\n",
    "Load the DeepFake dataset to randomly divide it into train and test set "
   ]
  },
  {
   "cell_type": "code",
   "execution_count": 2,
   "metadata": {},
   "outputs": [],
   "source": [
    "# path to your dataset\n",
    "DATASET_PATH = '/mnt/disks/user/project/Dataset/'\n",
    "deepfake_class = ['original/clean_frames','FaceSwap/clean_frames', 'Reenactment/clean_frames']"
   ]
  },
  {
   "cell_type": "code",
   "execution_count": 3,
   "metadata": {},
   "outputs": [],
   "source": [
    "'''\n",
    "func: load the deepfake dataset and divide them into train and test with each having samples of the different classes\n",
    "input:\n",
    "    i.dataset_path: string: the main dataset folder path \n",
    "    ii.train_ratio: float: the ratio of the dataset that will be used for training the model. Eg: 0.8\n",
    "    iii. fake_class: string array: the different deepfake classes\n",
    "output:\n",
    "    i. train_set, test_set: dictionary of image paths as key and deepfake class as value\n",
    "    ii. X_train, X_test: array of image paths \n",
    "    iii. y_train, y_test: array of corresponding deepfake classes \n",
    "'''\n",
    "def MultiDatasetSplit(DATASET_PATH, train_ratio,fake_cls):\n",
    "    test_set = {}\n",
    "    train_set = {}\n",
    "    list_IDs = []\n",
    "    labels = {}\n",
    "    for i, cls in enumerate(fake_cls):\n",
    "        paths = glob.glob(os.path.join(DATASET_PATH, cls,'*/*.jpg'))\n",
    "        #balancing the dataset\n",
    "        balance_paths = random.sample(paths,1000)\n",
    "\n",
    "        brk_point = int(len(balance_paths)*train_ratio)\n",
    "        for j in range(len(balance_paths)):\n",
    "            if j <= brk_point:\n",
    "                train_set.update({balance_paths[j]:i})\n",
    "            else:\n",
    "                test_set.update({balance_paths[j]:i})\n",
    "    \n",
    "    X_train = [X for X in train_set.keys()] \n",
    "    y_train = [y for y in train_set.values()]\n",
    "    X_test = [X for X in test_set.keys()]\n",
    "    y_test = [y for y in test_set.values()]\n",
    "    return train_set, test_set, X_train,y_train, X_test, y_test"
   ]
  },
  {
   "cell_type": "code",
   "execution_count": 4,
   "metadata": {},
   "outputs": [],
   "source": [
    "'''\n",
    "func: load the deepfake dataset and divide them into train and test with each having samples of the different classes\n",
    "input:\n",
    "    i.dataset_path: string: the main dataset folder path \n",
    "    ii.train_ratio: float: the ratio of the dataset that will be used for training the model. Eg: 0.8\n",
    "    iii. fake_class: string array: the different deepfake classes\n",
    "output:\n",
    "    i. train_set, test_set: dictionary of image paths as key and deepfake class as value\n",
    "    ii. X_train, X_test: array of image paths \n",
    "    iii. y_train, y_test: array of corresponding deepfake classes \n",
    "'''\n",
    "def BinaryDatasetSplit(DATASET_PATH, train_ratio,fake_cls):\n",
    "    test_set = {}\n",
    "    train_set = {}\n",
    "    list_IDs = []\n",
    "    labels = {}\n",
    "    for i, cls in enumerate(fake_cls):\n",
    "        paths = glob.glob(os.path.join(DATASET_PATH, cls,'*/*.jpg'))\n",
    "        brk_point = int(len(paths)*train_ratio)\n",
    "        for j in range(len(paths)):\n",
    "            if j <= brk_point:\n",
    "                if i == 0:\n",
    "                    train_set.update({paths[j]:0})\n",
    "                else: \n",
    "                    train_set.update({paths[j]:1})\n",
    "            else:\n",
    "                if i == 0:\n",
    "                    test_set.update({paths[j]:0})\n",
    "                else:\n",
    "                    test_set.update({paths[j]:1})\n",
    "\n",
    "    X_train = [X for X in train_set.keys()] \n",
    "    y_train = [y for y in train_set.values()]\n",
    "    X_test = [X for X in test_set.keys()]\n",
    "    y_test = [y for y in test_set.values()]\n",
    "    return train_set, test_set, X_train,y_train, X_test, y_test"
   ]
  },
  {
   "cell_type": "code",
   "execution_count": 5,
   "metadata": {},
   "outputs": [],
   "source": [
    "b_train_set, b_test_set, b_train_X, b_train_y, b_test_X, b_test_y = BinaryDatasetSplit(DATASET_PATH,0.7,deepfake_class)"
   ]
  },
  {
   "cell_type": "code",
   "execution_count": 6,
   "metadata": {},
   "outputs": [],
   "source": [
    "m_train_set, m_test_set, m_train_X, m_train_y, m_test_X, m_test_y = MultiDatasetSplit(DATASET_PATH,0.7,deepfake_class)"
   ]
  },
  {
   "cell_type": "code",
   "execution_count": 7,
   "metadata": {},
   "outputs": [
    {
     "data": {
      "text/plain": [
       "Counter({0: 15435, 1: 17764})"
      ]
     },
     "execution_count": 7,
     "metadata": {},
     "output_type": "execute_result"
    }
   ],
   "source": [
    "Counter(b_train_set.values())"
   ]
  },
  {
   "cell_type": "code",
   "execution_count": 8,
   "metadata": {},
   "outputs": [
    {
     "data": {
      "text/plain": [
       "Counter({0: 701, 1: 701, 2: 701})"
      ]
     },
     "execution_count": 8,
     "metadata": {},
     "output_type": "execute_result"
    }
   ],
   "source": [
    "Counter(m_train_set.values())"
   ]
  },
  {
   "cell_type": "code",
   "execution_count": 9,
   "metadata": {},
   "outputs": [
    {
     "data": {
      "text/plain": [
       "{0, 1}"
      ]
     },
     "execution_count": 9,
     "metadata": {},
     "output_type": "execute_result"
    }
   ],
   "source": [
    "set(b_test_set.values())"
   ]
  },
  {
   "cell_type": "code",
   "execution_count": 10,
   "metadata": {},
   "outputs": [
    {
     "data": {
      "text/plain": [
       "{0, 1, 2}"
      ]
     },
     "execution_count": 10,
     "metadata": {},
     "output_type": "execute_result"
    }
   ],
   "source": [
    "set(m_test_set.values())"
   ]
  },
  {
   "cell_type": "code",
   "execution_count": 11,
   "metadata": {},
   "outputs": [],
   "source": [
    "# specify image size and channels\n",
    "img_channels = 3\n",
    "img_rows = 224\n",
    "img_cols = 224\n",
    "\n",
    "# number of classes\n",
    "b_nb_classes = 2\n",
    "m_nb_classes = 3"
   ]
  },
  {
   "cell_type": "markdown",
   "metadata": {},
   "source": [
    "## Data Processing\n",
    "\n",
    "Divide data into batches and process them"
   ]
  },
  {
   "cell_type": "code",
   "execution_count": 12,
   "metadata": {},
   "outputs": [],
   "source": [
    "'''\n",
    "func: prepare and process batch wise data for training/ablation. \n",
    "The image path is converted to image data while the classes are label encoded (0,1,2)\n",
    "input:\n",
    "    i.image_list: X data: array of image paths\n",
    "    ii:classes: y data: dictionary of image paths and their corresponding classes\n",
    "output:\n",
    "    i. DataGenerator\n",
    "'''\n",
    "class DataGenerator(keras.utils.Sequence):\n",
    "    'Generates data for Keras'\n",
    "    def __init__(self, image_list, classes, batch_size=32, dim=(224,224), n_channels=3,\n",
    "                 n_classes=3,shuffle=True):\n",
    "        'Initialization'\n",
    "        self.dim = dim\n",
    "        self.batch_size = batch_size\n",
    "        self.classes = classes\n",
    "        self.image_list = image_list\n",
    "        self.n_channels = n_channels\n",
    "        self.n_classes = n_classes\n",
    "        self.shuffle = shuffle\n",
    "        self.on_epoch_end()\n",
    "\n",
    "    def __len__(self):\n",
    "        'Denotes the number of batches per epoch'\n",
    "        return int(np.floor(len(self.image_list) / self.batch_size))\n",
    "\n",
    "    def __getitem__(self, index):\n",
    "        'Generate one batch of data'\n",
    "        # Generate indexes of the batch\n",
    "        indexes = self.indexes[index*self.batch_size:(index+1)*self.batch_size]\n",
    "\n",
    "        # Find list of IDs\n",
    "        list_img_temp = [self.image_list[k] for k in indexes]\n",
    "\n",
    "        # Generate data\n",
    "        X, y = self.__data_generation(list_img_temp)\n",
    "        return X, y\n",
    "\n",
    "\n",
    "    def on_epoch_end(self):\n",
    "        'Updates indexes after each epoch'\n",
    "        self.indexes = np.arange(len(self.image_list))\n",
    "        if self.shuffle == True:\n",
    "            np.random.shuffle(self.indexes)\n",
    "\n",
    "    def __data_generation(self, list_img_temp):\n",
    "        'Generates data containing batch_size samples' # X : (n_samples, *dim, n_channels)\n",
    "        # Initialization of Y\n",
    "        y = np.empty((self.batch_size), dtype=int)\n",
    "        X = np.empty((self.batch_size, *self.dim, self.n_channels))\n",
    "        #X = np.random.rand(self.batch_size, *self.dim, self.n_channels)\n",
    "\n",
    "        #For each image path in the batch: load it, convert it to array, normalize values and pre-process.\n",
    "        #Append X and respective y values to the empty X and y variables\n",
    "        for i, ID in enumerate(list_img_temp):\n",
    "            img = load_img(ID, target_size=self.dim)\n",
    "            img = img_to_array(img)\n",
    "            img = img/255\n",
    "            #img = preprocess_input(img)\n",
    "            X[i,] = img\n",
    "            y[i] = self.classes[ID]\n",
    "            \n",
    "        #class encoding to 0,1,2\n",
    "#         le = LabelEncoder()\n",
    "#         self.y_value = le.fit_transform(y)\n",
    "        return X,keras.utils.to_categorical(y, num_classes=self.n_classes)"
   ]
  },
  {
   "cell_type": "code",
   "execution_count": 13,
   "metadata": {},
   "outputs": [],
   "source": [
    "'''\n",
    "func: get the data generators for training and validation\n",
    "input:\n",
    "    i.train_X, test_X: array of image paths in training and testing respectively\n",
    "    ii.train_set, test_set: dictionary of image paths and their corresponding class for training and test data respectively\n",
    "    iii. ablation: int: number of training and test entries to use for DataGeneration\n",
    "output:\n",
    "    i. training_generator\n",
    "    ii. validation_generator\n",
    "'''\n",
    "def data_generator(train_X, train_set, test_X, test_set,classes,ablation = None):\n",
    "    #Randomly selecting data in case of ablation testing\n",
    "    if ablation != None:\n",
    "        train_X = random.sample(train_X, ablation)\n",
    "        train_set = {image: train_set[image] for image in train_X }\n",
    "        test_X = random.sample(test_X, ablation)\n",
    "        test_set = {image: test_set[image] for image in test_X }\n",
    "    training_generator = DataGenerator(train_X, train_set,n_classes=classes)\n",
    "    validation_generator = DataGenerator(test_X, test_set,n_classes=classes)\n",
    "    return training_generator,validation_generator"
   ]
  },
  {
   "cell_type": "code",
   "execution_count": 14,
   "metadata": {},
   "outputs": [],
   "source": [
    "from sklearn.metrics import roc_auc_score\n",
    "\n",
    "class roc_callback(Callback):\n",
    "    \n",
    "    def on_train_begin(self, logs={}):\n",
    "        logs['val_auc'] = 0\n",
    "\n",
    "    def on_epoch_end(self, epoch, logs={}):\n",
    "        y_p = []\n",
    "        y_v = []\n",
    "        for i in range(len(validation_generator)):\n",
    "            x_val, y_val = validation_generator[i]\n",
    "            y_pred = self.model.predict(x_val)\n",
    "            y_p.append(y_pred)\n",
    "            y_v.append(y_val)\n",
    "        y_p = np.concatenate(y_p)\n",
    "        y_v = np.concatenate(y_v)\n",
    "        roc_auc = roc_auc_score(y_v, y_p)\n",
    "        print ('\\nVal AUC for epoch{}: {}'.format(epoch, roc_auc))\n",
    "        logs['val_auc'] = roc_auc"
   ]
  },
  {
   "cell_type": "markdown",
   "metadata": {},
   "source": [
    "## Binary Base Classification Models"
   ]
  },
  {
   "cell_type": "code",
   "execution_count": 15,
   "metadata": {},
   "outputs": [],
   "source": [
    "def cnn_model(in_shape=(224,224,3)):\n",
    "    model = Sequential()\n",
    "    model.add(Conv2D(64,(3,3), strides=(2,2), padding='same', input_shape=in_shape))\n",
    "    model.add(LeakyReLU(alpha=0.2))\n",
    "    model.add(Dropout(0.4))\n",
    "    model.add(Conv2D(64,(3,3),strides=(2,2), padding='same'))\n",
    "    model.add(LeakyReLU(alpha=0.2))\n",
    "    model.add(Dropout(0.4))\n",
    "    model.add(Flatten())\n",
    "    model.add(Dense(b_nb_classes, activation='sigmoid'))\n",
    "    return model\n",
    "\n",
    "#call define model\n",
    "binary_base_model = cnn_model()"
   ]
  },
  {
   "cell_type": "code",
   "execution_count": 16,
   "metadata": {},
   "outputs": [],
   "source": [
    "training_generator, validation_generator = data_generator(b_train_X, b_train_set, b_test_X, b_test_set,classes=b_nb_classes)\n",
    "binary_base_model.compile(loss='categorical_crossentropy',\n",
    "              optimizer='sgd',\n",
    "              metrics=['accuracy'])"
   ]
  },
  {
   "cell_type": "code",
   "execution_count": 17,
   "metadata": {
    "scrolled": true
   },
   "outputs": [
    {
     "name": "stdout",
     "output_type": "stream",
     "text": [
      "Epoch 1/20\n",
      "1036/1037 [============================>.] - ETA: 0s - loss: 0.6874 - acc: 0.5403\n",
      "Epoch 00001: val_acc improved from -inf to 0.51570, saving model to /mnt/disks/user/project/Final_Models/base_binary_best_model.hdf5\n",
      "\n",
      "Val AUC for epoch0: 0.5324951844561372\n",
      "1037/1037 [==============================] - 1419s 1s/step - loss: 0.6873 - acc: 0.5404 - val_loss: 0.6951 - val_acc: 0.5157\n",
      "Epoch 2/20\n",
      "1036/1037 [============================>.] - ETA: 0s - loss: 0.6801 - acc: 0.5576\n",
      "Epoch 00002: val_acc did not improve from 0.51570\n",
      "\n",
      "Val AUC for epoch1: 0.516053860324398\n",
      "1037/1037 [==============================] - 259s 250ms/step - loss: 0.6801 - acc: 0.5576 - val_loss: 0.6947 - val_acc: 0.5128\n",
      "Epoch 3/20\n",
      "1036/1037 [============================>.] - ETA: 0s - loss: 0.6719 - acc: 0.5773\n",
      "Epoch 00003: val_acc improved from 0.51570 to 0.52280, saving model to /mnt/disks/user/project/Final_Models/base_binary_best_model.hdf5\n",
      "\n",
      "Val AUC for epoch2: 0.5006016709621733\n",
      "1037/1037 [==============================] - 257s 248ms/step - loss: 0.6719 - acc: 0.5773 - val_loss: 0.7008 - val_acc: 0.5228\n",
      "Epoch 4/20\n",
      "1036/1037 [============================>.] - ETA: 0s - loss: 0.6640 - acc: 0.5935\n",
      "Epoch 00004: val_acc did not improve from 0.52280\n",
      "\n",
      "Val AUC for epoch3: 0.49905461449407706\n",
      "1037/1037 [==============================] - 240s 232ms/step - loss: 0.6639 - acc: 0.5936 - val_loss: 0.7200 - val_acc: 0.5210\n",
      "Epoch 5/20\n",
      "1036/1037 [============================>.] - ETA: 0s - loss: 0.6547 - acc: 0.6044\n",
      "Epoch 00005: val_acc did not improve from 0.52280\n",
      "\n",
      "Val AUC for epoch4: 0.489804147479203\n",
      "1037/1037 [==============================] - 248s 240ms/step - loss: 0.6547 - acc: 0.6044 - val_loss: 0.7243 - val_acc: 0.5063\n",
      "Epoch 6/20\n",
      "1036/1037 [============================>.] - ETA: 0s - loss: 0.6454 - acc: 0.6194\n",
      "Epoch 00006: val_acc did not improve from 0.52280\n",
      "\n",
      "Val AUC for epoch5: 0.48836989405654607\n",
      "1037/1037 [==============================] - 241s 233ms/step - loss: 0.6454 - acc: 0.6194 - val_loss: 0.7417 - val_acc: 0.4966\n",
      "Epoch 7/20\n",
      "1036/1037 [============================>.] - ETA: 0s - loss: 0.6347 - acc: 0.6300\n",
      "Epoch 00007: val_acc did not improve from 0.52280\n",
      "\n",
      "Val AUC for epoch6: 0.4912846670375475\n",
      "1037/1037 [==============================] - 250s 241ms/step - loss: 0.6346 - acc: 0.6301 - val_loss: 0.7552 - val_acc: 0.4916\n",
      "Epoch 8/20\n",
      "1036/1037 [============================>.] - ETA: 0s - loss: 0.6232 - acc: 0.6442\n",
      "Epoch 00008: val_acc did not improve from 0.52280\n",
      "\n",
      "Val AUC for epoch7: 0.47661063863848235\n",
      "1037/1037 [==============================] - 245s 236ms/step - loss: 0.6232 - acc: 0.6442 - val_loss: 0.7725 - val_acc: 0.4729\n",
      "Epoch 9/20\n",
      "1036/1037 [============================>.] - ETA: 0s - loss: 0.6108 - acc: 0.6562\n",
      "Epoch 00009: val_acc did not improve from 0.52280\n",
      "\n",
      "Val AUC for epoch8: 0.4767803474837514\n",
      "1037/1037 [==============================] - 243s 234ms/step - loss: 0.6108 - acc: 0.6562 - val_loss: 0.7878 - val_acc: 0.4718\n",
      "Epoch 10/20\n",
      "1036/1037 [============================>.] - ETA: 0s - loss: 0.5988 - acc: 0.6674\n",
      "Epoch 00010: val_acc did not improve from 0.52280\n",
      "\n",
      "Val AUC for epoch9: 0.48278438466445595\n",
      "1037/1037 [==============================] - 242s 233ms/step - loss: 0.5988 - acc: 0.6673 - val_loss: 0.8127 - val_acc: 0.4837\n",
      "Epoch 11/20\n",
      "1036/1037 [============================>.] - ETA: 0s - loss: 0.5868 - acc: 0.6821\n",
      "Epoch 00011: val_acc did not improve from 0.52280\n",
      "\n",
      "Val AUC for epoch10: 0.47000666304093375\n",
      "1037/1037 [==============================] - 242s 233ms/step - loss: 0.5868 - acc: 0.6820 - val_loss: 0.8183 - val_acc: 0.4609\n",
      "Epoch 12/20\n",
      "1036/1037 [============================>.] - ETA: 0s - loss: 0.5729 - acc: 0.6909\n",
      "Epoch 00012: val_acc did not improve from 0.52280\n",
      "\n",
      "Val AUC for epoch11: 0.47188409693960903\n",
      "1037/1037 [==============================] - 243s 235ms/step - loss: 0.5728 - acc: 0.6910 - val_loss: 0.8297 - val_acc: 0.4568\n",
      "Epoch 13/20\n",
      "1036/1037 [============================>.] - ETA: 0s - loss: 0.5597 - acc: 0.7048\n",
      "Epoch 00013: val_acc did not improve from 0.52280\n",
      "\n",
      "Val AUC for epoch12: 0.469857167270305\n",
      "1037/1037 [==============================] - 243s 235ms/step - loss: 0.5597 - acc: 0.7049 - val_loss: 0.8680 - val_acc: 0.4619\n",
      "Epoch 14/20\n",
      "1036/1037 [============================>.] - ETA: 0s - loss: 0.5470 - acc: 0.7114\n",
      "Epoch 00014: val_acc did not improve from 0.52280\n",
      "\n",
      "Val AUC for epoch13: 0.47047162326340974\n",
      "1037/1037 [==============================] - 246s 237ms/step - loss: 0.5470 - acc: 0.7113 - val_loss: 0.8601 - val_acc: 0.4567\n",
      "Epoch 15/20\n",
      "1036/1037 [============================>.] - ETA: 0s - loss: 0.5335 - acc: 0.7218\n",
      "Epoch 00015: val_acc did not improve from 0.52280\n",
      "\n",
      "Val AUC for epoch14: 0.4686850467510064\n",
      "1037/1037 [==============================] - 242s 233ms/step - loss: 0.5336 - acc: 0.7218 - val_loss: 0.8919 - val_acc: 0.4590\n",
      "Epoch 16/20\n",
      "1036/1037 [============================>.] - ETA: 0s - loss: 0.5200 - acc: 0.7336\n",
      "Epoch 00016: val_acc did not improve from 0.52280\n",
      "\n",
      "Val AUC for epoch15: 0.4753335820267091\n",
      "1037/1037 [==============================] - 242s 233ms/step - loss: 0.5200 - acc: 0.7335 - val_loss: 0.9020 - val_acc: 0.4726\n",
      "Epoch 17/20\n",
      "1036/1037 [============================>.] - ETA: 0s - loss: 0.5026 - acc: 0.7475\n",
      "Epoch 00017: val_acc did not improve from 0.52280\n",
      "\n",
      "Val AUC for epoch16: 0.4713182888177965\n",
      "1037/1037 [==============================] - 245s 236ms/step - loss: 0.5027 - acc: 0.7474 - val_loss: 0.9380 - val_acc: 0.4659\n",
      "Epoch 18/20\n",
      "1036/1037 [============================>.] - ETA: 0s - loss: 0.4881 - acc: 0.7557\n",
      "Epoch 00018: val_acc did not improve from 0.52280\n",
      "\n",
      "Val AUC for epoch17: 0.47139828215588325\n",
      "1037/1037 [==============================] - 246s 237ms/step - loss: 0.4881 - acc: 0.7557 - val_loss: 0.9370 - val_acc: 0.4592\n",
      "Epoch 19/20\n",
      "1036/1037 [============================>.] - ETA: 0s - loss: 0.4724 - acc: 0.7657\n",
      "Epoch 00019: val_acc did not improve from 0.52280\n",
      "\n",
      "Val AUC for epoch18: 0.4778355681311329\n",
      "1037/1037 [==============================] - 246s 237ms/step - loss: 0.4723 - acc: 0.7657 - val_loss: 0.9516 - val_acc: 0.4772\n",
      "Epoch 20/20\n",
      "1036/1037 [============================>.] - ETA: 0s - loss: 0.4539 - acc: 0.7824\n",
      "Epoch 00020: val_acc did not improve from 0.52280\n",
      "\n",
      "Val AUC for epoch19: 0.47275710960398876\n",
      "1037/1037 [==============================] - 246s 237ms/step - loss: 0.4539 - acc: 0.7824 - val_loss: 0.9793 - val_acc: 0.4663\n"
     ]
    }
   ],
   "source": [
    "# checkpoint \n",
    "binary_filepath = '/mnt/disks/user/project/Final_Models/base_binary_best_model.hdf5'\n",
    "checkpoint = ModelCheckpoint(binary_filepath, monitor='val_acc', verbose=1, save_best_only=True, mode='max')\n",
    "auc_logger = roc_callback()\n",
    "# fit: this will fit the net on 'ablation' samples, only 1 epoch\n",
    "binary_history = binary_base_model.fit_generator(generator = training_generator,\n",
    "                    validation_data = validation_generator,\n",
    "                    shuffle=True,\n",
    "                    epochs=20,\n",
    "                    callbacks=[checkpoint,auc_logger])"
   ]
  },
  {
   "cell_type": "code",
   "execution_count": 18,
   "metadata": {
    "scrolled": true
   },
   "outputs": [
    {
     "data": {
      "text/plain": [
       "<matplotlib.legend.Legend at 0x7fcf107f7c88>"
      ]
     },
     "execution_count": 18,
     "metadata": {},
     "output_type": "execute_result"
    },
    {
     "data": {
      "image/png": "[encoded data removed]",
      "text/plain": [
       "<Figure size 432x288 with 1 Axes>"
      ]
     },
     "metadata": {},
     "output_type": "display_data"
    }
   ],
   "source": [
    "binary_acc = binary_history.history['acc']\n",
    "binary_val_acc = binary_history.history['val_acc']\n",
    "\n",
    "binary_epochs = range(len(binary_acc))\n",
    "\n",
    "plt.plot(binary_epochs, binary_acc, 'g', label='Training acc')\n",
    "plt.plot(binary_epochs, binary_val_acc, 'b', label='Validation acc')\n",
    "plt.title('Binary Classification Base Model Accuracy')\n",
    "plt.legend()"
   ]
  },
  {
   "cell_type": "markdown",
   "metadata": {},
   "source": [
    "### Binary Base Model Evaluation"
   ]
  },
  {
   "cell_type": "code",
   "execution_count": 19,
   "metadata": {},
   "outputs": [],
   "source": [
    "binary_test_generator = DataGenerator(b_test_X, b_test_set,n_classes=2,shuffle=False)"
   ]
  },
  {
   "cell_type": "code",
   "execution_count": 20,
   "metadata": {},
   "outputs": [],
   "source": [
    "#Load the best model\n",
    "binary_eval_base_model = load_model(binary_filepath)"
   ]
  },
  {
   "cell_type": "code",
   "execution_count": 21,
   "metadata": {},
   "outputs": [],
   "source": [
    "binary_predictions = binary_eval_base_model.predict_generator(binary_test_generator)"
   ]
  },
  {
   "cell_type": "code",
   "execution_count": 22,
   "metadata": {},
   "outputs": [],
   "source": [
    "binary_y_class = np.array(list(binary_test_generator.classes.values()))[:len(binary_predictions)]\n",
    "binary_y = keras.utils.to_categorical(binary_y_class, num_classes=b_nb_classes)"
   ]
  },
  {
   "cell_type": "code",
   "execution_count": 23,
   "metadata": {},
   "outputs": [],
   "source": [
    "binary_prob_max = binary_predictions.max(axis=1).reshape(-1, 1)\n",
    "binary_y_pred = np.where(binary_predictions == binary_prob_max, 1, 0)"
   ]
  },
  {
   "cell_type": "code",
   "execution_count": 24,
   "metadata": {},
   "outputs": [],
   "source": [
    "binary_pred = np.argmax(binary_predictions, axis=-1)"
   ]
  },
  {
   "cell_type": "code",
   "execution_count": 25,
   "metadata": {},
   "outputs": [
    {
     "data": {
      "text/plain": [
       "14208"
      ]
     },
     "execution_count": 25,
     "metadata": {},
     "output_type": "execute_result"
    }
   ],
   "source": [
    "len(binary_y_pred)"
   ]
  },
  {
   "cell_type": "code",
   "execution_count": 26,
   "metadata": {},
   "outputs": [
    {
     "data": {
      "text/plain": [
       "14208"
      ]
     },
     "execution_count": 26,
     "metadata": {},
     "output_type": "execute_result"
    }
   ],
   "source": [
    "len(binary_y)"
   ]
  },
  {
   "cell_type": "code",
   "execution_count": 27,
   "metadata": {},
   "outputs": [
    {
     "data": {
      "text/plain": [
       "Counter({0: 3986, 1: 10222})"
      ]
     },
     "execution_count": 27,
     "metadata": {},
     "output_type": "execute_result"
    }
   ],
   "source": [
    "Counter(binary_pred)"
   ]
  },
  {
   "cell_type": "code",
   "execution_count": 28,
   "metadata": {},
   "outputs": [
    {
     "name": "stdout",
     "output_type": "stream",
     "text": [
      "Base Model Test Score  0.5230855855855856\n"
     ]
    }
   ],
   "source": [
    "binary_score_test = metrics.accuracy_score(binary_y, binary_y_pred)\n",
    "print('Base Model Test Score ',binary_score_test)"
   ]
  },
  {
   "cell_type": "code",
   "execution_count": 29,
   "metadata": {},
   "outputs": [
    {
     "name": "stdout",
     "output_type": "stream",
     "text": [
      "[[1912 4702]\n",
      " [2074 5520]]\n"
     ]
    }
   ],
   "source": [
    "binary_cm = confusion_matrix(binary_y_class, binary_pred)\n",
    "print(binary_cm)"
   ]
  },
  {
   "cell_type": "code",
   "execution_count": 30,
   "metadata": {
    "scrolled": true
   },
   "outputs": [
    {
     "name": "stdout",
     "output_type": "stream",
     "text": [
      "             precision    recall  f1-score   support\n",
      "\n",
      "          0       0.48      0.29      0.36      6614\n",
      "          1       0.54      0.73      0.62      7594\n",
      "\n",
      "avg / total       0.51      0.52      0.50     14208\n",
      "\n"
     ]
    }
   ],
   "source": [
    "binary_report = classification_report(binary_y,binary_y_pred)\n",
    "print(binary_report)"
   ]
  },
  {
   "cell_type": "markdown",
   "metadata": {},
   "source": [
    "## Multi-Class Base Classification Models"
   ]
  },
  {
   "cell_type": "code",
   "execution_count": 31,
   "metadata": {},
   "outputs": [],
   "source": [
    "def cnn_model(in_shape=(224,224,3)):\n",
    "    model = Sequential()\n",
    "    model.add(Conv2D(64,(3,3), strides=(2,2), padding='same', input_shape=in_shape))\n",
    "    model.add(LeakyReLU(alpha=0.2))\n",
    "    model.add(Dropout(0.4))\n",
    "    model.add(Conv2D(64,(3,3),strides=(2,2), padding='same'))\n",
    "    model.add(LeakyReLU(alpha=0.2))\n",
    "    model.add(Dropout(0.4))\n",
    "    model.add(Flatten())\n",
    "    model.add(Dense(m_nb_classes, activation='softmax'))\n",
    "    return model\n",
    "\n",
    "#call define model\n",
    "multi_base_model = cnn_model()"
   ]
  },
  {
   "cell_type": "code",
   "execution_count": 32,
   "metadata": {},
   "outputs": [],
   "source": [
    "m_training_generator, m_validation_generator = data_generator(m_train_X, m_train_set, m_test_X, m_test_set,classes=m_nb_classes)\n",
    "multi_base_model.compile(loss='categorical_crossentropy',\n",
    "              optimizer='sgd',\n",
    "              metrics=['accuracy'])"
   ]
  },
  {
   "cell_type": "code",
   "execution_count": 33,
   "metadata": {
    "scrolled": true
   },
   "outputs": [
    {
     "name": "stdout",
     "output_type": "stream",
     "text": [
      "Epoch 1/20\n",
      "64/65 [============================>.] - ETA: 0s - loss: 1.1081 - acc: 0.3755\n",
      "Epoch 00001: val_acc improved from -inf to 0.45759, saving model to /mnt/disks/user/project/Final_Models/multi_binary_best_model.hdf5\n",
      "65/65 [==============================] - 12s 181ms/step - loss: 1.1078 - acc: 0.3764 - val_loss: 1.0670 - val_acc: 0.4576\n",
      "Epoch 2/20\n",
      "64/65 [============================>.] - ETA: 0s - loss: 1.0564 - acc: 0.4375\n",
      "Epoch 00002: val_acc did not improve from 0.45759\n",
      "65/65 [==============================] - 11s 165ms/step - loss: 1.0563 - acc: 0.4380 - val_loss: 1.0515 - val_acc: 0.4431\n",
      "Epoch 3/20\n",
      "64/65 [============================>.] - ETA: 0s - loss: 1.0402 - acc: 0.4502\n",
      "Epoch 00003: val_acc improved from 0.45759 to 0.50000, saving model to /mnt/disks/user/project/Final_Models/multi_binary_best_model.hdf5\n",
      "65/65 [==============================] - 11s 165ms/step - loss: 1.0410 - acc: 0.4495 - val_loss: 1.0349 - val_acc: 0.5000\n",
      "Epoch 4/20\n",
      "64/65 [============================>.] - ETA: 0s - loss: 1.0226 - acc: 0.4795\n",
      "Epoch 00004: val_acc did not improve from 0.50000\n",
      "65/65 [==============================] - 11s 162ms/step - loss: 1.0232 - acc: 0.4779 - val_loss: 1.0251 - val_acc: 0.4665\n",
      "Epoch 5/20\n",
      "64/65 [============================>.] - ETA: 0s - loss: 1.0027 - acc: 0.4761\n",
      "Epoch 00005: val_acc did not improve from 0.50000\n",
      "65/65 [==============================] - 11s 163ms/step - loss: 1.0029 - acc: 0.4764 - val_loss: 1.0105 - val_acc: 0.4799\n",
      "Epoch 6/20\n",
      "64/65 [============================>.] - ETA: 0s - loss: 0.9896 - acc: 0.5029\n",
      "Epoch 00006: val_acc improved from 0.50000 to 0.50781, saving model to /mnt/disks/user/project/Final_Models/multi_binary_best_model.hdf5\n",
      "65/65 [==============================] - 11s 164ms/step - loss: 0.9904 - acc: 0.5024 - val_loss: 1.0009 - val_acc: 0.5078\n",
      "Epoch 7/20\n",
      "64/65 [============================>.] - ETA: 0s - loss: 0.9804 - acc: 0.4956\n",
      "Epoch 00007: val_acc did not improve from 0.50781\n",
      "65/65 [==============================] - 11s 163ms/step - loss: 0.9787 - acc: 0.4990 - val_loss: 1.0143 - val_acc: 0.4833\n",
      "Epoch 8/20\n",
      "64/65 [============================>.] - ETA: 0s - loss: 0.9482 - acc: 0.5396\n",
      "Epoch 00008: val_acc did not improve from 0.50781\n",
      "65/65 [==============================] - 11s 163ms/step - loss: 0.9507 - acc: 0.5399 - val_loss: 0.9909 - val_acc: 0.5011\n",
      "Epoch 9/20\n",
      "64/65 [============================>.] - ETA: 0s - loss: 0.9485 - acc: 0.5386\n",
      "Epoch 00009: val_acc improved from 0.50781 to 0.51116, saving model to /mnt/disks/user/project/Final_Models/multi_binary_best_model.hdf5\n",
      "65/65 [==============================] - 11s 165ms/step - loss: 0.9480 - acc: 0.5380 - val_loss: 0.9857 - val_acc: 0.5112\n",
      "Epoch 10/20\n",
      "64/65 [============================>.] - ETA: 0s - loss: 0.9257 - acc: 0.5679\n",
      "Epoch 00010: val_acc improved from 0.51116 to 0.51228, saving model to /mnt/disks/user/project/Final_Models/multi_binary_best_model.hdf5\n",
      "65/65 [==============================] - 11s 164ms/step - loss: 0.9255 - acc: 0.5683 - val_loss: 0.9802 - val_acc: 0.5123\n",
      "Epoch 11/20\n",
      "64/65 [============================>.] - ETA: 0s - loss: 0.9000 - acc: 0.5815\n",
      "Epoch 00011: val_acc improved from 0.51228 to 0.52455, saving model to /mnt/disks/user/project/Final_Models/multi_binary_best_model.hdf5\n",
      "65/65 [==============================] - 11s 164ms/step - loss: 0.9001 - acc: 0.5817 - val_loss: 0.9630 - val_acc: 0.5246\n",
      "Epoch 12/20\n",
      "64/65 [============================>.] - ETA: 0s - loss: 0.8970 - acc: 0.5684\n",
      "Epoch 00012: val_acc did not improve from 0.52455\n",
      "65/65 [==============================] - 11s 165ms/step - loss: 0.8970 - acc: 0.5687 - val_loss: 0.9893 - val_acc: 0.5000\n",
      "Epoch 13/20\n",
      "64/65 [============================>.] - ETA: 0s - loss: 0.8710 - acc: 0.6108\n",
      "Epoch 00013: val_acc did not improve from 0.52455\n",
      "65/65 [==============================] - 11s 164ms/step - loss: 0.8690 - acc: 0.6125 - val_loss: 0.9686 - val_acc: 0.5246\n",
      "Epoch 14/20\n",
      "64/65 [============================>.] - ETA: 0s - loss: 0.8598 - acc: 0.6030\n",
      "Epoch 00014: val_acc did not improve from 0.52455\n",
      "65/65 [==============================] - 11s 164ms/step - loss: 0.8630 - acc: 0.6010 - val_loss: 0.9716 - val_acc: 0.4922\n",
      "Epoch 15/20\n",
      "64/65 [============================>.] - ETA: 0s - loss: 0.8366 - acc: 0.6338\n",
      "Epoch 00015: val_acc improved from 0.52455 to 0.52567, saving model to /mnt/disks/user/project/Final_Models/multi_binary_best_model.hdf5\n",
      "65/65 [==============================] - 11s 164ms/step - loss: 0.8360 - acc: 0.6327 - val_loss: 0.9580 - val_acc: 0.5257\n",
      "Epoch 16/20\n",
      "64/65 [============================>.] - ETA: 0s - loss: 0.8151 - acc: 0.6338\n",
      "Epoch 00016: val_acc did not improve from 0.52567\n",
      "65/65 [==============================] - 11s 164ms/step - loss: 0.8190 - acc: 0.6317 - val_loss: 0.9689 - val_acc: 0.5033\n",
      "Epoch 17/20\n",
      "64/65 [============================>.] - ETA: 0s - loss: 0.8048 - acc: 0.6445\n",
      "Epoch 00017: val_acc did not improve from 0.52567\n",
      "65/65 [==============================] - 11s 165ms/step - loss: 0.8045 - acc: 0.6437 - val_loss: 0.9630 - val_acc: 0.5145\n",
      "Epoch 18/20\n",
      "64/65 [============================>.] - ETA: 0s - loss: 0.7786 - acc: 0.6558\n",
      "Epoch 00018: val_acc did not improve from 0.52567\n",
      "65/65 [==============================] - 11s 162ms/step - loss: 0.7782 - acc: 0.6567 - val_loss: 0.9496 - val_acc: 0.5190\n",
      "Epoch 19/20\n",
      "64/65 [============================>.] - ETA: 0s - loss: 0.7593 - acc: 0.6748\n",
      "Epoch 00019: val_acc did not improve from 0.52567\n",
      "65/65 [==============================] - 11s 164ms/step - loss: 0.7608 - acc: 0.6745 - val_loss: 0.9543 - val_acc: 0.5156\n",
      "Epoch 20/20\n",
      "64/65 [============================>.] - ETA: 0s - loss: 0.7416 - acc: 0.6885\n",
      "Epoch 00020: val_acc did not improve from 0.52567\n",
      "65/65 [==============================] - 11s 163ms/step - loss: 0.7411 - acc: 0.6880 - val_loss: 0.9468 - val_acc: 0.5223\n"
     ]
    }
   ],
   "source": [
    "# checkpoint \n",
    "multi_filepath = '/mnt/disks/user/project/Final_Models/base_multi_best_model.hdf5'\n",
    "checkpoint = ModelCheckpoint(multi_filepath, monitor='val_acc', verbose=1, save_best_only=True, mode='max')\n",
    "auc_logger = roc_callback()\n",
    "# fit: this will fit the net on 'ablation' samples, only 1 epoch\n",
    "multi_history = multi_base_model.fit_generator(generator = m_training_generator,\n",
    "                    validation_data = m_validation_generator,\n",
    "                    shuffle=True,\n",
    "                    epochs=20,\n",
    "                    callbacks=[checkpoint])"
   ]
  },
  {
   "cell_type": "code",
   "execution_count": 34,
   "metadata": {
    "scrolled": true
   },
   "outputs": [
    {
     "data": {
      "text/plain": [
       "<matplotlib.legend.Legend at 0x7fcf12e32518>"
      ]
     },
     "execution_count": 34,
     "metadata": {},
     "output_type": "execute_result"
    },
    {
     "data": {
      "image/png": "[encoded data removed]",
      "text/plain": [
       "<Figure size 432x288 with 1 Axes>"
      ]
     },
     "metadata": {},
     "output_type": "display_data"
    }
   ],
   "source": [
    "multi_acc = multi_history.history['acc']\n",
    "multi_val_acc = multi_history.history['val_acc']\n",
    "\n",
    "multi_epochs = range(len(multi_acc))\n",
    "\n",
    "plt.plot(multi_epochs, multi_acc, 'g', label='Training acc')\n",
    "plt.plot(multi_epochs, multi_val_acc, 'b', label='Validation acc')\n",
    "plt.title('Multi-Class Classification Base Model Accuracy')\n",
    "plt.legend()"
   ]
  },
  {
   "cell_type": "markdown",
   "metadata": {},
   "source": [
    "### Multi-Class Base Model Evaluation"
   ]
  },
  {
   "cell_type": "code",
   "execution_count": 35,
   "metadata": {},
   "outputs": [],
   "source": [
    "multi_test_generator = DataGenerator(m_test_X, m_test_set,n_classes=m_nb_classes,shuffle=False)"
   ]
  },
  {
   "cell_type": "code",
   "execution_count": 36,
   "metadata": {},
   "outputs": [],
   "source": [
    "#Load the best model\n",
    "multi_eval_base_model = load_model(multi_filepath)"
   ]
  },
  {
   "cell_type": "code",
   "execution_count": 37,
   "metadata": {},
   "outputs": [],
   "source": [
    "multi_predictions = multi_eval_base_model.predict_generator(multi_test_generator)"
   ]
  },
  {
   "cell_type": "code",
   "execution_count": 38,
   "metadata": {},
   "outputs": [],
   "source": [
    "multi_y_class = np.array(list(multi_test_generator.classes.values()))[:len(multi_predictions)]\n",
    "multi_y = keras.utils.to_categorical(multi_y_class, num_classes=m_nb_classes)"
   ]
  },
  {
   "cell_type": "code",
   "execution_count": 39,
   "metadata": {},
   "outputs": [],
   "source": [
    "multi_prob_max = multi_predictions.max(axis=1).reshape(-1, 1)\n",
    "multi_y_pred = np.where(multi_predictions == multi_prob_max, 1, 0)"
   ]
  },
  {
   "cell_type": "code",
   "execution_count": 40,
   "metadata": {},
   "outputs": [],
   "source": [
    "multi_pred = np.argmax(multi_predictions, axis=-1)"
   ]
  },
  {
   "cell_type": "code",
   "execution_count": 41,
   "metadata": {},
   "outputs": [
    {
     "data": {
      "text/plain": [
       "896"
      ]
     },
     "execution_count": 41,
     "metadata": {},
     "output_type": "execute_result"
    }
   ],
   "source": [
    "len(multi_y_pred)"
   ]
  },
  {
   "cell_type": "code",
   "execution_count": 42,
   "metadata": {},
   "outputs": [
    {
     "data": {
      "text/plain": [
       "896"
      ]
     },
     "execution_count": 42,
     "metadata": {},
     "output_type": "execute_result"
    }
   ],
   "source": [
    "len(multi_y)"
   ]
  },
  {
   "cell_type": "code",
   "execution_count": 43,
   "metadata": {},
   "outputs": [
    {
     "data": {
      "text/plain": [
       "Counter({1: 379, 0: 144, 2: 373})"
      ]
     },
     "execution_count": 43,
     "metadata": {},
     "output_type": "execute_result"
    }
   ],
   "source": [
    "Counter(multi_pred)"
   ]
  },
  {
   "cell_type": "code",
   "execution_count": 44,
   "metadata": {},
   "outputs": [
    {
     "name": "stdout",
     "output_type": "stream",
     "text": [
      "Multi-Class Base Model Test Score  0.5256696428571429\n"
     ]
    }
   ],
   "source": [
    "multi_score_test = metrics.accuracy_score(multi_y, multi_y_pred)\n",
    "print('Multi-Class Base Model Test Score ',multi_score_test)"
   ]
  },
  {
   "cell_type": "code",
   "execution_count": 45,
   "metadata": {},
   "outputs": [
    {
     "name": "stdout",
     "output_type": "stream",
     "text": [
      "[[ 65 122 112]\n",
      " [ 42 201  56]\n",
      " [ 37  56 205]]\n"
     ]
    }
   ],
   "source": [
    "multi_cm = confusion_matrix(multi_y_class, multi_pred)\n",
    "print(multi_cm)"
   ]
  },
  {
   "cell_type": "code",
   "execution_count": 46,
   "metadata": {
    "scrolled": true
   },
   "outputs": [
    {
     "name": "stdout",
     "output_type": "stream",
     "text": [
      "             precision    recall  f1-score   support\n",
      "\n",
      "          0       0.45      0.22      0.29       299\n",
      "          1       0.53      0.67      0.59       299\n",
      "          2       0.55      0.69      0.61       298\n",
      "\n",
      "avg / total       0.51      0.53      0.50       896\n",
      "\n"
     ]
    }
   ],
   "source": [
    "multi_report = classification_report(multi_y,multi_y_pred)\n",
    "print(multi_report)"
   ]
  },
  {
   "cell_type": "code",
   "execution_count": null,
   "metadata": {},
   "outputs": [],
   "source": []
  }
 ],
 "metadata": {
  "anaconda-cloud": {},
  "kernelspec": {
   "display_name": "Python 3",
   "language": "python",
   "name": "python3"
  },
  "language_info": {
   "codemirror_mode": {
    "name": "ipython",
    "version": 3
   },
   "file_extension": ".py",
   "mimetype": "text/x-python",
   "name": "python",
   "nbconvert_exporter": "python",
   "pygments_lexer": "ipython3",
   "version": "3.6.5"
  }
 },
 "nbformat": 4,
 "nbformat_minor": 1
}
