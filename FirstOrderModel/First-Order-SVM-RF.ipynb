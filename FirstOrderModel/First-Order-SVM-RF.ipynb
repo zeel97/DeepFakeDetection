{
 "cells": [
  {
   "cell_type": "markdown",
   "metadata": {},
   "source": [
    "## Transfer Learning: First Order Model\n",
    "\n",
    "**Objective**: Leverage the DeepFake generator model to improve the performance of DeepFake detection models\n",
    "\n",
    "**Hypothesis**: The hypothesis behind the model is that generator models have robust feature extraction, which if leveraged can lead to a significant improvement in the DeepFake detection accuracy\n",
    "\n",
    "**Notebook Division**:\n",
    "1. Load Dataset\n",
    "2. Pre-process Dataset\n",
    "3. Feature Extraction with First Order Model\n",
    "    1. Load Checkpoint\n",
    "    2. Extract different encoders/model segments\n",
    "    3. Predict Values\n",
    "4. Classification Models"
   ]
  },
  {
   "cell_type": "code",
   "execution_count": 1,
   "metadata": {},
   "outputs": [],
   "source": [
    "# Install the relevant code for First Order Model Animation\n",
    "# !git clone https://github.com/AliaksandrSiarohin/first-order-model"
   ]
  },
  {
   "cell_type": "code",
   "execution_count": 2,
   "metadata": {},
   "outputs": [],
   "source": [
    "# !python -m pip install -U scikit-image"
   ]
  },
  {
   "cell_type": "code",
   "execution_count": 3,
   "metadata": {},
   "outputs": [
    {
     "name": "stdout",
     "output_type": "stream",
     "text": [
      "/mnt/disks/user/project/first-order-model\n"
     ]
    }
   ],
   "source": [
    "cd ../first-order-model"
   ]
  },
  {
   "cell_type": "code",
   "execution_count": 4,
   "metadata": {},
   "outputs": [
    {
     "name": "stderr",
     "output_type": "stream",
     "text": [
      "/mnt/disks/user/anaconda3/lib/python3.6/site-packages/tensorflow/python/framework/dtypes.py:523: FutureWarning: Passing (type, 1) or '1type' as a synonym of type is deprecated; in a future version of numpy, it will be understood as (type, (1,)) / '(1,)type'.\n",
      "  _np_qint8 = np.dtype([(\"qint8\", np.int8, 1)])\n",
      "/mnt/disks/user/anaconda3/lib/python3.6/site-packages/tensorflow/python/framework/dtypes.py:524: FutureWarning: Passing (type, 1) or '1type' as a synonym of type is deprecated; in a future version of numpy, it will be understood as (type, (1,)) / '(1,)type'.\n",
      "  _np_quint8 = np.dtype([(\"quint8\", np.uint8, 1)])\n",
      "/mnt/disks/user/anaconda3/lib/python3.6/site-packages/tensorflow/python/framework/dtypes.py:525: FutureWarning: Passing (type, 1) or '1type' as a synonym of type is deprecated; in a future version of numpy, it will be understood as (type, (1,)) / '(1,)type'.\n",
      "  _np_qint16 = np.dtype([(\"qint16\", np.int16, 1)])\n",
      "/mnt/disks/user/anaconda3/lib/python3.6/site-packages/tensorflow/python/framework/dtypes.py:526: FutureWarning: Passing (type, 1) or '1type' as a synonym of type is deprecated; in a future version of numpy, it will be understood as (type, (1,)) / '(1,)type'.\n",
      "  _np_quint16 = np.dtype([(\"quint16\", np.uint16, 1)])\n",
      "/mnt/disks/user/anaconda3/lib/python3.6/site-packages/tensorflow/python/framework/dtypes.py:527: FutureWarning: Passing (type, 1) or '1type' as a synonym of type is deprecated; in a future version of numpy, it will be understood as (type, (1,)) / '(1,)type'.\n",
      "  _np_qint32 = np.dtype([(\"qint32\", np.int32, 1)])\n",
      "/mnt/disks/user/anaconda3/lib/python3.6/site-packages/tensorflow/python/framework/dtypes.py:532: FutureWarning: Passing (type, 1) or '1type' as a synonym of type is deprecated; in a future version of numpy, it will be understood as (type, (1,)) / '(1,)type'.\n",
      "  np_resource = np.dtype([(\"resource\", np.ubyte, 1)])\n",
      "Using TensorFlow backend.\n",
      "/mnt/disks/user/anaconda3/lib/python3.6/site-packages/sklearn/ensemble/weight_boosting.py:29: DeprecationWarning: numpy.core.umath_tests is an internal NumPy module and should not be imported. It will be removed in a future NumPy release.\n",
      "  from numpy.core.umath_tests import inner1d\n"
     ]
    }
   ],
   "source": [
    "#Data processing\n",
    "from skimage import io\n",
    "import os\n",
    "import glob\n",
    "import tensorflow as tf\n",
    "import numpy as np\n",
    "from tensorflow.keras.preprocessing import image\n",
    "from keras.applications.vgg16 import preprocess_input\n",
    "from sklearn.preprocessing import LabelEncoder\n",
    "import random\n",
    "from collections import Counter\n",
    "\n",
    "#Feature Extraction\n",
    "from demo import load_checkpoints\n",
    "import torch\n",
    "\n",
    "# Models\n",
    "from sklearn.svm import SVC\n",
    "from sklearn import linear_model\n",
    "from sklearn.ensemble import RandomForestClassifier\n",
    "\n",
    "#Neural Network\n",
    "import keras\n",
    "from tensorflow.keras.layers import Dense, Dropout, Activation, Flatten\n",
    "from tensorflow.keras.layers import Conv2D, MaxPooling2D\n",
    "from tensorflow.keras.layers import LeakyReLU\n",
    "from tensorflow.keras.optimizers import Adam\n",
    "from tensorflow.keras.layers import GlobalAveragePooling2D\n",
    "from tensorflow.keras.models import Sequential\n",
    "from tensorflow.keras.models import Model\n",
    "from tensorflow.keras import Input\n",
    "from tensorflow.keras import optimizers\n",
    "from keras.callbacks import ModelCheckpoint,Callback\n",
    "import matplotlib.pyplot as plt\n",
    "\n",
    "\n",
    "#Evaluation\n",
    "from sklearn.metrics import roc_auc_score\n",
    "from sklearn.metrics import roc_curve\n",
    "from sklearn.metrics import classification_report\n",
    "from sklearn.metrics import confusion_matrix\n",
    "from keras.callbacks import ModelCheckpoint,Callback\n",
    "from keras.callbacks import ReduceLROnPlateau\n",
    "\n",
    "from sklearn import metrics\n",
    "from tensorflow.keras.models import load_model\n",
    "from sklearn.pipeline import Pipeline\n",
    "from sklearn.preprocessing import StandardScaler"
   ]
  },
  {
   "cell_type": "markdown",
   "metadata": {},
   "source": [
    "## Load Dataset"
   ]
  },
  {
   "cell_type": "code",
   "execution_count": 5,
   "metadata": {},
   "outputs": [],
   "source": [
    "# path to your dataset\n",
    "DATASET_PATH = '/mnt/disks/user/project/Dataset/'\n",
    "deepfake_class = ['FaceSwap/clean_frames', 'Reenactment/clean_frames','original/clean_frames']"
   ]
  },
  {
   "cell_type": "code",
   "execution_count": 6,
   "metadata": {},
   "outputs": [],
   "source": [
    "'''\n",
    "func: load the deepfake dataset and divide them into train and test with each having samples of the different classes\n",
    "input:\n",
    "    i.dataset_path: string: the main dataset folder path \n",
    "    ii.train_ratio: float: the ratio of the dataset that will be used for training the model. Eg: 0.8\n",
    "    iii. fake_class: string array: the different deepfake classes\n",
    "output:\n",
    "    i. train_set, test_set: dictionary of image paths as key and deepfake class as value\n",
    "    ii. X_train, X_test: array of image paths \n",
    "    iii. y_train, y_test: array of corresponding deepfake classes \n",
    "'''\n",
    "def MultiDatasetSplit(DATASET_PATH, train_ratio,fake_cls):\n",
    "    test_set = {}\n",
    "    train_set = {}\n",
    "    list_IDs = []\n",
    "    labels = {}\n",
    "    for i, cls in enumerate(fake_cls):\n",
    "        paths = glob.glob(os.path.join(DATASET_PATH, cls,'*/*.jpg'))\n",
    "        #balancing the dataset\n",
    "        balance_paths = random.sample(paths,2000)\n",
    "\n",
    "        brk_point = int(len(balance_paths)*train_ratio)\n",
    "        for j in range(len(balance_paths)):\n",
    "            if j <= brk_point:\n",
    "                train_set.update({balance_paths[j]:i})\n",
    "            else:\n",
    "                test_set.update({balance_paths[j]:i})\n",
    "    \n",
    "    X_train = [X for X in train_set.keys()] \n",
    "    y_train = [y for y in train_set.values()]\n",
    "    X_test = [X for X in test_set.keys()]\n",
    "    y_test = [y for y in test_set.values()]\n",
    "    return train_set, test_set, X_train,y_train, X_test, y_test"
   ]
  },
  {
   "cell_type": "code",
   "execution_count": 7,
   "metadata": {},
   "outputs": [],
   "source": [
    "'''\n",
    "func: load the deepfake dataset and divide them into train and test with each having samples of the different classes\n",
    "input:\n",
    "    i.dataset_path: string: the main dataset folder path \n",
    "    ii.train_ratio: float: the ratio of the dataset that will be used for training the model. Eg: 0.8\n",
    "    iii. fake_class: string array: the different deepfake classes\n",
    "output:\n",
    "    i. train_set, test_set: dictionary of image paths as key and deepfake class as value\n",
    "    ii. X_train, X_test: array of image paths \n",
    "    iii. y_train, y_test: array of corresponding deepfake classes \n",
    "'''\n",
    "def BinaryDatasetSplit(DATASET_PATH, train_ratio,fake_cls):\n",
    "    test_set = {}\n",
    "    train_set = {}\n",
    "    list_IDs = []\n",
    "    labels = {}\n",
    "    for i, cls in enumerate(fake_cls):\n",
    "        paths = glob.glob(os.path.join(DATASET_PATH, cls,'*/*.jpg'))\n",
    "        if i == 0:\n",
    "            paths = random.sample(paths,2000)\n",
    "        else:\n",
    "            paths = random.sample(paths,1000)\n",
    "        brk_point = int(len(paths)*train_ratio)\n",
    "        for j in range(len(paths)):\n",
    "            if j <= brk_point:\n",
    "                if i == 0:\n",
    "                    train_set.update({paths[j]:0})\n",
    "                else: \n",
    "                    train_set.update({paths[j]:1})\n",
    "            else:\n",
    "                if i == 0:\n",
    "                    test_set.update({paths[j]:0})\n",
    "                else:\n",
    "                    test_set.update({paths[j]:1})\n",
    "\n",
    "    X_train = [X for X in train_set.keys()] \n",
    "    y_train = [y for y in train_set.values()]\n",
    "    X_test = [X for X in test_set.keys()]\n",
    "    y_test = [y for y in test_set.values()]\n",
    "    return train_set, test_set, X_train,y_train, X_test, y_test"
   ]
  },
  {
   "cell_type": "code",
   "execution_count": 8,
   "metadata": {},
   "outputs": [],
   "source": [
    "b_train_set, b_test_set, b_train_X, b_train_y, b_test_X, b_test_y = BinaryDatasetSplit(DATASET_PATH,0.7,deepfake_class)"
   ]
  },
  {
   "cell_type": "code",
   "execution_count": 7,
   "metadata": {},
   "outputs": [],
   "source": [
    "m_train_set, m_test_set, m_train_X, m_train_y, m_test_X, m_test_y = MultiDatasetSplit(DATASET_PATH,0.7,deepfake_class)"
   ]
  },
  {
   "cell_type": "code",
   "execution_count": 10,
   "metadata": {},
   "outputs": [
    {
     "data": {
      "text/plain": [
       "Counter({0: 1401, 1: 1402})"
      ]
     },
     "execution_count": 10,
     "metadata": {},
     "output_type": "execute_result"
    }
   ],
   "source": [
    "Counter(b_train_set.values())"
   ]
  },
  {
   "cell_type": "code",
   "execution_count": 8,
   "metadata": {},
   "outputs": [
    {
     "data": {
      "text/plain": [
       "Counter({0: 1401, 1: 1401, 2: 1401})"
      ]
     },
     "execution_count": 8,
     "metadata": {},
     "output_type": "execute_result"
    }
   ],
   "source": [
    "Counter(m_train_set.values())"
   ]
  },
  {
   "cell_type": "code",
   "execution_count": 12,
   "metadata": {},
   "outputs": [
    {
     "data": {
      "text/plain": [
       "{0, 1}"
      ]
     },
     "execution_count": 12,
     "metadata": {},
     "output_type": "execute_result"
    }
   ],
   "source": [
    "set(b_test_set.values())"
   ]
  },
  {
   "cell_type": "code",
   "execution_count": 9,
   "metadata": {},
   "outputs": [
    {
     "data": {
      "text/plain": [
       "{0, 1, 2}"
      ]
     },
     "execution_count": 9,
     "metadata": {},
     "output_type": "execute_result"
    }
   ],
   "source": [
    "set(m_test_set.values())"
   ]
  },
  {
   "cell_type": "code",
   "execution_count": 10,
   "metadata": {},
   "outputs": [],
   "source": [
    "# specify image size and channels\n",
    "img_channels = 3\n",
    "img_rows = 224\n",
    "img_cols = 224\n",
    "\n",
    "# number of classes\n",
    "b_nb_classes = 2\n",
    "m_nb_classes = 3"
   ]
  },
  {
   "cell_type": "markdown",
   "metadata": {},
   "source": [
    "## Feature Extraction\n",
    "\n",
    "Load model and model checkpoints for Vox (from the other dataset models, Vox appears to be the most relevant and closest in content to the FaceForensics++ Dataset)\n"
   ]
  },
  {
   "cell_type": "code",
   "execution_count": 11,
   "metadata": {},
   "outputs": [],
   "source": [
    "config_path='config/vox-256.yaml' #data checkpoints\n",
    "checkpoint_path='../vox-cpk.pth.tar' #pyTorch Model"
   ]
  },
  {
   "cell_type": "code",
   "execution_count": 12,
   "metadata": {},
   "outputs": [],
   "source": [
    "#kp_detector model loads keypoints\n",
    "generator, kp_detector = load_checkpoints(config_path='config/vox-256.yaml', \n",
    "                            checkpoint_path='../vox-cpk.pth.tar')"
   ]
  },
  {
   "cell_type": "code",
   "execution_count": 13,
   "metadata": {
    "scrolled": true
   },
   "outputs": [],
   "source": [
    "#dir(generator.module)"
   ]
  },
  {
   "cell_type": "code",
   "execution_count": 14,
   "metadata": {},
   "outputs": [],
   "source": [
    "#dir(generator.module.down_blocks)\n",
    "#encoder.train()"
   ]
  },
  {
   "cell_type": "code",
   "execution_count": 15,
   "metadata": {},
   "outputs": [
    {
     "data": {
      "text/plain": [
       "Sequential(\n",
       "  (r0): ResBlock2d(\n",
       "    (conv1): Conv2d(256, 256, kernel_size=(3, 3), stride=(1, 1), padding=(1, 1))\n",
       "    (conv2): Conv2d(256, 256, kernel_size=(3, 3), stride=(1, 1), padding=(1, 1))\n",
       "    (norm1): SynchronizedBatchNorm2d(256, eps=1e-05, momentum=0.1, affine=True, track_running_stats=True)\n",
       "    (norm2): SynchronizedBatchNorm2d(256, eps=1e-05, momentum=0.1, affine=True, track_running_stats=True)\n",
       "  )\n",
       "  (r1): ResBlock2d(\n",
       "    (conv1): Conv2d(256, 256, kernel_size=(3, 3), stride=(1, 1), padding=(1, 1))\n",
       "    (conv2): Conv2d(256, 256, kernel_size=(3, 3), stride=(1, 1), padding=(1, 1))\n",
       "    (norm1): SynchronizedBatchNorm2d(256, eps=1e-05, momentum=0.1, affine=True, track_running_stats=True)\n",
       "    (norm2): SynchronizedBatchNorm2d(256, eps=1e-05, momentum=0.1, affine=True, track_running_stats=True)\n",
       "  )\n",
       "  (r2): ResBlock2d(\n",
       "    (conv1): Conv2d(256, 256, kernel_size=(3, 3), stride=(1, 1), padding=(1, 1))\n",
       "    (conv2): Conv2d(256, 256, kernel_size=(3, 3), stride=(1, 1), padding=(1, 1))\n",
       "    (norm1): SynchronizedBatchNorm2d(256, eps=1e-05, momentum=0.1, affine=True, track_running_stats=True)\n",
       "    (norm2): SynchronizedBatchNorm2d(256, eps=1e-05, momentum=0.1, affine=True, track_running_stats=True)\n",
       "  )\n",
       "  (r3): ResBlock2d(\n",
       "    (conv1): Conv2d(256, 256, kernel_size=(3, 3), stride=(1, 1), padding=(1, 1))\n",
       "    (conv2): Conv2d(256, 256, kernel_size=(3, 3), stride=(1, 1), padding=(1, 1))\n",
       "    (norm1): SynchronizedBatchNorm2d(256, eps=1e-05, momentum=0.1, affine=True, track_running_stats=True)\n",
       "    (norm2): SynchronizedBatchNorm2d(256, eps=1e-05, momentum=0.1, affine=True, track_running_stats=True)\n",
       "  )\n",
       "  (r4): ResBlock2d(\n",
       "    (conv1): Conv2d(256, 256, kernel_size=(3, 3), stride=(1, 1), padding=(1, 1))\n",
       "    (conv2): Conv2d(256, 256, kernel_size=(3, 3), stride=(1, 1), padding=(1, 1))\n",
       "    (norm1): SynchronizedBatchNorm2d(256, eps=1e-05, momentum=0.1, affine=True, track_running_stats=True)\n",
       "    (norm2): SynchronizedBatchNorm2d(256, eps=1e-05, momentum=0.1, affine=True, track_running_stats=True)\n",
       "  )\n",
       "  (r5): ResBlock2d(\n",
       "    (conv1): Conv2d(256, 256, kernel_size=(3, 3), stride=(1, 1), padding=(1, 1))\n",
       "    (conv2): Conv2d(256, 256, kernel_size=(3, 3), stride=(1, 1), padding=(1, 1))\n",
       "    (norm1): SynchronizedBatchNorm2d(256, eps=1e-05, momentum=0.1, affine=True, track_running_stats=True)\n",
       "    (norm2): SynchronizedBatchNorm2d(256, eps=1e-05, momentum=0.1, affine=True, track_running_stats=True)\n",
       "  )\n",
       ")"
      ]
     },
     "execution_count": 15,
     "metadata": {},
     "output_type": "execute_result"
    }
   ],
   "source": [
    "#get the pre-trained weights from the generator module\n",
    "encoder = generator.module.bottleneck\n",
    "encoder.train()"
   ]
  },
  {
   "cell_type": "markdown",
   "metadata": {},
   "source": [
    "## Data Processing\n",
    "\n",
    "Allow for batch-wise pre-processing of data"
   ]
  },
  {
   "cell_type": "code",
   "execution_count": 16,
   "metadata": {},
   "outputs": [],
   "source": [
    "'''\n",
    "func: process the image paths to return image values and respective labeled classes\n",
    "input:\n",
    "    i.batch_X: array of image paths \n",
    "    ii.batch_y: dictionary of image paths and their corresponding class\n",
    "output:\n",
    "    i. X: processed image data\n",
    "    ii. y_value: corresponding class values\n",
    "'''\n",
    "def PreProcess(batch_X, batch_y, batch_size=32, dimension=(256,256), n_channels=3):\n",
    "    X = np.empty((len(batch_X), *dimension, n_channels))\n",
    "    y = np.empty((len(batch_X)), dtype=int)\n",
    "    for i, image_path in enumerate(batch_X):\n",
    "        img = image.load_img(image_path, target_size=dimension)\n",
    "        img = image.img_to_array(img)\n",
    "        #img = img/255\n",
    "        img = preprocess_input(img)\n",
    "        X[i,] = img\n",
    "        y[i] = batch_y[image_path]\n",
    "        \n",
    "    #Extract features for batch-wise values\n",
    "    output = torch.tensor(X, dtype=torch.float).to('cuda')\n",
    "    output_val = encoder(output)\n",
    "    feature = output_val.cpu().data.numpy().reshape((32,256,256,-1))\n",
    "    \n",
    "    le = LabelEncoder()\n",
    "    y_value = le.fit_transform(y)\n",
    "    return feature,y_value"
   ]
  },
  {
   "cell_type": "code",
   "execution_count": 17,
   "metadata": {},
   "outputs": [],
   "source": [
    "'''\n",
    "func: Random Forest model for DeepFake classification \n",
    "input:\n",
    "    i.train_X: array list: image path for model training\n",
    "    ii.train_set : dictionary: of training image paths and corresponding class\n",
    "    iii. batch_size: int\n",
    "    iv. model: feature extractor model\n",
    "    v. epoch: int\n",
    "    vi. ablation: optional int value to simple ablation testing\n",
    "output:\n",
    "    i. classifier: trained random forest classifier model\n",
    "'''\n",
    "def Feature_Extraction(train_X,train_set, batch_size, ablation=None):\n",
    "\n",
    "    X = []\n",
    "    y = []\n",
    "    \n",
    "    #Select Data for fit\n",
    "    if ablation != None:\n",
    "        train_X = random.sample(train_X, ablation)\n",
    "        train_set = {image: train_set[image] for image in train_X }\n",
    "    #Getting the number of batches needed\n",
    "    batch_num = int(np.floor(len(train_X) / batch_size))\n",
    "    #For every batch in an epoch\n",
    "    for i in range(batch_num):\n",
    "        #Randomly select data for the batch\n",
    "        batch_X = random.sample(train_X, batch_size)\n",
    "        batch_y = {image: train_set[image] for image in batch_X}\n",
    "        #Preprocess batch data\n",
    "        X_val,y_val = PreProcess(batch_X, batch_y)\n",
    "        for i,val in enumerate(X_val):\n",
    "            val = val.flatten()\n",
    "            X.append(val)\n",
    "            y.append(y_val[i])\n",
    "\n",
    "    return X,y"
   ]
  },
  {
   "cell_type": "code",
   "execution_count": null,
   "metadata": {
    "scrolled": true
   },
   "outputs": [],
   "source": [
    "X_data,y_data = Feature_Extraction(b_train_X,b_train_set,32)"
   ]
  },
  {
   "cell_type": "code",
   "execution_count": 23,
   "metadata": {},
   "outputs": [
    {
     "data": {
      "text/plain": [
       "2784"
      ]
     },
     "execution_count": 23,
     "metadata": {},
     "output_type": "execute_result"
    }
   ],
   "source": [
    "len(X_data)"
   ]
  },
  {
   "cell_type": "code",
   "execution_count": 34,
   "metadata": {},
   "outputs": [],
   "source": [
    "b_classifier = RandomForestClassifier(bootstrap=True,\n",
    "                                      max_depth=12,\n",
    "                                      max_features=0.7,\n",
    "                                      n_estimators=100,\n",
    "                                      criterion='gini',\n",
    "                                      class_weight='balanced',\n",
    "                                      verbose=2\n",
    "                                     )"
   ]
  },
  {
   "cell_type": "code",
   "execution_count": 35,
   "metadata": {},
   "outputs": [
    {
     "name": "stdout",
     "output_type": "stream",
     "text": [
      "building tree 1 of 100\n"
     ]
    },
    {
     "name": "stderr",
     "output_type": "stream",
     "text": [
      "[Parallel(n_jobs=1)]: Done   1 out of   1 | elapsed:  4.0min remaining:    0.0s\n"
     ]
    },
    {
     "name": "stdout",
     "output_type": "stream",
     "text": [
      "building tree 2 of 100\n",
      "building tree 3 of 100\n",
      "building tree 4 of 100\n",
      "building tree 5 of 100\n",
      "building tree 6 of 100\n",
      "building tree 7 of 100\n",
      "building tree 8 of 100\n",
      "building tree 9 of 100\n",
      "building tree 10 of 100\n",
      "building tree 11 of 100\n",
      "building tree 12 of 100\n",
      "building tree 13 of 100\n",
      "building tree 14 of 100\n",
      "building tree 15 of 100\n",
      "building tree 16 of 100\n",
      "building tree 17 of 100\n",
      "building tree 18 of 100\n",
      "building tree 19 of 100\n",
      "building tree 20 of 100\n",
      "building tree 21 of 100\n",
      "building tree 22 of 100\n",
      "building tree 23 of 100\n",
      "building tree 24 of 100\n",
      "building tree 25 of 100\n",
      "building tree 26 of 100\n",
      "building tree 27 of 100\n",
      "building tree 28 of 100\n",
      "building tree 29 of 100\n",
      "building tree 30 of 100\n",
      "building tree 31 of 100\n",
      "building tree 32 of 100\n",
      "building tree 33 of 100\n",
      "building tree 34 of 100\n",
      "building tree 35 of 100\n",
      "building tree 36 of 100\n",
      "building tree 37 of 100\n",
      "building tree 38 of 100\n",
      "building tree 39 of 100\n",
      "building tree 40 of 100\n",
      "building tree 41 of 100\n",
      "building tree 42 of 100\n",
      "building tree 43 of 100\n",
      "building tree 44 of 100\n",
      "building tree 45 of 100\n",
      "building tree 46 of 100\n",
      "building tree 47 of 100\n",
      "building tree 48 of 100\n",
      "building tree 49 of 100\n",
      "building tree 50 of 100\n",
      "building tree 51 of 100\n",
      "building tree 52 of 100\n",
      "building tree 53 of 100\n",
      "building tree 54 of 100\n",
      "building tree 55 of 100\n",
      "building tree 56 of 100\n",
      "building tree 57 of 100\n",
      "building tree 58 of 100\n",
      "building tree 59 of 100\n",
      "building tree 60 of 100\n",
      "building tree 61 of 100\n",
      "building tree 62 of 100\n",
      "building tree 63 of 100\n",
      "building tree 64 of 100\n",
      "building tree 65 of 100\n",
      "building tree 66 of 100\n",
      "building tree 67 of 100\n",
      "building tree 68 of 100\n",
      "building tree 69 of 100\n",
      "building tree 70 of 100\n",
      "building tree 71 of 100\n",
      "building tree 72 of 100\n",
      "building tree 73 of 100\n",
      "building tree 74 of 100\n",
      "building tree 75 of 100\n",
      "building tree 76 of 100\n",
      "building tree 77 of 100\n",
      "building tree 78 of 100\n",
      "building tree 79 of 100\n",
      "building tree 80 of 100\n",
      "building tree 81 of 100\n",
      "building tree 82 of 100\n",
      "building tree 83 of 100\n",
      "building tree 84 of 100\n",
      "building tree 85 of 100\n",
      "building tree 86 of 100\n",
      "building tree 87 of 100\n",
      "building tree 88 of 100\n",
      "building tree 89 of 100\n",
      "building tree 90 of 100\n",
      "building tree 91 of 100\n",
      "building tree 92 of 100\n",
      "building tree 93 of 100\n",
      "building tree 94 of 100\n",
      "building tree 95 of 100\n",
      "building tree 96 of 100\n",
      "building tree 97 of 100\n",
      "building tree 98 of 100\n",
      "building tree 99 of 100\n",
      "building tree 100 of 100\n"
     ]
    },
    {
     "name": "stderr",
     "output_type": "stream",
     "text": [
      "[Parallel(n_jobs=1)]: Done 100 out of 100 | elapsed: 394.3min finished\n"
     ]
    },
    {
     "data": {
      "text/plain": [
       "RandomForestClassifier(bootstrap=True, class_weight='balanced',\n",
       "            criterion='gini', max_depth=12, max_features=0.7,\n",
       "            max_leaf_nodes=None, min_impurity_decrease=0.0,\n",
       "            min_impurity_split=None, min_samples_leaf=1,\n",
       "            min_samples_split=2, min_weight_fraction_leaf=0.0,\n",
       "            n_estimators=100, n_jobs=1, oob_score=False, random_state=None,\n",
       "            verbose=2, warm_start=False)"
      ]
     },
     "execution_count": 35,
     "metadata": {},
     "output_type": "execute_result"
    }
   ],
   "source": [
    "b_classifier.fit(X_data,y_data)"
   ]
  },
  {
   "cell_type": "code",
   "execution_count": 36,
   "metadata": {},
   "outputs": [
    {
     "name": "stderr",
     "output_type": "stream",
     "text": [
      "[Parallel(n_jobs=1)]: Done   1 out of   1 | elapsed:    0.0s remaining:    0.0s\n",
      "[Parallel(n_jobs=1)]: Done 100 out of 100 | elapsed:    0.1s finished\n"
     ]
    },
    {
     "data": {
      "text/plain": [
       "0.9992816091954023"
      ]
     },
     "execution_count": 36,
     "metadata": {},
     "output_type": "execute_result"
    }
   ],
   "source": [
    "b_classifier.score(X_data,y_data)"
   ]
  },
  {
   "cell_type": "markdown",
   "metadata": {},
   "source": [
    "### Random Forest Binary Evaluation"
   ]
  },
  {
   "cell_type": "code",
   "execution_count": 37,
   "metadata": {},
   "outputs": [],
   "source": [
    "b_test_feature, b_test_labels = Feature_Extraction(b_test_X, b_test_set, 32)"
   ]
  },
  {
   "cell_type": "code",
   "execution_count": 38,
   "metadata": {},
   "outputs": [
    {
     "name": "stderr",
     "output_type": "stream",
     "text": [
      "[Parallel(n_jobs=1)]: Done   1 out of   1 | elapsed:    0.0s remaining:    0.0s\n",
      "[Parallel(n_jobs=1)]: Done 100 out of 100 | elapsed:    0.0s finished\n"
     ]
    }
   ],
   "source": [
    "binary_y_pred = b_classifier.predict(b_test_feature)"
   ]
  },
  {
   "cell_type": "code",
   "execution_count": 39,
   "metadata": {},
   "outputs": [
    {
     "data": {
      "text/plain": [
       "Counter({0: 596, 1: 588})"
      ]
     },
     "execution_count": 39,
     "metadata": {},
     "output_type": "execute_result"
    }
   ],
   "source": [
    "Counter(binary_y_pred)"
   ]
  },
  {
   "cell_type": "code",
   "execution_count": 40,
   "metadata": {},
   "outputs": [
    {
     "name": "stdout",
     "output_type": "stream",
     "text": [
      "RF Model Test Score  0.6554054054054054\n"
     ]
    }
   ],
   "source": [
    "binary_score_test = metrics.accuracy_score(b_test_labels, binary_y_pred)\n",
    "print('RF Model Test Score ',binary_score_test)"
   ]
  },
  {
   "cell_type": "code",
   "execution_count": 41,
   "metadata": {},
   "outputs": [
    {
     "name": "stdout",
     "output_type": "stream",
     "text": [
      "[[389 201]\n",
      " [207 387]]\n"
     ]
    }
   ],
   "source": [
    "binary_cm = confusion_matrix(b_test_labels, binary_y_pred)\n",
    "print(binary_cm)"
   ]
  },
  {
   "cell_type": "code",
   "execution_count": 42,
   "metadata": {},
   "outputs": [
    {
     "name": "stdout",
     "output_type": "stream",
     "text": [
      "             precision    recall  f1-score   support\n",
      "\n",
      "          0       0.65      0.66      0.66       590\n",
      "          1       0.66      0.65      0.65       594\n",
      "\n",
      "avg / total       0.66      0.66      0.66      1184\n",
      "\n"
     ]
    }
   ],
   "source": [
    "binary_report = classification_report(b_test_labels,binary_y_pred)\n",
    "print(binary_report)"
   ]
  },
  {
   "cell_type": "code",
   "execution_count": 43,
   "metadata": {},
   "outputs": [
    {
     "data": {
      "text/plain": [
       "0.6554185927067282"
      ]
     },
     "execution_count": 43,
     "metadata": {},
     "output_type": "execute_result"
    }
   ],
   "source": [
    "roc_auc_score(b_test_labels, binary_y_pred)"
   ]
  },
  {
   "cell_type": "markdown",
   "metadata": {},
   "source": [
    "### Multi-Class Random Forest"
   ]
  },
  {
   "cell_type": "code",
   "execution_count": 24,
   "metadata": {
    "scrolled": true
   },
   "outputs": [],
   "source": [
    "m_X_data,m_y_data = Feature_Extraction(m_train_X,m_train_set,32)"
   ]
  },
  {
   "cell_type": "code",
   "execution_count": 25,
   "metadata": {},
   "outputs": [
    {
     "data": {
      "text/plain": [
       "4192"
      ]
     },
     "execution_count": 25,
     "metadata": {},
     "output_type": "execute_result"
    }
   ],
   "source": [
    "len(m_X_data)"
   ]
  },
  {
   "cell_type": "code",
   "execution_count": 26,
   "metadata": {},
   "outputs": [],
   "source": [
    "m_classifier = RandomForestClassifier(bootstrap=True,\n",
    "                                      max_depth=12,\n",
    "                                      max_features=0.7,\n",
    "                                      n_estimators=100,\n",
    "                                      criterion='gini',\n",
    "                                      class_weight='balanced',\n",
    "                                      verbose=2)"
   ]
  },
  {
   "cell_type": "code",
   "execution_count": 27,
   "metadata": {
    "scrolled": true
   },
   "outputs": [
    {
     "name": "stdout",
     "output_type": "stream",
     "text": [
      "building tree 1 of 100\n"
     ]
    },
    {
     "name": "stderr",
     "output_type": "stream",
     "text": [
      "[Parallel(n_jobs=1)]: Done   1 out of   1 | elapsed:  6.3min remaining:    0.0s\n"
     ]
    },
    {
     "name": "stdout",
     "output_type": "stream",
     "text": [
      "building tree 2 of 100\n",
      "building tree 3 of 100\n",
      "building tree 4 of 100\n",
      "building tree 5 of 100\n",
      "building tree 6 of 100\n",
      "building tree 7 of 100\n",
      "building tree 8 of 100\n",
      "building tree 9 of 100\n",
      "building tree 10 of 100\n",
      "building tree 11 of 100\n",
      "building tree 12 of 100\n",
      "building tree 13 of 100\n",
      "building tree 14 of 100\n",
      "building tree 15 of 100\n",
      "building tree 16 of 100\n",
      "building tree 17 of 100\n",
      "building tree 18 of 100\n",
      "building tree 19 of 100\n",
      "building tree 20 of 100\n",
      "building tree 21 of 100\n",
      "building tree 22 of 100\n",
      "building tree 23 of 100\n",
      "building tree 24 of 100\n",
      "building tree 25 of 100\n",
      "building tree 26 of 100\n",
      "building tree 27 of 100\n",
      "building tree 28 of 100\n",
      "building tree 29 of 100\n",
      "building tree 30 of 100\n",
      "building tree 31 of 100\n",
      "building tree 32 of 100\n",
      "building tree 33 of 100\n",
      "building tree 34 of 100\n",
      "building tree 35 of 100\n",
      "building tree 36 of 100\n",
      "building tree 37 of 100\n",
      "building tree 38 of 100\n",
      "building tree 39 of 100\n",
      "building tree 40 of 100\n",
      "building tree 41 of 100\n",
      "building tree 42 of 100\n",
      "building tree 43 of 100\n",
      "building tree 44 of 100\n",
      "building tree 45 of 100\n",
      "building tree 46 of 100\n",
      "building tree 47 of 100\n",
      "building tree 48 of 100\n",
      "building tree 49 of 100\n",
      "building tree 50 of 100\n",
      "building tree 51 of 100\n",
      "building tree 52 of 100\n",
      "building tree 53 of 100\n",
      "building tree 54 of 100\n",
      "building tree 55 of 100\n",
      "building tree 56 of 100\n",
      "building tree 57 of 100\n",
      "building tree 58 of 100\n",
      "building tree 59 of 100\n",
      "building tree 60 of 100\n",
      "building tree 61 of 100\n",
      "building tree 62 of 100\n",
      "building tree 63 of 100\n",
      "building tree 64 of 100\n",
      "building tree 65 of 100\n",
      "building tree 66 of 100\n",
      "building tree 67 of 100\n",
      "building tree 68 of 100\n",
      "building tree 69 of 100\n",
      "building tree 70 of 100\n",
      "building tree 71 of 100\n",
      "building tree 72 of 100\n",
      "building tree 73 of 100\n",
      "building tree 74 of 100\n",
      "building tree 75 of 100\n",
      "building tree 76 of 100\n",
      "building tree 77 of 100\n",
      "building tree 78 of 100\n",
      "building tree 79 of 100\n",
      "building tree 80 of 100\n",
      "building tree 81 of 100\n",
      "building tree 82 of 100\n",
      "building tree 83 of 100\n",
      "building tree 84 of 100\n",
      "building tree 85 of 100\n",
      "building tree 86 of 100\n",
      "building tree 87 of 100\n",
      "building tree 88 of 100\n",
      "building tree 89 of 100\n",
      "building tree 90 of 100\n",
      "building tree 91 of 100\n",
      "building tree 92 of 100\n",
      "building tree 93 of 100\n",
      "building tree 94 of 100\n",
      "building tree 95 of 100\n",
      "building tree 96 of 100\n",
      "building tree 97 of 100\n",
      "building tree 98 of 100\n",
      "building tree 99 of 100\n",
      "building tree 100 of 100\n"
     ]
    },
    {
     "name": "stderr",
     "output_type": "stream",
     "text": [
      "[Parallel(n_jobs=1)]: Done 100 out of 100 | elapsed: 601.5min finished\n"
     ]
    },
    {
     "data": {
      "text/plain": [
       "RandomForestClassifier(bootstrap=True, class_weight='balanced',\n",
       "            criterion='gini', max_depth=12, max_features=0.7,\n",
       "            max_leaf_nodes=None, min_impurity_decrease=0.0,\n",
       "            min_impurity_split=None, min_samples_leaf=1,\n",
       "            min_samples_split=2, min_weight_fraction_leaf=0.0,\n",
       "            n_estimators=100, n_jobs=1, oob_score=False, random_state=None,\n",
       "            verbose=2, warm_start=False)"
      ]
     },
     "execution_count": 27,
     "metadata": {},
     "output_type": "execute_result"
    }
   ],
   "source": [
    "m_classifier.fit(m_X_data,m_y_data)"
   ]
  },
  {
   "cell_type": "code",
   "execution_count": 28,
   "metadata": {},
   "outputs": [
    {
     "name": "stderr",
     "output_type": "stream",
     "text": [
      "[Parallel(n_jobs=1)]: Done   1 out of   1 | elapsed:    0.0s remaining:    0.0s\n",
      "[Parallel(n_jobs=1)]: Done 100 out of 100 | elapsed:    0.2s finished\n"
     ]
    },
    {
     "data": {
      "text/plain": [
       "1.0"
      ]
     },
     "execution_count": 28,
     "metadata": {},
     "output_type": "execute_result"
    }
   ],
   "source": [
    "m_classifier.score(m_X_data,m_y_data)"
   ]
  },
  {
   "cell_type": "markdown",
   "metadata": {},
   "source": [
    "### Random Forest Multi Evaluation"
   ]
  },
  {
   "cell_type": "code",
   "execution_count": 29,
   "metadata": {},
   "outputs": [],
   "source": [
    "m_test_feature, m_test_labels = Feature_Extraction(m_test_X, m_test_set, 32)"
   ]
  },
  {
   "cell_type": "code",
   "execution_count": 30,
   "metadata": {},
   "outputs": [
    {
     "name": "stderr",
     "output_type": "stream",
     "text": [
      "[Parallel(n_jobs=1)]: Done   1 out of   1 | elapsed:    0.0s remaining:    0.0s\n",
      "[Parallel(n_jobs=1)]: Done 100 out of 100 | elapsed:    0.1s finished\n"
     ]
    }
   ],
   "source": [
    "multi_y_pred = m_classifier.predict(m_test_feature)"
   ]
  },
  {
   "cell_type": "code",
   "execution_count": 31,
   "metadata": {},
   "outputs": [
    {
     "data": {
      "text/plain": [
       "Counter({1: 896, 0: 574, 2: 322})"
      ]
     },
     "execution_count": 31,
     "metadata": {},
     "output_type": "execute_result"
    }
   ],
   "source": [
    "Counter(multi_y_pred)"
   ]
  },
  {
   "cell_type": "code",
   "execution_count": 32,
   "metadata": {},
   "outputs": [
    {
     "name": "stdout",
     "output_type": "stream",
     "text": [
      "RF Model Test Score  0.5234375\n"
     ]
    }
   ],
   "source": [
    "multi_score_test = metrics.accuracy_score(m_test_labels, multi_y_pred)\n",
    "print('RF Model Test Score ',multi_score_test)"
   ]
  },
  {
   "cell_type": "code",
   "execution_count": 33,
   "metadata": {},
   "outputs": [
    {
     "name": "stdout",
     "output_type": "stream",
     "text": [
      "[[316 169  88]\n",
      " [ 58 471  83]\n",
      " [200 256 151]]\n"
     ]
    }
   ],
   "source": [
    "multi_cm = confusion_matrix(m_test_labels, multi_y_pred)\n",
    "print(multi_cm)"
   ]
  },
  {
   "cell_type": "code",
   "execution_count": 34,
   "metadata": {},
   "outputs": [
    {
     "name": "stdout",
     "output_type": "stream",
     "text": [
      "             precision    recall  f1-score   support\n",
      "\n",
      "          0       0.55      0.55      0.55       573\n",
      "          1       0.53      0.77      0.62       612\n",
      "          2       0.47      0.25      0.33       607\n",
      "\n",
      "avg / total       0.51      0.52      0.50      1792\n",
      "\n"
     ]
    }
   ],
   "source": [
    "multi_report = classification_report(m_test_labels,multi_y_pred)\n",
    "print(multi_report)"
   ]
  },
  {
   "cell_type": "markdown",
   "metadata": {},
   "source": [
    "## SVM Models\n",
    "\n",
    "\n",
    "### SVM Binary"
   ]
  },
  {
   "cell_type": "code",
   "execution_count": 24,
   "metadata": {},
   "outputs": [],
   "source": [
    "b_classifier = Pipeline([('scaler', StandardScaler()), ('svc', SVC(kernel='rbf', max_iter=1000, C=100, gamma=0.001, class_weight='balanced',verbose=1))])"
   ]
  },
  {
   "cell_type": "code",
   "execution_count": 25,
   "metadata": {},
   "outputs": [
    {
     "name": "stdout",
     "output_type": "stream",
     "text": [
      "[LibSVM]"
     ]
    },
    {
     "name": "stderr",
     "output_type": "stream",
     "text": [
      "/mnt/disks/user/anaconda3/lib/python3.6/site-packages/sklearn/svm/base.py:218: ConvergenceWarning: Solver terminated early (max_iter=1000).  Consider pre-processing your data with StandardScaler or MinMaxScaler.\n",
      "  % self.max_iter, ConvergenceWarning)\n"
     ]
    },
    {
     "data": {
      "text/plain": [
       "Pipeline(memory=None,\n",
       "     steps=[('scaler', StandardScaler(copy=True, with_mean=True, with_std=True)), ('svc', SVC(C=100, cache_size=200, class_weight='balanced', coef0=0.0,\n",
       "  decision_function_shape='ovr', degree=3, gamma=0.001, kernel='rbf',\n",
       "  max_iter=1000, probability=False, random_state=None, shrinking=True,\n",
       "  tol=0.001, verbose=1))])"
      ]
     },
     "execution_count": 25,
     "metadata": {},
     "output_type": "execute_result"
    }
   ],
   "source": [
    "b_classifier.fit(X_data,y_data)"
   ]
  },
  {
   "cell_type": "code",
   "execution_count": 26,
   "metadata": {},
   "outputs": [],
   "source": [
    "#b_classifier.score(X_data,y_data)"
   ]
  },
  {
   "cell_type": "markdown",
   "metadata": {},
   "source": [
    "### SVM Binary Evaluation"
   ]
  },
  {
   "cell_type": "code",
   "execution_count": 27,
   "metadata": {},
   "outputs": [],
   "source": [
    "b_test_feature, b_test_labels = Feature_Extraction(b_test_X, b_test_set, 32)"
   ]
  },
  {
   "cell_type": "code",
   "execution_count": 28,
   "metadata": {},
   "outputs": [],
   "source": [
    "binary_y_pred = b_classifier.predict(b_test_feature)"
   ]
  },
  {
   "cell_type": "code",
   "execution_count": 29,
   "metadata": {},
   "outputs": [
    {
     "data": {
      "text/plain": [
       "Counter({0: 1184})"
      ]
     },
     "execution_count": 29,
     "metadata": {},
     "output_type": "execute_result"
    }
   ],
   "source": [
    "Counter(binary_y_pred)"
   ]
  },
  {
   "cell_type": "code",
   "execution_count": 30,
   "metadata": {},
   "outputs": [
    {
     "name": "stdout",
     "output_type": "stream",
     "text": [
      "SVM Model Test Score  0.49577702702702703\n"
     ]
    }
   ],
   "source": [
    "binary_score_test = metrics.accuracy_score(b_test_labels, binary_y_pred)\n",
    "print('SVM Model Test Score ',binary_score_test)"
   ]
  },
  {
   "cell_type": "code",
   "execution_count": 31,
   "metadata": {},
   "outputs": [
    {
     "name": "stdout",
     "output_type": "stream",
     "text": [
      "[[587   0]\n",
      " [597   0]]\n"
     ]
    }
   ],
   "source": [
    "binary_cm = confusion_matrix(b_test_labels, binary_y_pred)\n",
    "print(binary_cm)"
   ]
  },
  {
   "cell_type": "code",
   "execution_count": 32,
   "metadata": {},
   "outputs": [
    {
     "name": "stdout",
     "output_type": "stream",
     "text": [
      "             precision    recall  f1-score   support\n",
      "\n",
      "          0       0.50      1.00      0.66       587\n",
      "          1       0.00      0.00      0.00       597\n",
      "\n",
      "avg / total       0.25      0.50      0.33      1184\n",
      "\n"
     ]
    },
    {
     "name": "stderr",
     "output_type": "stream",
     "text": [
      "/mnt/disks/user/anaconda3/lib/python3.6/site-packages/sklearn/metrics/classification.py:1135: UndefinedMetricWarning: Precision and F-score are ill-defined and being set to 0.0 in labels with no predicted samples.\n",
      "  'precision', 'predicted', average, warn_for)\n"
     ]
    }
   ],
   "source": [
    "binary_report = classification_report(b_test_labels,binary_y_pred)\n",
    "print(binary_report)"
   ]
  },
  {
   "cell_type": "code",
   "execution_count": 33,
   "metadata": {},
   "outputs": [
    {
     "data": {
      "text/plain": [
       "0.5"
      ]
     },
     "execution_count": 33,
     "metadata": {},
     "output_type": "execute_result"
    }
   ],
   "source": [
    "roc_auc_score(b_test_labels, binary_y_pred)"
   ]
  },
  {
   "cell_type": "markdown",
   "metadata": {},
   "source": [
    "### Multi-Class SVM"
   ]
  },
  {
   "cell_type": "code",
   "execution_count": 18,
   "metadata": {
    "scrolled": true
   },
   "outputs": [],
   "source": [
    "m_X_data,m_y_data = Feature_Extraction(m_train_X,m_train_set,32)"
   ]
  },
  {
   "cell_type": "code",
   "execution_count": 19,
   "metadata": {},
   "outputs": [
    {
     "data": {
      "text/plain": [
       "4192"
      ]
     },
     "execution_count": 19,
     "metadata": {},
     "output_type": "execute_result"
    }
   ],
   "source": [
    "len(m_X_data)"
   ]
  },
  {
   "cell_type": "code",
   "execution_count": 20,
   "metadata": {},
   "outputs": [],
   "source": [
    "m_classifier = Pipeline([('scaler', StandardScaler()), ('svc', SVC(kernel='rbf', max_iter=1000, C=100, gamma=0.001, class_weight='balanced',verbose=2))])"
   ]
  },
  {
   "cell_type": "code",
   "execution_count": 21,
   "metadata": {},
   "outputs": [
    {
     "name": "stdout",
     "output_type": "stream",
     "text": [
      "[LibSVM]"
     ]
    },
    {
     "name": "stderr",
     "output_type": "stream",
     "text": [
      "/mnt/disks/user/anaconda3/lib/python3.6/site-packages/sklearn/svm/base.py:218: ConvergenceWarning: Solver terminated early (max_iter=1000).  Consider pre-processing your data with StandardScaler or MinMaxScaler.\n",
      "  % self.max_iter, ConvergenceWarning)\n"
     ]
    },
    {
     "data": {
      "text/plain": [
       "Pipeline(memory=None,\n",
       "     steps=[('scaler', StandardScaler(copy=True, with_mean=True, with_std=True)), ('svc', SVC(C=100, cache_size=200, class_weight='balanced', coef0=0.0,\n",
       "  decision_function_shape='ovr', degree=3, gamma=0.001, kernel='rbf',\n",
       "  max_iter=1000, probability=False, random_state=None, shrinking=True,\n",
       "  tol=0.001, verbose=2))])"
      ]
     },
     "execution_count": 21,
     "metadata": {},
     "output_type": "execute_result"
    }
   ],
   "source": [
    "m_classifier.fit(m_X_data,m_y_data)"
   ]
  },
  {
   "cell_type": "code",
   "execution_count": 22,
   "metadata": {},
   "outputs": [],
   "source": [
    "#m_classifier.score(m_X_data,m_y_data)"
   ]
  },
  {
   "cell_type": "markdown",
   "metadata": {},
   "source": [
    "### SVM Multi Evaluation"
   ]
  },
  {
   "cell_type": "code",
   "execution_count": 23,
   "metadata": {},
   "outputs": [],
   "source": [
    "m_test_feature, m_test_labels = Feature_Extraction(m_test_X, m_test_set, 32)"
   ]
  },
  {
   "cell_type": "code",
   "execution_count": 24,
   "metadata": {},
   "outputs": [],
   "source": [
    "multi_y_pred = m_classifier.predict(m_test_feature)"
   ]
  },
  {
   "cell_type": "code",
   "execution_count": 25,
   "metadata": {},
   "outputs": [
    {
     "data": {
      "text/plain": [
       "Counter({1: 1792})"
      ]
     },
     "execution_count": 25,
     "metadata": {},
     "output_type": "execute_result"
    }
   ],
   "source": [
    "Counter(multi_y_pred)"
   ]
  },
  {
   "cell_type": "code",
   "execution_count": 26,
   "metadata": {},
   "outputs": [
    {
     "name": "stdout",
     "output_type": "stream",
     "text": [
      "RF Model Test Score  0.32533482142857145\n"
     ]
    }
   ],
   "source": [
    "multi_score_test = metrics.accuracy_score(m_test_labels, multi_y_pred)\n",
    "print('RF Model Test Score ',multi_score_test)"
   ]
  },
  {
   "cell_type": "code",
   "execution_count": 27,
   "metadata": {},
   "outputs": [
    {
     "name": "stdout",
     "output_type": "stream",
     "text": [
      "[[  0 588   0]\n",
      " [  0 583   0]\n",
      " [  0 621   0]]\n"
     ]
    }
   ],
   "source": [
    "multi_cm = confusion_matrix(m_test_labels, multi_y_pred)\n",
    "print(multi_cm)"
   ]
  },
  {
   "cell_type": "code",
   "execution_count": 28,
   "metadata": {},
   "outputs": [
    {
     "name": "stdout",
     "output_type": "stream",
     "text": [
      "             precision    recall  f1-score   support\n",
      "\n",
      "          0       0.00      0.00      0.00       588\n",
      "          1       0.33      1.00      0.49       583\n",
      "          2       0.00      0.00      0.00       621\n",
      "\n",
      "avg / total       0.11      0.33      0.16      1792\n",
      "\n"
     ]
    },
    {
     "name": "stderr",
     "output_type": "stream",
     "text": [
      "/mnt/disks/user/anaconda3/lib/python3.6/site-packages/sklearn/metrics/classification.py:1135: UndefinedMetricWarning: Precision and F-score are ill-defined and being set to 0.0 in labels with no predicted samples.\n",
      "  'precision', 'predicted', average, warn_for)\n"
     ]
    }
   ],
   "source": [
    "multi_report = classification_report(m_test_labels,multi_y_pred)\n",
    "print(multi_report)"
   ]
  },
  {
   "cell_type": "code",
   "execution_count": null,
   "metadata": {},
   "outputs": [],
   "source": []
  },
  {
   "cell_type": "code",
   "execution_count": null,
   "metadata": {},
   "outputs": [],
   "source": []
  },
  {
   "cell_type": "code",
   "execution_count": null,
   "metadata": {},
   "outputs": [],
   "source": []
  },
  {
   "cell_type": "code",
   "execution_count": null,
   "metadata": {},
   "outputs": [],
   "source": []
  },
  {
   "cell_type": "code",
   "execution_count": null,
   "metadata": {},
   "outputs": [],
   "source": []
  },
  {
   "cell_type": "code",
   "execution_count": null,
   "metadata": {},
   "outputs": [],
   "source": []
  },
  {
   "cell_type": "code",
   "execution_count": null,
   "metadata": {},
   "outputs": [],
   "source": []
  },
  {
   "cell_type": "code",
   "execution_count": null,
   "metadata": {},
   "outputs": [],
   "source": []
  },
  {
   "cell_type": "code",
   "execution_count": null,
   "metadata": {},
   "outputs": [],
   "source": []
  },
  {
   "cell_type": "code",
   "execution_count": null,
   "metadata": {},
   "outputs": [],
   "source": []
  },
  {
   "cell_type": "code",
   "execution_count": null,
   "metadata": {},
   "outputs": [],
   "source": []
  },
  {
   "cell_type": "code",
   "execution_count": null,
   "metadata": {},
   "outputs": [],
   "source": []
  },
  {
   "cell_type": "code",
   "execution_count": null,
   "metadata": {},
   "outputs": [],
   "source": []
  },
  {
   "cell_type": "markdown",
   "metadata": {},
   "source": [
    "### Random Forest"
   ]
  },
  {
   "cell_type": "code",
   "execution_count": null,
   "metadata": {},
   "outputs": [],
   "source": [
    "def PreProcess(batch_X, batch_y, batch_size=32, dimension=(256,256), n_channels=3, n_classes=2):\n",
    "    X = np.empty((batch_size, *dimension, n_channels))\n",
    "    y = np.empty((batch_size), dtype=int)\n",
    "    for i, image_path in enumerate(batch_X):\n",
    "        img = image.load_img(image_path, target_size=dimension)\n",
    "        img = image.img_to_array(img)\n",
    "        #img = img/255\n",
    "        img = preprocess_input(img)\n",
    "        X[i,] = img\n",
    "        y[i] = batch_y[image_path]\n",
    "        \n",
    "   #Extract features for batch-wise values\n",
    "    output = torch.tensor(X, dtype=torch.float).to('cuda')\n",
    "    output_val = encoder(output)\n",
    "    feature = output_val.cpu().data.numpy().reshape(32,256,256,-1)\n",
    "    #class encoding to 0,1,2\n",
    "#         le = LabelEncoder()\n",
    "#         self.y_value = le.fit_transform(y)\n",
    "    return feature,keras.utils.to_categorical(y, num_classes=n_classes)"
   ]
  },
  {
   "cell_type": "code",
   "execution_count": null,
   "metadata": {},
   "outputs": [],
   "source": [
    "'''\n",
    "func: Random Forest model for DeepFake classification \n",
    "input:\n",
    "    i.train_X: array list: image path for model training\n",
    "    ii.train_set : dictionary: of training image paths and corresponding class\n",
    "    iii. batch_size: int\n",
    "    iv. model: feature extractor model\n",
    "    v. epoch: int\n",
    "    vi. ablation: optional int value to simple ablation testing\n",
    "output:\n",
    "    i. classifier: trained random forest classifier model\n",
    "'''\n",
    "def Random_Forest_Model(train_X,train_set, batch_size,model,epoch, ablation=None):\n",
    "    classifier = RandomForestClassifier(bootstrap=True,\n",
    "                             max_depth=12,\n",
    "                             max_features=0.7,\n",
    "                             n_estimators=100,\n",
    "                             criterion='gini',\n",
    "                             class_weight='balanced'\n",
    "                            )\n",
    "    #Select Data for fit\n",
    "    if ablation != None:\n",
    "        train_X = random.sample(train_X, ablation)\n",
    "        train_set = {image: train_set[image] for image in train_X }\n",
    "    #Getting the number of batches needed\n",
    "    batch_num = int(np.floor(len(train_X) / batch_size))\n",
    "    #For every epoch\n",
    "    for j in range(epoch):\n",
    "        #For every batch in an epoch\n",
    "        for i in range(batch_num):\n",
    "            #Randomly select data for the batch\n",
    "            batch_X = random.sample(train_X, batch_size)\n",
    "            batch_y = {image: train_set[image] for image in batch_X}\n",
    "            #Preprocess batch data\n",
    "            X,y = PreProcess(batch_X, batch_y)\n",
    "            #Extract features from model\n",
    "            print(X)\n",
    "            features = model(X)\n",
    "            classifier.fit(features, y)\n",
    "    \n",
    "    pred_train = classifier.predict(features)\n",
    "    score_train = metrics.accuracy_score(y, pred_train)\n",
    "    print('Random Forest Trained Score ',score_train)\n",
    "    return classifier"
   ]
  },
  {
   "cell_type": "code",
   "execution_count": null,
   "metadata": {},
   "outputs": [],
   "source": [
    "rf_classifier = Random_Forest_Model(b_train_X,b_train_set,32,encoder,10,50)"
   ]
  },
  {
   "cell_type": "code",
   "execution_count": null,
   "metadata": {},
   "outputs": [],
   "source": [
    "rfc = RandomForestClassifier(bootstrap=True,\n",
    "                             max_depth=12,\n",
    "                             max_features=0.7,\n",
    "                             n_estimators=100,\n",
    "                             criterion='gini',\n",
    "                             class_weight='balanced'\n",
    "                            )"
   ]
  },
  {
   "cell_type": "code",
   "execution_count": null,
   "metadata": {},
   "outputs": [],
   "source": [
    "# fit\n",
    "rfc.fit(features,labels)"
   ]
  },
  {
   "cell_type": "markdown",
   "metadata": {},
   "source": [
    "### Evaluate"
   ]
  },
  {
   "cell_type": "code",
   "execution_count": null,
   "metadata": {},
   "outputs": [],
   "source": []
  },
  {
   "cell_type": "code",
   "execution_count": null,
   "metadata": {},
   "outputs": [],
   "source": [
    "'''\n",
    "func: SVM model for DeepFake classification \n",
    "input:\n",
    "    i.train_X: array list: image path for model training\n",
    "    ii.train_set : dictionary: of training image paths and corresponding class\n",
    "    iii. batch_size: int\n",
    "    iv. model: feature extractor model\n",
    "    v. epoch: int\n",
    "    vi. ablation: optional int value to simple ablation testing\n",
    "'''\n",
    "def RandomForest(train_X, train_set,batch_size,model,epoch,ablation=None):\n",
    "    #Model Initialisation\n",
    "    svm = linear_model.SGDClassifier()\n",
    "    \n",
    "    #Select Data for fit\n",
    "    if ablation != None:\n",
    "        train_X = random.sample(train_X, ablation)\n",
    "        train_set = {image: train_set[image] for image in train_X }\n",
    "    #Getting the number of batches needed\n",
    "    batch_num = int(np.floor(len(train_X) / batch_size))\n",
    "    #For every epoch\n",
    "    for j in range(epoch):\n",
    "        #For every batch in an epoch\n",
    "        for i in range(batch_num):\n",
    "            #Randomly select data for the batch\n",
    "            batch_X = random.sample(train_X, batch_size)\n",
    "            batch_y = {image: train_set[image] for image in batch_X}\n",
    "            #Preprocess batch data\n",
    "            X,y = PreProcess(batch_X, batch_y)\n",
    "            #Extract features from model\n",
    "            output = feature_model(model,X)\n",
    "            features = output.cpu().data.numpy().reshape(32,-1)\n",
    "            #Partial fit a model\n",
    "            #print(features,y)\n",
    "            svm.partial_fit(features,y,classes=[0,1])\n",
    "            print('Epoch ',j, svm.score(features,y))\n",
    "    print('fitting done !!!')\n",
    "    return svm"
   ]
  },
  {
   "cell_type": "code",
   "execution_count": null,
   "metadata": {},
   "outputs": [],
   "source": [
    "#Train SVM model\n",
    "b_feature_val,b_label = SVM_model(b_train_X,b_train_set,32,encoder,20,ablation=100)"
   ]
  },
  {
   "cell_type": "code",
   "execution_count": null,
   "metadata": {},
   "outputs": [],
   "source": []
  },
  {
   "cell_type": "code",
   "execution_count": null,
   "metadata": {},
   "outputs": [],
   "source": [
    "'''\n",
    "func: SVM model for DeepFake classification \n",
    "input:\n",
    "    i.train_X: array list: image path for model training\n",
    "    ii.train_set : dictionary: of training image paths and corresponding class\n",
    "    iii. batch_size: int\n",
    "    iv. model: feature extractor model\n",
    "    v. epoch: int\n",
    "    vi. ablation: optional int value to simple ablation testing\n",
    "'''\n",
    "def Feature_Extractor(train_X, train_set,model,ablation=None):   \n",
    "    feature_val = []\n",
    "    labels = []\n",
    "    #Select Data for fit\n",
    "    if ablation != None:\n",
    "        train_X = random.sample(train_X, ablation)\n",
    "        train_set = {image: train_set[image] for image in train_X }\n",
    "    #Preprocess batch data\n",
    "    X,y = PreProcess(train_X, train_set)\n",
    "    #Extract features from model\n",
    "    print(len(X))\n",
    "    output = feature_model(model,X)\n",
    "    features = output.cpu().data.numpy().reshape(len(),256,256,-1)\n",
    "    flat = features.flatten()\n",
    "    print('flatten', len(flat))\n",
    "    feature_val.append(flat)\n",
    "    labels.append(y)\n",
    "    print(len(feature_val))\n",
    "    #Partial fit a model\n",
    "    #print(features,y)\n",
    "    print('fitting done !!!')\n",
    "    return feature_val,labels"
   ]
  },
  {
   "cell_type": "code",
   "execution_count": null,
   "metadata": {},
   "outputs": [],
   "source": [
    "b_feature_val,b_label = Feature_Extractor(b_train_X,b_train_set,model=encoder,ablation=100)"
   ]
  },
  {
   "cell_type": "code",
   "execution_count": null,
   "metadata": {},
   "outputs": [],
   "source": [
    "print(len(b_feature_val))\n",
    "print(len(b_label))"
   ]
  },
  {
   "cell_type": "code",
   "execution_count": null,
   "metadata": {},
   "outputs": [],
   "source": [
    "pipe = Pipeline([('scaler', StandardScaler()), ('svc', SVC(kernel='rbf', max_iter=1000, C=100, gamma=0.001, class_weight='balanced'))])\n",
    "pipe.fit(b_feature_val,b_label)"
   ]
  },
  {
   "cell_type": "code",
   "execution_count": null,
   "metadata": {},
   "outputs": [],
   "source": []
  },
  {
   "cell_type": "code",
   "execution_count": null,
   "metadata": {},
   "outputs": [],
   "source": [
    "#b_test_feature, b_test_labels = FeatureExtraction(b_test_X, b_test_set)\n",
    "X,y = PreProcess(b_test_X, b_test_set,batch_size=len(b_test_X))\n",
    "#Extract features from model\n",
    "output = feature_model(encoder,X)\n",
    "features = output.cpu().data.numpy().reshape(len(X),-1)"
   ]
  },
  {
   "cell_type": "code",
   "execution_count": null,
   "metadata": {},
   "outputs": [],
   "source": [
    "binary_y_pred = svm.predict(b_test_feature)"
   ]
  },
  {
   "cell_type": "code",
   "execution_count": null,
   "metadata": {},
   "outputs": [],
   "source": [
    "Counter(binary_y_pred)"
   ]
  },
  {
   "cell_type": "code",
   "execution_count": null,
   "metadata": {},
   "outputs": [],
   "source": [
    "binary_score_test = metrics.accuracy_score(b_test_labels, binary_y_pred)\n",
    "print('Base Model Test Score ',binary_score_test)"
   ]
  },
  {
   "cell_type": "code",
   "execution_count": null,
   "metadata": {},
   "outputs": [],
   "source": [
    "binary_cm = confusion_matrix(b_test_labels, binary_y_pred)\n",
    "print(binary_cm)"
   ]
  },
  {
   "cell_type": "code",
   "execution_count": null,
   "metadata": {},
   "outputs": [],
   "source": [
    "binary_report = classification_report(b_test_labels,binary_y_pred)\n",
    "print(binary_report)"
   ]
  },
  {
   "cell_type": "code",
   "execution_count": null,
   "metadata": {},
   "outputs": [],
   "source": [
    "roc_auc_score(b_test_labels, binary_y_pred)"
   ]
  },
  {
   "cell_type": "code",
   "execution_count": null,
   "metadata": {},
   "outputs": [],
   "source": []
  },
  {
   "cell_type": "markdown",
   "metadata": {},
   "source": [
    "### Multi Class SVM"
   ]
  },
  {
   "cell_type": "code",
   "execution_count": null,
   "metadata": {},
   "outputs": [],
   "source": [
    "'''\n",
    "func: SVM model for DeepFake classification \n",
    "input:\n",
    "    i.train_X: array list: image path for model training\n",
    "    ii.train_set : dictionary: of training image paths and corresponding class\n",
    "    iii. batch_size: int\n",
    "    iv. model: feature extractor model\n",
    "    v. epoch: int\n",
    "    vi. ablation: optional int value to simple ablation testing\n",
    "'''\n",
    "def SVM_model(train_X, train_set,batch_size,model,epoch,ablation=None):\n",
    "    #Model Initialisation\n",
    "    svm = linear_model.SGDClassifier()\n",
    "    \n",
    "    #Select Data for fit\n",
    "    if ablation != None:\n",
    "        train_X = random.sample(train_X, ablation)\n",
    "        train_set = {image: train_set[image] for image in train_X }\n",
    "    #Getting the number of batches needed\n",
    "    batch_num = int(np.floor(len(train_X) / batch_size))\n",
    "    #For every epoch\n",
    "    for j in range(epoch):\n",
    "        #For every batch in an epoch\n",
    "        for i in range(batch_num):\n",
    "            #Randomly select data for the batch\n",
    "            batch_X = random.sample(train_X, batch_size)\n",
    "            batch_y = {image: train_set[image] for image in batch_X}\n",
    "            #Preprocess batch data\n",
    "            X,y = PreProcess(batch_X, batch_y)\n",
    "            #Extract features from model\n",
    "            output = feature_model(model,X)\n",
    "            features = output.cpu().data.numpy().reshape(32,-1)\n",
    "            #Partial fit a model\n",
    "            #print(features,y)\n",
    "            svm.partial_fit(features,y,classes=[0,1])\n",
    "            print('Epoch ',j, svm.score(features,y))\n",
    "    print('fitting done !!!')\n",
    "    return svm"
   ]
  },
  {
   "cell_type": "code",
   "execution_count": null,
   "metadata": {},
   "outputs": [],
   "source": [
    "#Train SVM model\n",
    "m_svm = SVM_model(b_train_X,b_train_set,32,encoder,20)"
   ]
  },
  {
   "cell_type": "code",
   "execution_count": null,
   "metadata": {},
   "outputs": [],
   "source": []
  },
  {
   "cell_type": "code",
   "execution_count": null,
   "metadata": {},
   "outputs": [],
   "source": []
  },
  {
   "cell_type": "code",
   "execution_count": null,
   "metadata": {},
   "outputs": [],
   "source": []
  },
  {
   "cell_type": "code",
   "execution_count": null,
   "metadata": {},
   "outputs": [],
   "source": []
  },
  {
   "cell_type": "markdown",
   "metadata": {},
   "source": [
    "## Other Things"
   ]
  },
  {
   "cell_type": "code",
   "execution_count": null,
   "metadata": {},
   "outputs": [],
   "source": [
    "cnn_model.compile(loss='sparse_categorical_crossentropy',\n",
    "              optimizer='sgd',\n",
    "              metrics=['accuracy'])\n",
    "cnn_model.fit(X_train, y_data,\n",
    "                 batch_size=5,\n",
    "                 epochs=1,\n",
    "                 shuffle=True)"
   ]
  },
  {
   "cell_type": "code",
   "execution_count": null,
   "metadata": {},
   "outputs": [],
   "source": [
    "# svm = SVC(kernel='rbf')\n",
    "# svm.fit(out_val,y_data)\n",
    "\n",
    "# print('fitting done !!!')"
   ]
  },
  {
   "cell_type": "code",
   "execution_count": null,
   "metadata": {},
   "outputs": [],
   "source": [
    "# encoder.eval()\n",
    "# data = torch.tensor(X, dtype=torch.float).to('cuda')\n",
    "# output = encoder(data)\n",
    "# #prediction = torch.argmax(output)"
   ]
  },
  {
   "cell_type": "code",
   "execution_count": null,
   "metadata": {},
   "outputs": [],
   "source": [
    "# out_val = output.cpu().data.numpy().reshape(32,-1)"
   ]
  },
  {
   "cell_type": "code",
   "execution_count": null,
   "metadata": {},
   "outputs": [],
   "source": [
    "# svm.score(out_val,y_data)"
   ]
  },
  {
   "cell_type": "code",
   "execution_count": null,
   "metadata": {},
   "outputs": [],
   "source": [
    "model[1].norm1.weight"
   ]
  },
  {
   "cell_type": "code",
   "execution_count": null,
   "metadata": {},
   "outputs": [],
   "source": [
    "dir(model[1])"
   ]
  },
  {
   "cell_type": "code",
   "execution_count": null,
   "metadata": {},
   "outputs": [],
   "source": [
    "kp_detector"
   ]
  },
  {
   "cell_type": "code",
   "execution_count": null,
   "metadata": {},
   "outputs": [],
   "source": [
    "from tensorflow.keras.preprocessing import image\n",
    "\n",
    "img = image.load_img('/mnt/disks/user/project/Dataset/testing/frames/004_982/004_982_frame285.jpg', target_size=(255,255))\n",
    "img = img.resize((256, 256), Image.NEAREST)\n",
    "img = image.img_to_array(img)\n",
    "img"
   ]
  },
  {
   "cell_type": "code",
   "execution_count": null,
   "metadata": {},
   "outputs": [],
   "source": [
    "import torch\n",
    "import numpy as np\n",
    "image_train = '/mnt/disks/user/project/Dataset/testing/frames/004_982/004_982_frame285.jpg'\n"
   ]
  },
  {
   "cell_type": "code",
   "execution_count": null,
   "metadata": {},
   "outputs": [],
   "source": [
    "source = torch.tensor(img[np.newaxis].astype(np.float32)).permute(0, 3, 1, 2).to('cuda')"
   ]
  },
  {
   "cell_type": "code",
   "execution_count": null,
   "metadata": {},
   "outputs": [],
   "source": [
    "kp_detector(source)"
   ]
  },
  {
   "cell_type": "code",
   "execution_count": null,
   "metadata": {
    "scrolled": false
   },
   "outputs": [],
   "source": [
    "import torch\n",
    "torch.manual_seed(1)\n",
    "\n",
    "import torch.nn as nn\n",
    "\n",
    "#lstm = nn.generator(3, 3)\n",
    "\n",
    "print(generator._all_weights)"
   ]
  },
  {
   "cell_type": "code",
   "execution_count": null,
   "metadata": {},
   "outputs": [],
   "source": [
    "from keras.models import model_from_yaml"
   ]
  },
  {
   "cell_type": "code",
   "execution_count": null,
   "metadata": {},
   "outputs": [],
   "source": [
    "yaml_file = open('config/vox-256.yaml', 'r')\n",
    "loaded_model_yaml = yaml_file.read()\n",
    "yaml_file.close()\n",
    "loaded_model = model_from_yaml(loaded_model_yaml)\n",
    "# # load weights into new model\n",
    "# loaded_model.load_weights(\"model.h5\")\n",
    "# print(\"Loaded model from disk\")\n",
    " \n",
    "# # evaluate loaded model on test data\n",
    "# loaded_model.compile(loss='binary_crossentropy', optimizer='rmsprop', metrics=['accuracy'])\n",
    "# score = loaded_model.evaluate(X, Y, verbose=0)\n",
    "# print(\"%s: %.2f%%\" % (loaded_model.metrics_names[1], score[1]*100))"
   ]
  },
  {
   "cell_type": "code",
   "execution_count": null,
   "metadata": {},
   "outputs": [],
   "source": [
    "loss_fn = torch.nn.MSELoss(size_average=False)\n",
    "optimizer = torch.optim.SGD(generator.parameters(), lr=1e-4)"
   ]
  },
  {
   "cell_type": "code",
   "execution_count": null,
   "metadata": {},
   "outputs": [],
   "source": [
    "y_pred = generator('/mnt/disks/user/project/Dataset/testing/frames/004_982/004_982_frame285.jpg')"
   ]
  },
  {
   "cell_type": "code",
   "execution_count": null,
   "metadata": {},
   "outputs": [],
   "source": []
  }
 ],
 "metadata": {
  "kernelspec": {
   "display_name": "Python 3",
   "language": "python",
   "name": "python3"
  },
  "language_info": {
   "codemirror_mode": {
    "name": "ipython",
    "version": 3
   },
   "file_extension": ".py",
   "mimetype": "text/x-python",
   "name": "python",
   "nbconvert_exporter": "python",
   "pygments_lexer": "ipython3",
   "version": "3.6.5"
  }
 },
 "nbformat": 4,
 "nbformat_minor": 2
}
