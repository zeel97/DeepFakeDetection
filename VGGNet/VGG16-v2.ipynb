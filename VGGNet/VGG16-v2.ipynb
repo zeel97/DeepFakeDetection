{
 "cells": [
  {
   "cell_type": "markdown",
   "metadata": {},
   "source": [
    "# DeepFake Detection: VGG16 Model\n",
    "\n",
    "**Objective**: Develop a base CNN model for DeepFake detection to use as baseline accuracy which can later be compared with other transfer learning models\n",
    "\n",
    "**Base Models**: develop 2 types of base models:\n",
    "1. CNN\n",
    "2. Augementation + CNN Model"
   ]
  },
  {
   "cell_type": "code",
   "execution_count": 1,
   "metadata": {},
   "outputs": [
    {
     "name": "stderr",
     "output_type": "stream",
     "text": [
      "Using TensorFlow backend.\n",
      "/mnt/disks/user/anaconda3/lib/python3.6/site-packages/tensorflow/python/framework/dtypes.py:523: FutureWarning: Passing (type, 1) or '1type' as a synonym of type is deprecated; in a future version of numpy, it will be understood as (type, (1,)) / '(1,)type'.\n",
      "  _np_qint8 = np.dtype([(\"qint8\", np.int8, 1)])\n",
      "/mnt/disks/user/anaconda3/lib/python3.6/site-packages/tensorflow/python/framework/dtypes.py:524: FutureWarning: Passing (type, 1) or '1type' as a synonym of type is deprecated; in a future version of numpy, it will be understood as (type, (1,)) / '(1,)type'.\n",
      "  _np_quint8 = np.dtype([(\"quint8\", np.uint8, 1)])\n",
      "/mnt/disks/user/anaconda3/lib/python3.6/site-packages/tensorflow/python/framework/dtypes.py:525: FutureWarning: Passing (type, 1) or '1type' as a synonym of type is deprecated; in a future version of numpy, it will be understood as (type, (1,)) / '(1,)type'.\n",
      "  _np_qint16 = np.dtype([(\"qint16\", np.int16, 1)])\n",
      "/mnt/disks/user/anaconda3/lib/python3.6/site-packages/tensorflow/python/framework/dtypes.py:526: FutureWarning: Passing (type, 1) or '1type' as a synonym of type is deprecated; in a future version of numpy, it will be understood as (type, (1,)) / '(1,)type'.\n",
      "  _np_quint16 = np.dtype([(\"quint16\", np.uint16, 1)])\n",
      "/mnt/disks/user/anaconda3/lib/python3.6/site-packages/tensorflow/python/framework/dtypes.py:527: FutureWarning: Passing (type, 1) or '1type' as a synonym of type is deprecated; in a future version of numpy, it will be understood as (type, (1,)) / '(1,)type'.\n",
      "  _np_qint32 = np.dtype([(\"qint32\", np.int32, 1)])\n",
      "/mnt/disks/user/anaconda3/lib/python3.6/site-packages/tensorflow/python/framework/dtypes.py:532: FutureWarning: Passing (type, 1) or '1type' as a synonym of type is deprecated; in a future version of numpy, it will be understood as (type, (1,)) / '(1,)type'.\n",
      "  np_resource = np.dtype([(\"resource\", np.ubyte, 1)])\n",
      "/mnt/disks/user/anaconda3/lib/python3.6/site-packages/sklearn/ensemble/weight_boosting.py:29: DeprecationWarning: numpy.core.umath_tests is an internal NumPy module and should not be imported. It will be removed in a future NumPy release.\n",
      "  from numpy.core.umath_tests import inner1d\n"
     ]
    }
   ],
   "source": [
    "import numpy as np\n",
    "% matplotlib inline\n",
    "from __future__ import print_function\n",
    "\n",
    "#Data Processing\n",
    "from skimage import io\n",
    "import os\n",
    "import glob\n",
    "from sklearn.preprocessing import LabelEncoder\n",
    "from keras.preprocessing.image import img_to_array\n",
    "from keras.preprocessing.image import load_img\n",
    "from keras.preprocessing.image import array_to_img\n",
    "from keras.applications.vgg16 import preprocess_input\n",
    "from tensorflow.keras.preprocessing import image\n",
    "from keras.preprocessing.image import ImageDataGenerator\n",
    "import random\n",
    "from PIL import Image\n",
    "import matplotlib.pyplot as plt\n",
    "from collections import Counter\n",
    "\n",
    "#Neural Networks\n",
    "from tensorflow.python import keras\n",
    "import tensorflow as tf\n",
    "from tensorflow.keras.models import Model\n",
    "from tensorflow.keras.layers import Dense, Dropout, Activation, Flatten\n",
    "from tensorflow.keras.layers import Conv2D, MaxPooling2D\n",
    "from tensorflow.keras.layers import LeakyReLU\n",
    "from tensorflow.keras.layers import GlobalAveragePooling2D\n",
    "from tensorflow.keras.models import Sequential\n",
    "from keras.optimizers import Adam\n",
    "from tensorflow.keras import optimizers\n",
    "\n",
    "#Models\n",
    "from tensorflow.keras.applications.vgg16 import VGG16\n",
    "from sklearn.ensemble import RandomForestClassifier\n",
    "from sklearn import linear_model\n",
    "\n",
    "#Evaluation\n",
    "from sklearn.metrics import roc_auc_score\n",
    "from sklearn.metrics import roc_curve\n",
    "from sklearn.metrics import classification_report\n",
    "from sklearn.metrics import confusion_matrix\n",
    "from keras.callbacks import ModelCheckpoint,Callback\n",
    "from keras.callbacks import ReduceLROnPlateau\n",
    "\n",
    "from sklearn import metrics\n",
    "from tensorflow.keras.models import load_model"
   ]
  },
  {
   "cell_type": "markdown",
   "metadata": {},
   "source": [
    "## Dataset Split\n",
    "\n",
    "Load the DeepFake dataset to randomly divide it into train and test set "
   ]
  },
  {
   "cell_type": "code",
   "execution_count": 2,
   "metadata": {},
   "outputs": [],
   "source": [
    "# path to your dataset\n",
    "DATASET_PATH = '/mnt/disks/user/project/Dataset/'\n",
    "deepfake_class = ['original/clean_frames','FaceSwap/clean_frames', 'Reenactment/clean_frames']"
   ]
  },
  {
   "cell_type": "code",
   "execution_count": 3,
   "metadata": {},
   "outputs": [],
   "source": [
    "'''\n",
    "func: load the deepfake dataset and divide them into train and test with each having samples of the different classes\n",
    "input:\n",
    "    i.dataset_path: string: the main dataset folder path \n",
    "    ii.train_ratio: float: the ratio of the dataset that will be used for training the model. Eg: 0.8\n",
    "    iii. fake_class: string array: the different deepfake classes\n",
    "output:\n",
    "    i. train_set, test_set: dictionary of image paths as key and deepfake class as value\n",
    "    ii. X_train, X_test: array of image paths \n",
    "    iii. y_train, y_test: array of corresponding deepfake classes \n",
    "'''\n",
    "def MultiDatasetSplit(DATASET_PATH, train_ratio,fake_cls):\n",
    "    test_set = {}\n",
    "    train_set = {}\n",
    "    list_IDs = []\n",
    "    labels = {}\n",
    "    for i, cls in enumerate(fake_cls):\n",
    "        paths = glob.glob(os.path.join(DATASET_PATH, cls,'*/*.jpg'))\n",
    "        #balancing the dataset\n",
    "        balance_paths = random.sample(paths,2000)\n",
    "\n",
    "        brk_point = int(len(balance_paths)*train_ratio)\n",
    "        for j in range(len(balance_paths)):\n",
    "            if j <= brk_point:\n",
    "                train_set.update({balance_paths[j]:i})\n",
    "            else:\n",
    "                test_set.update({balance_paths[j]:i})\n",
    "    \n",
    "    X_train = [X for X in train_set.keys()] \n",
    "    y_train = [y for y in train_set.values()]\n",
    "    X_test = [X for X in test_set.keys()]\n",
    "    y_test = [y for y in test_set.values()]\n",
    "    return train_set, test_set, X_train,y_train, X_test, y_test"
   ]
  },
  {
   "cell_type": "code",
   "execution_count": 4,
   "metadata": {},
   "outputs": [],
   "source": [
    "'''\n",
    "func: load the deepfake dataset and divide them into train and test with each having samples of the different classes\n",
    "input:\n",
    "    i.dataset_path: string: the main dataset folder path \n",
    "    ii.train_ratio: float: the ratio of the dataset that will be used for training the model. Eg: 0.8\n",
    "    iii. fake_class: string array: the different deepfake classes\n",
    "output:\n",
    "    i. train_set, test_set: dictionary of image paths as key and deepfake class as value\n",
    "    ii. X_train, X_test: array of image paths \n",
    "    iii. y_train, y_test: array of corresponding deepfake classes \n",
    "'''\n",
    "def BinaryDatasetSplit(DATASET_PATH, train_ratio,fake_cls):\n",
    "    test_set = {}\n",
    "    train_set = {}\n",
    "    list_IDs = []\n",
    "    labels = {}\n",
    "    for i, cls in enumerate(fake_cls):\n",
    "        paths = glob.glob(os.path.join(DATASET_PATH, cls,'*/*.jpg'))\n",
    "        if i == 0:\n",
    "            paths = random.sample(paths,4000)\n",
    "        else:\n",
    "            paths = random.sample(paths,2000)\n",
    "        brk_point = int(len(paths)*train_ratio)\n",
    "        for j in range(len(paths)):\n",
    "            if j <= brk_point:\n",
    "                if i == 0:\n",
    "                    train_set.update({paths[j]:0})\n",
    "                else: \n",
    "                    train_set.update({paths[j]:1})\n",
    "            else:\n",
    "                if i == 0:\n",
    "                    test_set.update({paths[j]:0})\n",
    "                else:\n",
    "                    test_set.update({paths[j]:1})\n",
    "\n",
    "    X_train = [X for X in train_set.keys()] \n",
    "    y_train = [y for y in train_set.values()]\n",
    "    X_test = [X for X in test_set.keys()]\n",
    "    y_test = [y for y in test_set.values()]\n",
    "    return train_set, test_set, X_train,y_train, X_test, y_test"
   ]
  },
  {
   "cell_type": "code",
   "execution_count": 5,
   "metadata": {},
   "outputs": [],
   "source": [
    "b_train_set, b_test_set, b_train_X, b_train_y, b_test_X, b_test_y = BinaryDatasetSplit(DATASET_PATH,0.7,deepfake_class)"
   ]
  },
  {
   "cell_type": "code",
   "execution_count": 6,
   "metadata": {},
   "outputs": [],
   "source": [
    "m_train_set, m_test_set, m_train_X, m_train_y, m_test_X, m_test_y = MultiDatasetSplit(DATASET_PATH,0.7,deepfake_class)"
   ]
  },
  {
   "cell_type": "code",
   "execution_count": 7,
   "metadata": {},
   "outputs": [
    {
     "data": {
      "text/plain": [
       "Counter({0: 2801, 1: 2802})"
      ]
     },
     "execution_count": 7,
     "metadata": {},
     "output_type": "execute_result"
    }
   ],
   "source": [
    "Counter(b_train_set.values())"
   ]
  },
  {
   "cell_type": "code",
   "execution_count": 8,
   "metadata": {},
   "outputs": [
    {
     "data": {
      "text/plain": [
       "Counter({0: 1401, 1: 1401, 2: 1401})"
      ]
     },
     "execution_count": 8,
     "metadata": {},
     "output_type": "execute_result"
    }
   ],
   "source": [
    "Counter(m_train_set.values())"
   ]
  },
  {
   "cell_type": "code",
   "execution_count": 9,
   "metadata": {},
   "outputs": [
    {
     "data": {
      "text/plain": [
       "{0, 1}"
      ]
     },
     "execution_count": 9,
     "metadata": {},
     "output_type": "execute_result"
    }
   ],
   "source": [
    "set(b_test_set.values())"
   ]
  },
  {
   "cell_type": "code",
   "execution_count": 10,
   "metadata": {},
   "outputs": [
    {
     "data": {
      "text/plain": [
       "{0, 1, 2}"
      ]
     },
     "execution_count": 10,
     "metadata": {},
     "output_type": "execute_result"
    }
   ],
   "source": [
    "set(m_test_set.values())"
   ]
  },
  {
   "cell_type": "code",
   "execution_count": 11,
   "metadata": {},
   "outputs": [],
   "source": [
    "# specify image size and channels\n",
    "img_channels = 3\n",
    "img_rows = 224\n",
    "img_cols = 224\n",
    "\n",
    "# number of classes\n",
    "b_nb_classes = 2\n",
    "m_nb_classes = 3"
   ]
  },
  {
   "cell_type": "markdown",
   "metadata": {},
   "source": [
    "## Data Processing\n",
    "\n",
    "Divide data into batches and process them"
   ]
  },
  {
   "cell_type": "code",
   "execution_count": 12,
   "metadata": {},
   "outputs": [],
   "source": [
    "'''\n",
    "func: prepare and process batch wise data for training/ablation. \n",
    "The image path is converted to image data while the classes are label encoded (0,1,2)\n",
    "input:\n",
    "    i.image_list: X data: array of image paths\n",
    "    ii:classes: y data: dictionary of image paths and their corresponding classes\n",
    "output:\n",
    "    i. DataGenerator\n",
    "'''\n",
    "class DataGenerator(tf.keras.utils.Sequence):\n",
    "    'Generates data for Keras'\n",
    "    def __init__(self, image_list, classes, batch_size=32, dim=(224,224), n_channels=3,\n",
    "                 n_classes=3,shuffle=True):\n",
    "        'Initialization'\n",
    "        self.dim = dim\n",
    "        self.batch_size = batch_size\n",
    "        self.classes = classes\n",
    "        self.image_list = image_list\n",
    "        self.n_channels = n_channels\n",
    "        self.n_classes = n_classes\n",
    "        self.shuffle = shuffle\n",
    "        self.on_epoch_end()\n",
    "\n",
    "    def __len__(self):\n",
    "        'Denotes the number of batches per epoch'\n",
    "        return int(np.floor(len(self.image_list) / self.batch_size))\n",
    "\n",
    "    def __getitem__(self, index):\n",
    "        'Generate one batch of data'\n",
    "        # Generate indexes of the batch\n",
    "        indexes = self.indexes[index*self.batch_size:(index+1)*self.batch_size]\n",
    "\n",
    "        # Find list of IDs\n",
    "        list_img_temp = [self.image_list[k] for k in indexes]\n",
    "\n",
    "        # Generate data\n",
    "        X, y = self.__data_generation(list_img_temp)\n",
    "        return X, y\n",
    "\n",
    "\n",
    "    def on_epoch_end(self):\n",
    "        'Updates indexes after each epoch'\n",
    "        self.indexes = np.arange(len(self.image_list))\n",
    "        if self.shuffle == True:\n",
    "            np.random.shuffle(self.indexes)\n",
    "\n",
    "    def __data_generation(self, list_img_temp):\n",
    "        'Generates data containing batch_size samples' # X : (n_samples, *dim, n_channels)\n",
    "        # Initialization of Y\n",
    "        y = np.empty((self.batch_size), dtype=int)\n",
    "        X = np.empty((self.batch_size, *self.dim, self.n_channels))\n",
    "        #X = np.random.rand(self.batch_size, *self.dim, self.n_channels)\n",
    "\n",
    "        #For each image path in the batch: load it, convert it to array, normalize values and pre-process.\n",
    "        #Append X and respective y values to the empty X and y variables\n",
    "        for i, ID in enumerate(list_img_temp):\n",
    "            img = load_img(ID, target_size=self.dim)\n",
    "            img = img_to_array(img)\n",
    "            #img = img/255\n",
    "            #process = datagen.fit(img)\n",
    "            img = preprocess_input(img)\n",
    "            X[i,] = img\n",
    "            y[i] = self.classes[ID]\n",
    "            \n",
    "        #class encoding to 0,1,2\n",
    "#         le = LabelEncoder()\n",
    "#         self.y_value = le.fit_transform(y)\n",
    "        return X,keras.utils.to_categorical(y, num_classes=self.n_classes)"
   ]
  },
  {
   "cell_type": "code",
   "execution_count": 13,
   "metadata": {},
   "outputs": [],
   "source": [
    "'''\n",
    "func: get the data generators for training and validation\n",
    "input:\n",
    "    i.train_X, test_X: array of image paths in training and testing respectively\n",
    "    ii.train_set, test_set: dictionary of image paths and their corresponding class for training and test data respectively\n",
    "    iii. ablation: int: number of training and test entries to use for DataGeneration\n",
    "output:\n",
    "    i. training_generator\n",
    "    ii. validation_generator\n",
    "'''\n",
    "def data_generator(train_X, train_set, test_X, test_set,classes,ablation = None):\n",
    "    #Randomly selecting data in case of ablation testing\n",
    "    if ablation != None:\n",
    "        train_X = random.sample(train_X, ablation)\n",
    "        train_set = {image: train_set[image] for image in train_X }\n",
    "        test_X = random.sample(test_X, ablation)\n",
    "        test_set = {image: test_set[image] for image in test_X }\n",
    "    print(Counter(test_set.values()))\n",
    "    print(Counter(train_set.values()))\n",
    "    training_generator = DataGenerator(train_X, train_set,n_classes=classes)\n",
    "    validation_generator = DataGenerator(test_X, test_set,n_classes=classes)\n",
    "    return training_generator,validation_generator"
   ]
  },
  {
   "cell_type": "code",
   "execution_count": 14,
   "metadata": {},
   "outputs": [],
   "source": [
    "from sklearn.metrics import roc_auc_score\n",
    "\n",
    "class roc_callback(Callback):\n",
    "    \n",
    "    def on_train_begin(self, logs={}):\n",
    "        logs['val_auc'] = 0\n",
    "\n",
    "    def on_epoch_end(self, epoch, logs={}):\n",
    "        y_p = []\n",
    "        y_v = []\n",
    "        for i in range(len(validation_generator)):\n",
    "            x_val, y_val = validation_generator[i]\n",
    "            y_pred = self.model.predict(x_val)\n",
    "            y_p.append(y_pred)\n",
    "            y_v.append(y_val)\n",
    "        y_p = np.concatenate(y_p)\n",
    "        y_v = np.concatenate(y_v)\n",
    "        roc_auc = roc_auc_score(y_v, y_p)\n",
    "        print ('\\nVal AUC for epoch{}: {}'.format(epoch, roc_auc))\n",
    "        logs['val_auc'] = roc_auc"
   ]
  },
  {
   "cell_type": "markdown",
   "metadata": {},
   "source": [
    "## VGG Feature Extractor"
   ]
  },
  {
   "cell_type": "code",
   "execution_count": 15,
   "metadata": {},
   "outputs": [
    {
     "name": "stdout",
     "output_type": "stream",
     "text": [
      "Downloading data from https://github.com/fchollet/deep-learning-models/releases/download/v0.1/vgg16_weights_tf_dim_ordering_tf_kernels_notop.h5\n",
      "58892288/58889256 [==============================] - 5s 0us/step\n"
     ]
    }
   ],
   "source": [
    "vgg_base = VGG16(weights='imagenet', include_top=False,input_shape=(224, 224, 3))\n",
    "fine_tune_at = 5\n",
    "\n",
    "# Freeze all the layers before the `fine_tune_at` layer\n",
    "for layer in vgg_base.layers[:fine_tune_at]:\n",
    "    layer.trainable =  False"
   ]
  },
  {
   "cell_type": "markdown",
   "metadata": {},
   "source": [
    "## Binary VGG16 Classification Models"
   ]
  },
  {
   "cell_type": "code",
   "execution_count": 16,
   "metadata": {},
   "outputs": [
    {
     "name": "stdout",
     "output_type": "stream",
     "text": [
      "_________________________________________________________________\n",
      "Layer (type)                 Output Shape              Param #   \n",
      "=================================================================\n",
      "vgg16 (Model)                (None, 7, 7, 512)         14714688  \n",
      "_________________________________________________________________\n",
      "conv2d (Conv2D)              (None, 4, 4, 64)          294976    \n",
      "_________________________________________________________________\n",
      "leaky_re_lu (LeakyReLU)      (None, 4, 4, 64)          0         \n",
      "_________________________________________________________________\n",
      "dropout (Dropout)            (None, 4, 4, 64)          0         \n",
      "_________________________________________________________________\n",
      "flatten (Flatten)            (None, 1024)              0         \n",
      "_________________________________________________________________\n",
      "dense (Dense)                (None, 2)                 2050      \n",
      "=================================================================\n",
      "Total params: 15,011,714\n",
      "Trainable params: 14,899,138\n",
      "Non-trainable params: 112,576\n",
      "_________________________________________________________________\n"
     ]
    }
   ],
   "source": [
    "def cnn_model(in_shape=(224,224,3)):\n",
    "    model = Sequential()\n",
    "    model.add(vgg_base)\n",
    "    model.add(Conv2D(64,(3,3), strides=(2,2), padding='same'))\n",
    "    model.add(LeakyReLU(alpha=0.2))\n",
    "    model.add(Dropout(0.6))\n",
    "    model.add(Flatten())\n",
    "    model.add(Dense(b_nb_classes, activation='sigmoid'))\n",
    "    \n",
    "    return model\n",
    "\n",
    "#call define model\n",
    "binary_vgg_model = cnn_model()\n",
    "binary_vgg_model.summary()"
   ]
  },
  {
   "cell_type": "code",
   "execution_count": 17,
   "metadata": {},
   "outputs": [],
   "source": [
    "sgd = optimizers.SGD(lr=0.005, momentum=0.5, decay = 0.001)\n",
    "# #reduce_lr = ReduceLROnPlateau(monitor='val_acc', factor=0.2,\n",
    "#                               patience=2, min_lr=0.0001)"
   ]
  },
  {
   "cell_type": "code",
   "execution_count": 18,
   "metadata": {},
   "outputs": [
    {
     "name": "stdout",
     "output_type": "stream",
     "text": [
      "Counter({0: 1199, 1: 1198})\n",
      "Counter({1: 2802, 0: 2801})\n"
     ]
    }
   ],
   "source": [
    "training_generator, validation_generator = data_generator(b_train_X, b_train_set, b_test_X, b_test_set,classes=b_nb_classes)\n",
    "binary_vgg_model.compile(loss='binary_crossentropy',\n",
    "              optimizer=sgd,\n",
    "              metrics=['accuracy'])"
   ]
  },
  {
   "cell_type": "code",
   "execution_count": 19,
   "metadata": {},
   "outputs": [],
   "source": [
    "#validation_generator.classes.items()"
   ]
  },
  {
   "cell_type": "code",
   "execution_count": 20,
   "metadata": {},
   "outputs": [
    {
     "name": "stdout",
     "output_type": "stream",
     "text": [
      "Epoch 1/20\n",
      "174/175 [============================>.] - ETA: 1s - loss: 7.9587 - acc: 0.4998\n",
      "Epoch 00001: val_acc improved from -inf to 0.50000, saving model to /mnt/disks/user/project/Final_Models/vgg_binary_best_modelv2.hdf5\n",
      "\n",
      "Val AUC for epoch0: 0.5\n",
      "175/175 [==============================] - 292s 2s/step - loss: 7.9588 - acc: 0.4998 - val_loss: 7.9712 - val_acc: 0.5000\n",
      "Epoch 2/20\n",
      "174/175 [============================>.] - ETA: 0s - loss: 7.9684 - acc: 0.5002\n",
      "Epoch 00002: val_acc did not improve from 0.50000\n",
      "\n",
      "Val AUC for epoch1: 0.5\n",
      "175/175 [==============================] - 158s 904ms/step - loss: 7.9684 - acc: 0.5002 - val_loss: 7.9712 - val_acc: 0.5000\n",
      "Epoch 3/20\n",
      "174/175 [============================>.] - ETA: 0s - loss: 7.9591 - acc: 0.5025\n",
      "Epoch 00003: val_acc did not improve from 0.50000\n",
      "\n",
      "Val AUC for epoch2: 0.5\n",
      "175/175 [==============================] - 158s 902ms/step - loss: 7.9451 - acc: 0.5034 - val_loss: 8.0151 - val_acc: 0.5000\n",
      "Epoch 4/20\n",
      "174/175 [============================>.] - ETA: 0s - loss: 7.9989 - acc: 0.5011\n",
      "Epoch 00004: val_acc improved from 0.50000 to 0.50084, saving model to /mnt/disks/user/project/Final_Models/vgg_binary_best_modelv2.hdf5\n",
      "\n",
      "Val AUC for epoch3: 0.5\n",
      "175/175 [==============================] - 159s 906ms/step - loss: 8.0004 - acc: 0.5010 - val_loss: 8.0016 - val_acc: 0.5008\n",
      "Epoch 5/20\n",
      "174/175 [============================>.] - ETA: 0s - loss: 8.0249 - acc: 0.4995\n",
      "Epoch 00005: val_acc did not improve from 0.50084\n",
      "\n",
      "Val AUC for epoch4: 0.5\n",
      "175/175 [==============================] - 158s 902ms/step - loss: 8.0220 - acc: 0.4996 - val_loss: 8.0151 - val_acc: 0.5000\n",
      "Epoch 6/20\n",
      "174/175 [============================>.] - ETA: 0s - loss: 8.0623 - acc: 0.4971\n",
      "Epoch 00006: val_acc did not improve from 0.50084\n",
      "\n",
      "Val AUC for epoch5: 0.5\n",
      "175/175 [==============================] - 158s 901ms/step - loss: 8.0706 - acc: 0.4966 - val_loss: 8.0084 - val_acc: 0.5004\n",
      "Epoch 7/20\n",
      "174/175 [============================>.] - ETA: 0s - loss: 8.0379 - acc: 0.4987\n",
      "Epoch 00007: val_acc did not improve from 0.50084\n",
      "\n",
      "Val AUC for epoch6: 0.5\n",
      "175/175 [==============================] - 158s 902ms/step - loss: 8.0320 - acc: 0.4990 - val_loss: 8.0151 - val_acc: 0.5000\n",
      "Epoch 8/20\n",
      "174/175 [============================>.] - ETA: 0s - loss: 8.0275 - acc: 0.4993\n",
      "Epoch 00008: val_acc did not improve from 0.50084\n",
      "\n",
      "Val AUC for epoch7: 0.5\n",
      "175/175 [==============================] - 158s 900ms/step - loss: 8.0246 - acc: 0.4995 - val_loss: 8.0422 - val_acc: 0.4983\n",
      "Epoch 9/20\n",
      "174/175 [============================>.] - ETA: 0s - loss: 8.0422 - acc: 0.4984\n",
      "Epoch 00009: val_acc did not improve from 0.50084\n",
      "\n",
      "Val AUC for epoch8: 0.5\n",
      "175/175 [==============================] - 158s 901ms/step - loss: 8.0349 - acc: 0.4988 - val_loss: 8.0219 - val_acc: 0.4996\n",
      "Epoch 10/20\n",
      "174/175 [============================>.] - ETA: 0s - loss: 8.0148 - acc: 0.5001\n",
      "Epoch 00010: val_acc did not improve from 0.50084\n",
      "\n",
      "Val AUC for epoch9: 0.5\n",
      "175/175 [==============================] - 158s 900ms/step - loss: 8.0149 - acc: 0.5001 - val_loss: 8.0287 - val_acc: 0.4992\n",
      "Epoch 11/20\n",
      "174/175 [============================>.] - ETA: 0s - loss: 7.9889 - acc: 0.5017\n",
      "Epoch 00011: val_acc did not improve from 0.50084\n",
      "\n",
      "Val AUC for epoch10: 0.5\n",
      "175/175 [==============================] - 157s 900ms/step - loss: 7.9891 - acc: 0.5017 - val_loss: 8.0151 - val_acc: 0.5000\n",
      "Epoch 12/20\n",
      "174/175 [============================>.] - ETA: 0s - loss: 8.0234 - acc: 0.4996\n",
      "Epoch 00012: val_acc did not improve from 0.50084\n",
      "\n",
      "Val AUC for epoch11: 0.5\n",
      "175/175 [==============================] - 157s 900ms/step - loss: 8.0320 - acc: 0.4990 - val_loss: 8.0287 - val_acc: 0.4992\n",
      "Epoch 13/20\n",
      "174/175 [============================>.] - ETA: 0s - loss: 7.9845 - acc: 0.5020\n",
      "Epoch 00013: val_acc did not improve from 0.50084\n",
      "\n",
      "Val AUC for epoch12: 0.5\n",
      "175/175 [==============================] - 157s 899ms/step - loss: 7.9804 - acc: 0.5022 - val_loss: 8.0016 - val_acc: 0.5008\n",
      "Epoch 14/20\n",
      "174/175 [============================>.] - ETA: 0s - loss: 8.0004 - acc: 0.5010\n",
      "Epoch 00014: val_acc improved from 0.50084 to 0.50127, saving model to /mnt/disks/user/project/Final_Models/vgg_binary_best_modelv2.hdf5\n",
      "\n",
      "Val AUC for epoch13: 0.5\n",
      "175/175 [==============================] - 158s 904ms/step - loss: 7.9991 - acc: 0.5011 - val_loss: 7.9948 - val_acc: 0.5013\n",
      "Epoch 15/20\n",
      "174/175 [============================>.] - ETA: 0s - loss: 8.0177 - acc: 0.4999\n",
      "Epoch 00015: val_acc did not improve from 0.50127\n",
      "\n",
      "Val AUC for epoch14: 0.5\n",
      "175/175 [==============================] - 157s 900ms/step - loss: 8.0062 - acc: 0.5006 - val_loss: 8.0084 - val_acc: 0.5004\n",
      "Epoch 16/20\n",
      "174/175 [============================>.] - ETA: 0s - loss: 8.0075 - acc: 0.5005\n",
      "Epoch 00016: val_acc did not improve from 0.50127\n",
      "\n",
      "Val AUC for epoch15: 0.5\n",
      "175/175 [==============================] - 158s 900ms/step - loss: 8.0133 - acc: 0.5002 - val_loss: 8.0219 - val_acc: 0.4996\n",
      "Epoch 17/20\n",
      "174/175 [============================>.] - ETA: 0s - loss: 7.9831 - acc: 0.5021\n",
      "Epoch 00017: val_acc did not improve from 0.50127\n",
      "\n",
      "Val AUC for epoch16: 0.5\n",
      "175/175 [==============================] - 157s 899ms/step - loss: 7.9933 - acc: 0.5014 - val_loss: 8.0084 - val_acc: 0.5004\n",
      "Epoch 18/20\n",
      "174/175 [============================>.] - ETA: 0s - loss: 8.0205 - acc: 0.4997\n",
      "Epoch 00018: val_acc did not improve from 0.50127\n",
      "\n",
      "Val AUC for epoch17: 0.5\n",
      "175/175 [==============================] - 157s 900ms/step - loss: 8.0233 - acc: 0.4996 - val_loss: 8.0084 - val_acc: 0.5004\n",
      "Epoch 19/20\n",
      "174/175 [============================>.] - ETA: 0s - loss: 8.0379 - acc: 0.4987\n",
      "Epoch 00019: val_acc improved from 0.50127 to 0.50169, saving model to /mnt/disks/user/project/Final_Models/vgg_binary_best_modelv2.hdf5\n",
      "\n",
      "Val AUC for epoch18: 0.5\n",
      "175/175 [==============================] - 158s 904ms/step - loss: 8.0277 - acc: 0.4993 - val_loss: 7.9880 - val_acc: 0.5017\n",
      "Epoch 20/20\n",
      "174/175 [============================>.] - ETA: 0s - loss: 8.0392 - acc: 0.4986\n",
      "Epoch 00020: val_acc did not improve from 0.50169\n",
      "\n",
      "Val AUC for epoch19: 0.5\n",
      "175/175 [==============================] - 157s 900ms/step - loss: 8.0362 - acc: 0.4988 - val_loss: 8.0016 - val_acc: 0.5008\n"
     ]
    }
   ],
   "source": [
    "# checkpoint \n",
    "binary_filepath = '/mnt/disks/user/project/Final_Models/vgg_binary_best_modelv2.hdf5'\n",
    "checkpoint = ModelCheckpoint(binary_filepath, monitor='val_acc', verbose=1, save_best_only=True, mode='max')\n",
    "auc_logger = roc_callback()\n",
    "# fit: this will fit the net on 'ablation' samples, only 1 epoch\n",
    "binary_history = binary_vgg_model.fit_generator(generator = training_generator,\n",
    "                    validation_data = validation_generator,\n",
    "                    shuffle=True,\n",
    "                    epochs=20,\n",
    "                    callbacks=[checkpoint,auc_logger])"
   ]
  },
  {
   "cell_type": "code",
   "execution_count": 21,
   "metadata": {
    "scrolled": true
   },
   "outputs": [
    {
     "data": {
      "text/plain": [
       "<matplotlib.legend.Legend at 0x7f65213d8208>"
      ]
     },
     "execution_count": 21,
     "metadata": {},
     "output_type": "execute_result"
    },
    {
     "data": {
      "image/png": "[encoded data removed]",
      "text/plain": [
       "<Figure size 432x288 with 1 Axes>"
      ]
     },
     "metadata": {},
     "output_type": "display_data"
    }
   ],
   "source": [
    "binary_acc = binary_history.history['acc']\n",
    "binary_val_acc = binary_history.history['val_acc']\n",
    "\n",
    "binary_epochs = range(len(binary_acc))\n",
    "\n",
    "plt.plot(binary_epochs, binary_acc, 'g', label='Training acc')\n",
    "plt.plot(binary_epochs, binary_val_acc, 'b', label='Validation acc')\n",
    "plt.title('Binary Classification VGG Model Accuracy')\n",
    "plt.legend()"
   ]
  },
  {
   "cell_type": "markdown",
   "metadata": {},
   "source": [
    "### Hyperparameter Tuning"
   ]
  },
  {
   "cell_type": "code",
   "execution_count": 22,
   "metadata": {},
   "outputs": [],
   "source": [
    "# # generic way to create custom callback\n",
    "# class LossHistory(keras.callbacks.Callback):\n",
    "#     def on_train_begin(self, logs={}):\n",
    "#         self.losses = []\n",
    "\n",
    "#     def on_batch_end(self, batch, logs={}):\n",
    "#         self.losses.append(logs.get('loss'))"
   ]
  },
  {
   "cell_type": "code",
   "execution_count": 23,
   "metadata": {},
   "outputs": [],
   "source": [
    "# # range of learning rates to tune\n",
    "# hyper_parameters_for_lr = [0.1, 0.01, 0.001, 0.0001]\n",
    "\n",
    "# # callback to append loss\n",
    "# class LossHistory(keras.callbacks.Callback):\n",
    "#     def on_train_begin(self, logs={}):\n",
    "#         self.losses = []\n",
    "\n",
    "#     def on_epoch_end(self, epoch, logs={}):\n",
    "#         self.losses.append(logs.get('loss'))\n",
    "\n",
    "# # instantiate a LossHistory() object to store histories\n",
    "# history = LossHistory()\n",
    "# plot_data = {}\n",
    "\n",
    "# # for each hyperparam: train the model and plot loss history\n",
    "# for lr in hyper_parameters_for_lr:\n",
    "#     print ('\\n\\n'+'=='*20 + '   Checking for LR={}  '.format(lr) + '=='*20 )\n",
    "#     sgd = optimizers.SGD(lr=lr, clipnorm=1.)\n",
    "    \n",
    "#     # model and generators\n",
    "#     model_tuning = cnn_model()\n",
    "#     model_tuning.compile(loss='categorical_crossentropy',optimizer= sgd,\n",
    "#                   metrics=['accuracy'])\n",
    "#     training_generator, validation_generator = data_generator(b_train_X, b_train_set, b_test_X, b_test_set,classes=b_nb_classes,ablation=100)\n",
    "#     model_tuning.fit_generator(generator=training_generator,\n",
    "#                         validation_data=validation_generator,\n",
    "#                         epochs=3, callbacks=[history])\n",
    "    \n",
    "#     # plot loss history\n",
    "#     plot_data[lr] = history.losses"
   ]
  },
  {
   "cell_type": "code",
   "execution_count": 24,
   "metadata": {},
   "outputs": [],
   "source": [
    "# # plot loss history for each value of hyperparameter\n",
    "# f, axes = plt.subplots(1, 4, sharey=True)\n",
    "# f.set_figwidth(15)\n",
    "\n",
    "# plt.setp(axes, xticks=np.arange(0, len(plot_data[0.01]), 1)+1)\n",
    "\n",
    "# for i, lr in enumerate(plot_data.keys()):\n",
    "#     axes[i].plot(np.arange(len(plot_data[lr]))+1, plot_data[lr])"
   ]
  },
  {
   "cell_type": "code",
   "execution_count": 25,
   "metadata": {},
   "outputs": [],
   "source": [
    "# # Utility function for obtaining of the errors \n",
    "# def obtain_errors(val_generator, predictions):\n",
    "#     # Get the filenames from the generator\n",
    "#     fnames = validation_generator.filenames\n",
    "\n",
    "#     # Get the ground truth from generator\n",
    "#     ground_truth = validation_generator.classes\n",
    "\n",
    "#     # Get the dictionary of classes\n",
    "#     label2index = validation_generator.class_indices\n",
    "\n",
    "#     # Obtain the list of the classes\n",
    "#     idx2label = list(label2index.keys())\n",
    "#     print(\"The list of classes: \", idx2label)\n",
    "\n",
    "#     # Get the class index\n",
    "#     predicted_classes = np.argmax(predictions, axis=1)\n",
    "\n",
    "#     errors = np.where(predicted_classes != ground_truth)[0]\n",
    "#     print(\"Number of errors = {}/{}\".format(len(errors),validation_generator.samples))\n",
    "    \n",
    "#     return idx2label, errors, fnames\n",
    "\n",
    "\n",
    "# # Utility function for visualization of the errors\n",
    "# def show_errors(idx2label, errors, predictions, fnames):\n",
    "#     # Show the errors\n",
    "#     for i in range(len(errors)):\n",
    "#         pred_class = np.argmax(predictions[errors[i]])\n",
    "#         pred_label = idx2label[pred_class]\n",
    "\n",
    "#         title = 'Original label:{}, Prediction :{}, confidence : {:.3f}'.format(\n",
    "#             fnames[errors[i]].split('/')[0],\n",
    "#             pred_label,\n",
    "#             predictions[errors[i]][pred_class])\n",
    "\n",
    "#         original = load_img('{}/{}'.format(validation_dir,fnames[errors[i]]))\n",
    "#         plt.figure(figsize=[7,7])\n",
    "#         plt.axis('off')\n",
    "#         plt.title(title)\n",
    "#         plt.imshow(original)\n",
    "#         plt.show()"
   ]
  },
  {
   "cell_type": "code",
   "execution_count": null,
   "metadata": {},
   "outputs": [],
   "source": []
  },
  {
   "cell_type": "markdown",
   "metadata": {},
   "source": [
    "### Binary Base Model Evaluation"
   ]
  },
  {
   "cell_type": "code",
   "execution_count": 26,
   "metadata": {},
   "outputs": [],
   "source": [
    "# test_X = random.sample(b_test_X, 100)\n",
    "# test_set = {image: b_test_set[image] for image in test_X }"
   ]
  },
  {
   "cell_type": "code",
   "execution_count": 27,
   "metadata": {},
   "outputs": [
    {
     "ename": "NameError",
     "evalue": "name 'test_set' is not defined",
     "output_type": "error",
     "traceback": [
      "\u001b[0;31m---------------------------------------------------------------------------\u001b[0m",
      "\u001b[0;31mNameError\u001b[0m                                 Traceback (most recent call last)",
      "\u001b[0;32m<ipython-input-27-8e98108afb09>\u001b[0m in \u001b[0;36m<module>\u001b[0;34m()\u001b[0m\n\u001b[0;32m----> 1\u001b[0;31m \u001b[0mlen\u001b[0m\u001b[0;34m(\u001b[0m\u001b[0mtest_set\u001b[0m\u001b[0;34m)\u001b[0m\u001b[0;34m\u001b[0m\u001b[0m\n\u001b[0m",
      "\u001b[0;31mNameError\u001b[0m: name 'test_set' is not defined"
     ]
    }
   ],
   "source": [
    "len(test_set)"
   ]
  },
  {
   "cell_type": "code",
   "execution_count": 28,
   "metadata": {},
   "outputs": [],
   "source": [
    "binary_test_generator = DataGenerator(b_test_X, b_test_set,n_classes=2,shuffle=False)"
   ]
  },
  {
   "cell_type": "code",
   "execution_count": 29,
   "metadata": {},
   "outputs": [],
   "source": [
    "#Load the best model\n",
    "binary_eval_base_model = load_model(binary_filepath)\n",
    "#binary_eval_base_model = load_model('/mnt/disks/user/project/Final_Models/res_binary_best_modelv2_val65.hdf5')"
   ]
  },
  {
   "cell_type": "code",
   "execution_count": 30,
   "metadata": {},
   "outputs": [],
   "source": [
    "#x,y = binary_test_generator[0]"
   ]
  },
  {
   "cell_type": "code",
   "execution_count": 31,
   "metadata": {},
   "outputs": [],
   "source": [
    "binary_predictions = binary_eval_base_model.predict_generator(binary_test_generator)\n",
    "#binary_predictions = binary_res_model.predict_generator(binary_test_generator)\n",
    "#binary_predictions = binary_eval_base_model.predict(binary_test_generator)"
   ]
  },
  {
   "cell_type": "code",
   "execution_count": 32,
   "metadata": {},
   "outputs": [
    {
     "data": {
      "text/plain": [
       "array([0, 0, 0, ..., 1, 1, 1])"
      ]
     },
     "execution_count": 32,
     "metadata": {},
     "output_type": "execute_result"
    }
   ],
   "source": [
    "np.array(list(binary_test_generator.classes.values()))[binary_test_generator.indexes]"
   ]
  },
  {
   "cell_type": "code",
   "execution_count": 33,
   "metadata": {},
   "outputs": [
    {
     "data": {
      "text/plain": [
       "array([0, 0, 0, ..., 1, 1, 1])"
      ]
     },
     "execution_count": 33,
     "metadata": {},
     "output_type": "execute_result"
    }
   ],
   "source": [
    "np.array(list(binary_test_generator.classes.values()))[:len(binary_predictions)]"
   ]
  },
  {
   "cell_type": "code",
   "execution_count": 34,
   "metadata": {},
   "outputs": [],
   "source": [
    "binary_y_class = np.array(list(binary_test_generator.classes.values()))[:len(binary_predictions)]\n",
    "binary_y = keras.utils.to_categorical(binary_y_class, num_classes=b_nb_classes)"
   ]
  },
  {
   "cell_type": "code",
   "execution_count": 35,
   "metadata": {},
   "outputs": [],
   "source": [
    "binary_prob_max = binary_predictions.max(axis=1).reshape(-1, 1)\n",
    "binary_y_pred = np.where(binary_predictions == binary_prob_max, 1, 0)"
   ]
  },
  {
   "cell_type": "code",
   "execution_count": 36,
   "metadata": {},
   "outputs": [],
   "source": [
    "binary_pred = np.argmax(binary_predictions, axis=-1)"
   ]
  },
  {
   "cell_type": "code",
   "execution_count": 37,
   "metadata": {},
   "outputs": [
    {
     "data": {
      "text/plain": [
       "2368"
      ]
     },
     "execution_count": 37,
     "metadata": {},
     "output_type": "execute_result"
    }
   ],
   "source": [
    "len(binary_y_pred)"
   ]
  },
  {
   "cell_type": "code",
   "execution_count": 38,
   "metadata": {},
   "outputs": [
    {
     "data": {
      "text/plain": [
       "2368"
      ]
     },
     "execution_count": 38,
     "metadata": {},
     "output_type": "execute_result"
    }
   ],
   "source": [
    "len(binary_y)"
   ]
  },
  {
   "cell_type": "code",
   "execution_count": 39,
   "metadata": {},
   "outputs": [
    {
     "data": {
      "text/plain": [
       "array([0, 0, 0, ..., 1, 1, 1])"
      ]
     },
     "execution_count": 39,
     "metadata": {},
     "output_type": "execute_result"
    }
   ],
   "source": [
    "binary_y_class"
   ]
  },
  {
   "cell_type": "code",
   "execution_count": 40,
   "metadata": {},
   "outputs": [
    {
     "data": {
      "text/plain": [
       "array([0, 0, 0, ..., 0, 0, 0])"
      ]
     },
     "execution_count": 40,
     "metadata": {},
     "output_type": "execute_result"
    }
   ],
   "source": [
    "binary_pred"
   ]
  },
  {
   "cell_type": "code",
   "execution_count": 41,
   "metadata": {},
   "outputs": [
    {
     "data": {
      "text/plain": [
       "Counter({0: 2368})"
      ]
     },
     "execution_count": 41,
     "metadata": {},
     "output_type": "execute_result"
    }
   ],
   "source": [
    "Counter(binary_pred)"
   ]
  },
  {
   "cell_type": "code",
   "execution_count": 42,
   "metadata": {},
   "outputs": [
    {
     "name": "stdout",
     "output_type": "stream",
     "text": [
      "VGG Model Test Score  0.5063344594594594\n"
     ]
    }
   ],
   "source": [
    "binary_score_test = metrics.accuracy_score(binary_y, binary_y_pred)\n",
    "print('VGG Model Test Score ',binary_score_test)"
   ]
  },
  {
   "cell_type": "code",
   "execution_count": 43,
   "metadata": {},
   "outputs": [
    {
     "name": "stdout",
     "output_type": "stream",
     "text": [
      "[[1199    0]\n",
      " [1169    0]]\n"
     ]
    }
   ],
   "source": [
    "binary_cm = confusion_matrix(binary_y_class, binary_pred)\n",
    "print(binary_cm)"
   ]
  },
  {
   "cell_type": "code",
   "execution_count": 44,
   "metadata": {
    "scrolled": true
   },
   "outputs": [
    {
     "name": "stdout",
     "output_type": "stream",
     "text": [
      "             precision    recall  f1-score   support\n",
      "\n",
      "          0       0.51      1.00      0.67      1199\n",
      "          1       0.00      0.00      0.00      1169\n",
      "\n",
      "avg / total       0.26      0.51      0.34      2368\n",
      "\n"
     ]
    },
    {
     "name": "stderr",
     "output_type": "stream",
     "text": [
      "/mnt/disks/user/anaconda3/lib/python3.6/site-packages/sklearn/metrics/classification.py:1135: UndefinedMetricWarning: Precision and F-score are ill-defined and being set to 0.0 in labels with no predicted samples.\n",
      "  'precision', 'predicted', average, warn_for)\n"
     ]
    }
   ],
   "source": [
    "binary_report = classification_report(binary_y,binary_y_pred)\n",
    "print(binary_report)"
   ]
  },
  {
   "cell_type": "code",
   "execution_count": 45,
   "metadata": {},
   "outputs": [
    {
     "data": {
      "text/plain": [
       "0.5"
      ]
     },
     "execution_count": 45,
     "metadata": {},
     "output_type": "execute_result"
    }
   ],
   "source": [
    "roc_auc_score(binary_y, binary_y_pred)"
   ]
  },
  {
   "cell_type": "markdown",
   "metadata": {},
   "source": [
    "## Multi-Class VGG16 Classification Models"
   ]
  },
  {
   "cell_type": "code",
   "execution_count": 46,
   "metadata": {},
   "outputs": [
    {
     "name": "stdout",
     "output_type": "stream",
     "text": [
      "_________________________________________________________________\n",
      "Layer (type)                 Output Shape              Param #   \n",
      "=================================================================\n",
      "vgg16 (Model)                (None, 7, 7, 512)         14714688  \n",
      "_________________________________________________________________\n",
      "conv2d_1 (Conv2D)            (None, 4, 4, 64)          294976    \n",
      "_________________________________________________________________\n",
      "leaky_re_lu_1 (LeakyReLU)    (None, 4, 4, 64)          0         \n",
      "_________________________________________________________________\n",
      "dropout_1 (Dropout)          (None, 4, 4, 64)          0         \n",
      "_________________________________________________________________\n",
      "flatten_1 (Flatten)          (None, 1024)              0         \n",
      "_________________________________________________________________\n",
      "dense_1 (Dense)              (None, 3)                 3075      \n",
      "=================================================================\n",
      "Total params: 15,012,739\n",
      "Trainable params: 14,900,163\n",
      "Non-trainable params: 112,576\n",
      "_________________________________________________________________\n"
     ]
    }
   ],
   "source": [
    "def cnn_model(in_shape=(224,224,3)):\n",
    "    model = Sequential()\n",
    "    model.add(vgg_base)\n",
    "    model.add(Conv2D(64,(3,3), strides=(2,2), padding='same'))\n",
    "    model.add(LeakyReLU(alpha=0.2))\n",
    "    model.add(Dropout(0.6))\n",
    "#     model.add(Conv2D(64,(3,3),strides=(2,2), padding='same'))\n",
    "#     model.add(LeakyReLU(alpha=0.2))\n",
    "#     model.add(Dropout(0.4))\n",
    "    model.add(Flatten())\n",
    "    model.add(Dense(m_nb_classes, activation='softmax'))\n",
    "    \n",
    "    return model\n",
    "\n",
    "#call define model\n",
    "multi_vgg_model = cnn_model()\n",
    "multi_vgg_model.summary()"
   ]
  },
  {
   "cell_type": "code",
   "execution_count": 47,
   "metadata": {},
   "outputs": [],
   "source": [
    "sgd = optimizers.SGD(lr=0.005, momentum=0.5, decay = 0.001)"
   ]
  },
  {
   "cell_type": "code",
   "execution_count": 48,
   "metadata": {},
   "outputs": [
    {
     "name": "stdout",
     "output_type": "stream",
     "text": [
      "Counter({0: 599, 1: 599, 2: 599})\n",
      "Counter({0: 1401, 1: 1401, 2: 1401})\n"
     ]
    }
   ],
   "source": [
    "m_training_generator, m_validation_generator = data_generator(m_train_X, m_train_set, m_test_X, m_test_set,classes=m_nb_classes)\n",
    "multi_vgg_model.compile(loss='categorical_crossentropy',\n",
    "              optimizer=sgd,\n",
    "              metrics=['accuracy'])"
   ]
  },
  {
   "cell_type": "code",
   "execution_count": 49,
   "metadata": {
    "scrolled": true
   },
   "outputs": [
    {
     "name": "stdout",
     "output_type": "stream",
     "text": [
      "Epoch 1/20\n",
      "130/131 [============================>.] - ETA: 0s - loss: 10.5736 - acc: 0.3440\n",
      "Epoch 00001: val_acc improved from -inf to 0.33259, saving model to /mnt/disks/user/project/Final_Models/multi_vgg_best_model.hdf5\n",
      "131/131 [==============================] - 153s 1s/step - loss: 10.5775 - acc: 0.3438 - val_loss: 10.7574 - val_acc: 0.3326\n",
      "Epoch 2/20\n",
      "130/131 [============================>.] - ETA: 0s - loss: 10.7557 - acc: 0.3327\n",
      "Epoch 00002: val_acc did not improve from 0.33259\n",
      "131/131 [==============================] - 99s 753ms/step - loss: 10.7467 - acc: 0.3333 - val_loss: 10.7574 - val_acc: 0.3326\n",
      "Epoch 3/20\n",
      "130/131 [============================>.] - ETA: 0s - loss: 10.7364 - acc: 0.3339\n",
      "Epoch 00003: val_acc improved from 0.33259 to 0.33315, saving model to /mnt/disks/user/project/Final_Models/multi_vgg_best_model.hdf5\n",
      "131/131 [==============================] - 99s 758ms/step - loss: 10.7313 - acc: 0.3342 - val_loss: 10.7484 - val_acc: 0.3331\n",
      "Epoch 4/20\n",
      "130/131 [============================>.] - ETA: 0s - loss: 10.7441 - acc: 0.3334\n",
      "Epoch 00004: val_acc improved from 0.33315 to 0.33371, saving model to /mnt/disks/user/project/Final_Models/multi_vgg_best_model.hdf5\n",
      "131/131 [==============================] - 99s 758ms/step - loss: 10.7467 - acc: 0.3333 - val_loss: 10.7394 - val_acc: 0.3337\n",
      "Epoch 5/20\n",
      "130/131 [============================>.] - ETA: 0s - loss: 10.7402 - acc: 0.3337\n",
      "Epoch 00005: val_acc did not improve from 0.33371\n",
      "131/131 [==============================] - 98s 751ms/step - loss: 10.7428 - acc: 0.3335 - val_loss: 10.7484 - val_acc: 0.3331\n",
      "Epoch 6/20\n",
      "130/131 [============================>.] - ETA: 0s - loss: 10.7596 - acc: 0.3325\n",
      "Epoch 00006: val_acc did not improve from 0.33371\n",
      "131/131 [==============================] - 98s 750ms/step - loss: 10.7505 - acc: 0.3330 - val_loss: 10.7574 - val_acc: 0.3326\n",
      "Epoch 7/20\n",
      "130/131 [============================>.] - ETA: 0s - loss: 10.7712 - acc: 0.3317\n",
      "Epoch 00007: val_acc did not improve from 0.33371\n",
      "131/131 [==============================] - 98s 750ms/step - loss: 10.7697 - acc: 0.3318 - val_loss: 10.7394 - val_acc: 0.3337\n",
      "Epoch 8/20\n",
      "130/131 [============================>.] - ETA: 0s - loss: 10.7402 - acc: 0.3337\n",
      "Epoch 00008: val_acc did not improve from 0.33371\n",
      "131/131 [==============================] - 98s 751ms/step - loss: 10.7390 - acc: 0.3337 - val_loss: 10.7394 - val_acc: 0.3337\n",
      "Epoch 9/20\n",
      "130/131 [============================>.] - ETA: 0s - loss: 10.7131 - acc: 0.3353\n",
      "Epoch 00009: val_acc did not improve from 0.33371\n",
      "131/131 [==============================] - 98s 751ms/step - loss: 10.7198 - acc: 0.3349 - val_loss: 10.7394 - val_acc: 0.3337\n",
      "Epoch 10/20\n",
      "130/131 [============================>.] - ETA: 0s - loss: 10.7364 - acc: 0.3339\n",
      "Epoch 00010: val_acc did not improve from 0.33371\n",
      "131/131 [==============================] - 98s 751ms/step - loss: 10.7467 - acc: 0.3333 - val_loss: 10.7484 - val_acc: 0.3331\n",
      "Epoch 11/20\n",
      "130/131 [============================>.] - ETA: 0s - loss: 10.7441 - acc: 0.3334\n",
      "Epoch 00011: val_acc did not improve from 0.33371\n",
      "131/131 [==============================] - 98s 751ms/step - loss: 10.7428 - acc: 0.3335 - val_loss: 10.7394 - val_acc: 0.3337\n",
      "Epoch 12/20\n",
      "130/131 [============================>.] - ETA: 0s - loss: 10.7519 - acc: 0.3329\n",
      "Epoch 00012: val_acc did not improve from 0.33371\n",
      "131/131 [==============================] - 98s 751ms/step - loss: 10.7428 - acc: 0.3335 - val_loss: 10.7664 - val_acc: 0.3320\n",
      "Epoch 13/20\n",
      "130/131 [============================>.] - ETA: 0s - loss: 10.7751 - acc: 0.3315\n",
      "Epoch 00013: val_acc improved from 0.33371 to 0.33426, saving model to /mnt/disks/user/project/Final_Models/multi_vgg_best_model.hdf5\n",
      "131/131 [==============================] - 99s 757ms/step - loss: 10.7621 - acc: 0.3323 - val_loss: 10.7304 - val_acc: 0.3343\n",
      "Epoch 14/20\n",
      "130/131 [============================>.] - ETA: 0s - loss: 10.8138 - acc: 0.3291\n",
      "Epoch 00014: val_acc did not improve from 0.33426\n",
      "131/131 [==============================] - 98s 752ms/step - loss: 10.7697 - acc: 0.3318 - val_loss: 10.7394 - val_acc: 0.3337\n",
      "Epoch 15/20\n",
      "130/131 [============================>.] - ETA: 0s - loss: 10.7170 - acc: 0.3351\n",
      "Epoch 00015: val_acc did not improve from 0.33426\n",
      "131/131 [==============================] - 98s 751ms/step - loss: 10.7313 - acc: 0.3342 - val_loss: 10.7484 - val_acc: 0.3331\n",
      "Epoch 16/20\n",
      "130/131 [============================>.] - ETA: 0s - loss: 10.7286 - acc: 0.3344\n",
      "Epoch 00016: val_acc did not improve from 0.33426\n",
      "131/131 [==============================] - 98s 751ms/step - loss: 10.7428 - acc: 0.3335 - val_loss: 10.7304 - val_acc: 0.3343\n",
      "Epoch 17/20\n",
      "130/131 [============================>.] - ETA: 0s - loss: 10.7480 - acc: 0.3332\n",
      "Epoch 00017: val_acc did not improve from 0.33426\n",
      "131/131 [==============================] - 106s 809ms/step - loss: 10.7505 - acc: 0.3330 - val_loss: 10.7304 - val_acc: 0.3343\n",
      "Epoch 18/20\n",
      "130/131 [============================>.] - ETA: 0s - loss: 10.7170 - acc: 0.3351\n",
      "Epoch 00018: val_acc did not improve from 0.33426\n",
      "131/131 [==============================] - 145s 1s/step - loss: 10.7390 - acc: 0.3337 - val_loss: 10.7394 - val_acc: 0.3337\n",
      "Epoch 19/20\n",
      "130/131 [============================>.] - ETA: 0s - loss: 10.7751 - acc: 0.3315\n",
      "Epoch 00019: val_acc did not improve from 0.33426\n",
      "131/131 [==============================] - 144s 1s/step - loss: 10.7621 - acc: 0.3323 - val_loss: 10.7484 - val_acc: 0.3331\n",
      "Epoch 20/20\n",
      "130/131 [============================>.] - ETA: 0s - loss: 10.7402 - acc: 0.3337\n",
      "Epoch 00020: val_acc did not improve from 0.33426\n",
      "131/131 [==============================] - 99s 755ms/step - loss: 10.7544 - acc: 0.3328 - val_loss: 10.7664 - val_acc: 0.3320\n"
     ]
    }
   ],
   "source": [
    "# checkpoint \n",
    "multi_filepath = '/mnt/disks/user/project/Final_Models/multi_vgg_best_model.hdf5'\n",
    "checkpoint = ModelCheckpoint(multi_filepath, monitor='val_acc', verbose=1, save_best_only=True, mode='max')\n",
    "auc_logger = roc_callback()\n",
    "# fit: this will fit the net on 'ablation' samples, only 1 epoch\n",
    "multi_history = multi_vgg_model.fit_generator(generator = m_training_generator,\n",
    "                    validation_data = m_validation_generator,\n",
    "                    shuffle=True,\n",
    "                    epochs=20,\n",
    "                    callbacks=[checkpoint])"
   ]
  },
  {
   "cell_type": "code",
   "execution_count": 50,
   "metadata": {
    "scrolled": true
   },
   "outputs": [
    {
     "data": {
      "text/plain": [
       "<matplotlib.legend.Legend at 0x7f6520533e80>"
      ]
     },
     "execution_count": 50,
     "metadata": {},
     "output_type": "execute_result"
    },
    {
     "data": {
      "image/png": "[encoded data removed]",
      "text/plain": [
       "<Figure size 432x288 with 1 Axes>"
      ]
     },
     "metadata": {},
     "output_type": "display_data"
    }
   ],
   "source": [
    "multi_acc = multi_history.history['acc']\n",
    "multi_val_acc = multi_history.history['val_acc']\n",
    "\n",
    "multi_epochs = range(len(multi_acc))\n",
    "\n",
    "plt.plot(multi_epochs, multi_acc, 'g', label='Training acc')\n",
    "plt.plot(multi_epochs, multi_val_acc, 'b', label='Validation acc')\n",
    "plt.title('Multi-Class Classification VGG Model Accuracy')\n",
    "plt.legend()"
   ]
  },
  {
   "cell_type": "markdown",
   "metadata": {},
   "source": [
    "### Multi-Class Base Model Evaluation"
   ]
  },
  {
   "cell_type": "code",
   "execution_count": 51,
   "metadata": {},
   "outputs": [],
   "source": [
    "multi_test_generator = DataGenerator(m_test_X, m_test_set,n_classes=m_nb_classes,shuffle=False)"
   ]
  },
  {
   "cell_type": "code",
   "execution_count": 52,
   "metadata": {},
   "outputs": [],
   "source": [
    "#Load the best model\n",
    "multi_eval_base_model = load_model(multi_filepath)"
   ]
  },
  {
   "cell_type": "code",
   "execution_count": 53,
   "metadata": {},
   "outputs": [],
   "source": [
    "multi_predictions = multi_eval_base_model.predict_generator(multi_test_generator)"
   ]
  },
  {
   "cell_type": "code",
   "execution_count": 54,
   "metadata": {},
   "outputs": [],
   "source": [
    "multi_y_class = np.array(list(multi_test_generator.classes.values()))[:len(multi_predictions)]\n",
    "multi_y = keras.utils.to_categorical(multi_y_class, num_classes=m_nb_classes)"
   ]
  },
  {
   "cell_type": "code",
   "execution_count": 55,
   "metadata": {},
   "outputs": [],
   "source": [
    "multi_prob_max = multi_predictions.max(axis=1).reshape(-1, 1)\n",
    "multi_y_pred = np.where(multi_predictions == multi_prob_max, 1, 0)"
   ]
  },
  {
   "cell_type": "code",
   "execution_count": 56,
   "metadata": {},
   "outputs": [],
   "source": [
    "multi_pred = np.argmax(multi_predictions, axis=-1)"
   ]
  },
  {
   "cell_type": "code",
   "execution_count": 57,
   "metadata": {},
   "outputs": [
    {
     "data": {
      "text/plain": [
       "1792"
      ]
     },
     "execution_count": 57,
     "metadata": {},
     "output_type": "execute_result"
    }
   ],
   "source": [
    "len(multi_y_pred)"
   ]
  },
  {
   "cell_type": "code",
   "execution_count": 58,
   "metadata": {},
   "outputs": [
    {
     "data": {
      "text/plain": [
       "1792"
      ]
     },
     "execution_count": 58,
     "metadata": {},
     "output_type": "execute_result"
    }
   ],
   "source": [
    "len(multi_y)"
   ]
  },
  {
   "cell_type": "code",
   "execution_count": 59,
   "metadata": {},
   "outputs": [
    {
     "data": {
      "text/plain": [
       "Counter({1: 1792})"
      ]
     },
     "execution_count": 59,
     "metadata": {},
     "output_type": "execute_result"
    }
   ],
   "source": [
    "Counter(multi_pred)"
   ]
  },
  {
   "cell_type": "code",
   "execution_count": 60,
   "metadata": {},
   "outputs": [
    {
     "name": "stdout",
     "output_type": "stream",
     "text": [
      "Multi-Class VGG Model Test Score  0.33426339285714285\n"
     ]
    }
   ],
   "source": [
    "multi_score_test = metrics.accuracy_score(multi_y, multi_y_pred)\n",
    "print('Multi-Class VGG Model Test Score ',multi_score_test)"
   ]
  },
  {
   "cell_type": "code",
   "execution_count": 61,
   "metadata": {},
   "outputs": [
    {
     "name": "stdout",
     "output_type": "stream",
     "text": [
      "[[  0 599   0]\n",
      " [  0 599   0]\n",
      " [  0 594   0]]\n"
     ]
    }
   ],
   "source": [
    "multi_cm = confusion_matrix(multi_y_class, multi_pred)\n",
    "print(multi_cm)"
   ]
  },
  {
   "cell_type": "code",
   "execution_count": 62,
   "metadata": {
    "scrolled": true
   },
   "outputs": [
    {
     "name": "stdout",
     "output_type": "stream",
     "text": [
      "             precision    recall  f1-score   support\n",
      "\n",
      "          0       0.00      0.00      0.00       599\n",
      "          1       0.33      1.00      0.50       599\n",
      "          2       0.00      0.00      0.00       594\n",
      "\n",
      "avg / total       0.11      0.33      0.17      1792\n",
      "\n"
     ]
    },
    {
     "name": "stderr",
     "output_type": "stream",
     "text": [
      "/mnt/disks/user/anaconda3/lib/python3.6/site-packages/sklearn/metrics/classification.py:1135: UndefinedMetricWarning: Precision and F-score are ill-defined and being set to 0.0 in labels with no predicted samples.\n",
      "  'precision', 'predicted', average, warn_for)\n"
     ]
    }
   ],
   "source": [
    "multi_report = classification_report(multi_y,multi_y_pred)\n",
    "print(multi_report)"
   ]
  },
  {
   "cell_type": "code",
   "execution_count": null,
   "metadata": {},
   "outputs": [],
   "source": []
  }
 ],
 "metadata": {
  "anaconda-cloud": {},
  "kernelspec": {
   "display_name": "Python 3",
   "language": "python",
   "name": "python3"
  },
  "language_info": {
   "codemirror_mode": {
    "name": "ipython",
    "version": 3
   },
   "file_extension": ".py",
   "mimetype": "text/x-python",
   "name": "python",
   "nbconvert_exporter": "python",
   "pygments_lexer": "ipython3",
   "version": "3.6.5"
  }
 },
 "nbformat": 4,
 "nbformat_minor": 1
}
