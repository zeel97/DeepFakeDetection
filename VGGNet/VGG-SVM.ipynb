{
 "cells": [
  {
   "cell_type": "markdown",
   "metadata": {},
   "source": [
    "# DeepFake Detection: VGG Model\n",
    "\n",
    "**Objective**: Use transfer learning for feature extraction with VGG16 followed by SVM classification model  \n",
    "\n",
    "**VGG16 Models**: \n",
    "1. Binary Classification\n",
    "2. Multi-Class Classification"
   ]
  },
  {
   "cell_type": "code",
   "execution_count": 1,
   "metadata": {},
   "outputs": [
    {
     "name": "stderr",
     "output_type": "stream",
     "text": [
      "Using TensorFlow backend.\n",
      "/mnt/disks/user/anaconda3/lib/python3.6/site-packages/tensorflow/python/framework/dtypes.py:523: FutureWarning: Passing (type, 1) or '1type' as a synonym of type is deprecated; in a future version of numpy, it will be understood as (type, (1,)) / '(1,)type'.\n",
      "  _np_qint8 = np.dtype([(\"qint8\", np.int8, 1)])\n",
      "/mnt/disks/user/anaconda3/lib/python3.6/site-packages/tensorflow/python/framework/dtypes.py:524: FutureWarning: Passing (type, 1) or '1type' as a synonym of type is deprecated; in a future version of numpy, it will be understood as (type, (1,)) / '(1,)type'.\n",
      "  _np_quint8 = np.dtype([(\"quint8\", np.uint8, 1)])\n",
      "/mnt/disks/user/anaconda3/lib/python3.6/site-packages/tensorflow/python/framework/dtypes.py:525: FutureWarning: Passing (type, 1) or '1type' as a synonym of type is deprecated; in a future version of numpy, it will be understood as (type, (1,)) / '(1,)type'.\n",
      "  _np_qint16 = np.dtype([(\"qint16\", np.int16, 1)])\n",
      "/mnt/disks/user/anaconda3/lib/python3.6/site-packages/tensorflow/python/framework/dtypes.py:526: FutureWarning: Passing (type, 1) or '1type' as a synonym of type is deprecated; in a future version of numpy, it will be understood as (type, (1,)) / '(1,)type'.\n",
      "  _np_quint16 = np.dtype([(\"quint16\", np.uint16, 1)])\n",
      "/mnt/disks/user/anaconda3/lib/python3.6/site-packages/tensorflow/python/framework/dtypes.py:527: FutureWarning: Passing (type, 1) or '1type' as a synonym of type is deprecated; in a future version of numpy, it will be understood as (type, (1,)) / '(1,)type'.\n",
      "  _np_qint32 = np.dtype([(\"qint32\", np.int32, 1)])\n",
      "/mnt/disks/user/anaconda3/lib/python3.6/site-packages/tensorflow/python/framework/dtypes.py:532: FutureWarning: Passing (type, 1) or '1type' as a synonym of type is deprecated; in a future version of numpy, it will be understood as (type, (1,)) / '(1,)type'.\n",
      "  np_resource = np.dtype([(\"resource\", np.ubyte, 1)])\n"
     ]
    }
   ],
   "source": [
    "import numpy as np\n",
    "import pandas as pd\n",
    "% matplotlib inline\n",
    "from __future__ import print_function\n",
    "\n",
    "#Data Processing\n",
    "from skimage import io\n",
    "import os\n",
    "import glob\n",
    "from sklearn.preprocessing import LabelEncoder\n",
    "from keras.preprocessing.image import img_to_array\n",
    "from keras.preprocessing.image import load_img\n",
    "from keras.preprocessing.image import array_to_img\n",
    "from keras.applications.vgg16 import preprocess_input\n",
    "from tensorflow.keras.preprocessing import image\n",
    "from keras.preprocessing.image import ImageDataGenerator\n",
    "import random\n",
    "from PIL import Image\n",
    "import matplotlib.pyplot as plt\n",
    "from collections import Counter\n",
    "\n",
    "from sklearn.model_selection import KFold\n",
    "from sklearn.model_selection import cross_val_score\n",
    "from sklearn.model_selection import GridSearchCV\n",
    "\n",
    "from tensorflow.keras.models import Model\n",
    "\n",
    "from sklearn.svm import SVC\n",
    "import sklearn\n",
    "\n",
    "#Neural Networks\n",
    "from tensorflow.python import keras\n",
    "import tensorflow as tf\n",
    "from tensorflow.keras.models import Model\n",
    "from tensorflow.keras.layers import Dense, Dropout, Activation, Flatten\n",
    "from tensorflow.keras.layers import Conv2D, MaxPooling2D\n",
    "from tensorflow.keras.layers import LeakyReLU\n",
    "from tensorflow.keras.layers import GlobalAveragePooling2D\n",
    "from tensorflow.keras.models import Sequential\n",
    "from keras.optimizers import Adam\n",
    "from tensorflow.keras import optimizers\n",
    "from sklearn.pipeline import Pipeline\n",
    "from sklearn.preprocessing import StandardScaler\n",
    "\n",
    "\n",
    "#Models\n",
    "from tensorflow.keras.applications.vgg16 import VGG16\n",
    "\n",
    "\n",
    "#Evaluation\n",
    "from sklearn.metrics import roc_auc_score\n",
    "from sklearn.metrics import roc_curve\n",
    "from sklearn.metrics import classification_report\n",
    "from sklearn.metrics import confusion_matrix\n",
    "from keras.callbacks import ModelCheckpoint,Callback\n",
    "from sklearn import metrics\n",
    "from tensorflow.keras.models import load_model"
   ]
  },
  {
   "cell_type": "markdown",
   "metadata": {},
   "source": [
    "## Dataset Split\n",
    "\n",
    "Load the DeepFake dataset to randomly divide it into train and test set "
   ]
  },
  {
   "cell_type": "code",
   "execution_count": 2,
   "metadata": {},
   "outputs": [],
   "source": [
    "# path to your dataset\n",
    "DATASET_PATH = '/mnt/disks/user/project/Dataset/'\n",
    "deepfake_class = ['original/clean_frames','FaceSwap/clean_frames', 'Reenactment/clean_frames']"
   ]
  },
  {
   "cell_type": "code",
   "execution_count": 3,
   "metadata": {},
   "outputs": [],
   "source": [
    "'''\n",
    "func: load the deepfake dataset and divide them into train and test with each having samples of the different classes\n",
    "input:\n",
    "    i.dataset_path: string: the main dataset folder path \n",
    "    ii.train_ratio: float: the ratio of the dataset that will be used for training the model. Eg: 0.8\n",
    "    iii. fake_class: string array: the different deepfake classes\n",
    "output:\n",
    "    i. train_set, test_set: dictionary of image paths as key and deepfake class as value\n",
    "    ii. X_train, X_test: array of image paths \n",
    "    iii. y_train, y_test: array of corresponding deepfake classes \n",
    "'''\n",
    "def MultiDatasetSplit(DATASET_PATH, train_ratio,fake_cls):\n",
    "    test_set = {}\n",
    "    train_set = {}\n",
    "    list_IDs = []\n",
    "    labels = {}\n",
    "    for i, cls in enumerate(fake_cls):\n",
    "        paths = glob.glob(os.path.join(DATASET_PATH, cls,'*/*.jpg'))\n",
    "        #balancing the dataset\n",
    "        balance_paths = random.sample(paths,2000)\n",
    "\n",
    "        brk_point = int(len(balance_paths)*train_ratio)\n",
    "        for j in range(len(balance_paths)):\n",
    "            if j <= brk_point:\n",
    "                train_set.update({balance_paths[j]:i})\n",
    "            else:\n",
    "                test_set.update({balance_paths[j]:i})\n",
    "    \n",
    "    X_train = [X for X in train_set.keys()] \n",
    "    y_train = [y for y in train_set.values()]\n",
    "    X_test = [X for X in test_set.keys()]\n",
    "    y_test = [y for y in test_set.values()]\n",
    "    return train_set, test_set, X_train,y_train, X_test, y_test"
   ]
  },
  {
   "cell_type": "code",
   "execution_count": 4,
   "metadata": {},
   "outputs": [],
   "source": [
    "'''\n",
    "func: load the deepfake dataset and divide them into train and test with each having samples of the different classes\n",
    "input:\n",
    "    i.dataset_path: string: the main dataset folder path \n",
    "    ii.train_ratio: float: the ratio of the dataset that will be used for training the model. Eg: 0.8\n",
    "    iii. fake_class: string array: the different deepfake classes\n",
    "output:\n",
    "    i. train_set, test_set: dictionary of image paths as key and deepfake class as value\n",
    "    ii. X_train, X_test: array of image paths \n",
    "    iii. y_train, y_test: array of corresponding deepfake classes \n",
    "'''\n",
    "def BinaryDatasetSplit(DATASET_PATH, train_ratio,fake_cls):\n",
    "    test_set = {}\n",
    "    train_set = {}\n",
    "    list_IDs = []\n",
    "    labels = {}\n",
    "    for i, cls in enumerate(fake_cls):\n",
    "        paths = glob.glob(os.path.join(DATASET_PATH, cls,'*/*.jpg'))\n",
    "        if i == 0:\n",
    "            paths = random.sample(paths,4000)\n",
    "        else:\n",
    "            paths = random.sample(paths,2000)\n",
    "        brk_point = int(len(paths)*train_ratio)\n",
    "        for j in range(len(paths)):\n",
    "            if j <= brk_point:\n",
    "                if i == 0:\n",
    "                    train_set.update({paths[j]:0})\n",
    "                else: \n",
    "                    train_set.update({paths[j]:1})\n",
    "            else:\n",
    "                if i == 0:\n",
    "                    test_set.update({paths[j]:0})\n",
    "                else:\n",
    "                    test_set.update({paths[j]:1})\n",
    "\n",
    "    X_train = [X for X in train_set.keys()] \n",
    "    y_train = [y for y in train_set.values()]\n",
    "    X_test = [X for X in test_set.keys()]\n",
    "    y_test = [y for y in test_set.values()]\n",
    "    return train_set, test_set, X_train,y_train, X_test, y_test"
   ]
  },
  {
   "cell_type": "code",
   "execution_count": 5,
   "metadata": {},
   "outputs": [],
   "source": [
    "b_train_set, b_test_set, b_train_X, b_train_y, b_test_X, b_test_y = BinaryDatasetSplit(DATASET_PATH,0.7,deepfake_class)"
   ]
  },
  {
   "cell_type": "code",
   "execution_count": 6,
   "metadata": {},
   "outputs": [],
   "source": [
    "m_train_set, m_test_set, m_train_X, m_train_y, m_test_X, m_test_y = MultiDatasetSplit(DATASET_PATH,0.7,deepfake_class)"
   ]
  },
  {
   "cell_type": "code",
   "execution_count": 7,
   "metadata": {},
   "outputs": [
    {
     "data": {
      "text/plain": [
       "Counter({0: 2801, 1: 2802})"
      ]
     },
     "execution_count": 7,
     "metadata": {},
     "output_type": "execute_result"
    }
   ],
   "source": [
    "Counter(b_train_set.values())"
   ]
  },
  {
   "cell_type": "code",
   "execution_count": 8,
   "metadata": {},
   "outputs": [
    {
     "data": {
      "text/plain": [
       "Counter({0: 1401, 1: 1401, 2: 1401})"
      ]
     },
     "execution_count": 8,
     "metadata": {},
     "output_type": "execute_result"
    }
   ],
   "source": [
    "Counter(m_train_set.values())"
   ]
  },
  {
   "cell_type": "code",
   "execution_count": 9,
   "metadata": {},
   "outputs": [
    {
     "data": {
      "text/plain": [
       "{0, 1}"
      ]
     },
     "execution_count": 9,
     "metadata": {},
     "output_type": "execute_result"
    }
   ],
   "source": [
    "set(b_test_set.values())"
   ]
  },
  {
   "cell_type": "code",
   "execution_count": 10,
   "metadata": {},
   "outputs": [
    {
     "data": {
      "text/plain": [
       "{0, 1, 2}"
      ]
     },
     "execution_count": 10,
     "metadata": {},
     "output_type": "execute_result"
    }
   ],
   "source": [
    "set(m_test_set.values())"
   ]
  },
  {
   "cell_type": "code",
   "execution_count": 11,
   "metadata": {},
   "outputs": [],
   "source": [
    "# specify image size and channels\n",
    "img_channels = 3\n",
    "img_rows = 224\n",
    "img_cols = 224\n",
    "\n",
    "# number of classes\n",
    "b_nb_classes = 2\n",
    "m_nb_classes = 3"
   ]
  },
  {
   "cell_type": "markdown",
   "metadata": {},
   "source": [
    "## Data Processing\n",
    "\n",
    "Divide data into batches and process them"
   ]
  },
  {
   "cell_type": "code",
   "execution_count": 12,
   "metadata": {},
   "outputs": [],
   "source": [
    "'''\n",
    "func: prepare and process batch wise data for training/ablation. \n",
    "The image path is converted to image data while the classes are label encoded (0,1,2)\n",
    "input:\n",
    "    i.image_list: X data: array of image paths\n",
    "    ii:classes: y data: dictionary of image paths and their corresponding classes\n",
    "output:\n",
    "    i. DataGenerator\n",
    "'''\n",
    "class DataGenerator(tf.keras.utils.Sequence):\n",
    "    'Generates data for Keras'\n",
    "    def __init__(self, image_list, classes, batch_size=10, dim=(224,224), n_channels=3,\n",
    "                 n_classes=3,shuffle=True):\n",
    "        'Initialization'\n",
    "        self.dim = dim\n",
    "        self.batch_size = batch_size\n",
    "        self.classes = classes\n",
    "        self.image_list = image_list\n",
    "        self.n_channels = n_channels\n",
    "        self.n_classes = n_classes\n",
    "        self.shuffle = shuffle\n",
    "        self.on_epoch_end()\n",
    "\n",
    "    def __len__(self):\n",
    "        'Denotes the number of batches per epoch'\n",
    "        return int(np.floor(len(self.image_list) / self.batch_size))\n",
    "\n",
    "    def __getitem__(self, index):\n",
    "        'Generate one batch of data'\n",
    "        # Generate indexes of the batch\n",
    "        indexes = self.indexes[index*self.batch_size:(index+1)*self.batch_size]\n",
    "\n",
    "        # Find list of IDs\n",
    "        list_img_temp = [self.image_list[k] for k in indexes]\n",
    "\n",
    "        # Generate data\n",
    "        X, y = self.__data_generation(list_img_temp)\n",
    "        return X, y\n",
    "\n",
    "\n",
    "    def on_epoch_end(self):\n",
    "        'Updates indexes after each epoch'\n",
    "        self.indexes = np.arange(len(self.image_list))\n",
    "        if self.shuffle == True:\n",
    "            np.random.shuffle(self.indexes)\n",
    "\n",
    "    def __data_generation(self, list_img_temp):\n",
    "        'Generates data containing batch_size samples' # X : (n_samples, *dim, n_channels)\n",
    "        # Initialization of Y\n",
    "        y = np.empty((self.batch_size), dtype=int)\n",
    "        X = np.empty((self.batch_size, *self.dim, self.n_channels))\n",
    "        #X = np.random.rand(self.batch_size, *self.dim, self.n_channels)\n",
    "\n",
    "        #For each image path in the batch: load it, convert it to array, normalize values and pre-process.\n",
    "        #Append X and respective y values to the empty X and y variables\n",
    "        for i, ID in enumerate(list_img_temp):\n",
    "            img = load_img(ID, target_size=self.dim)\n",
    "            img = img_to_array(img)\n",
    "            #img = img/255\n",
    "            #process = datagen.fit(img)\n",
    "            img = preprocess_input(img)\n",
    "            img = np.expand_dims(img, axis=0)\n",
    "            X[i,] = img\n",
    "            y[i] = self.classes[ID]\n",
    "            \n",
    "        #class encoding to 0,1,2\n",
    "#         le = LabelEncoder()\n",
    "#         self.y_value = le.fit_transform(y)\n",
    "        return X,keras.utils.to_categorical(y, num_classes=self.n_classes)"
   ]
  },
  {
   "cell_type": "code",
   "execution_count": 13,
   "metadata": {},
   "outputs": [],
   "source": [
    "'''\n",
    "func: get the data generators for training and validation\n",
    "input:\n",
    "    i.train_X, test_X: array of image paths in training and testing respectively\n",
    "    ii.train_set, test_set: dictionary of image paths and their corresponding class for training and test data respectively\n",
    "    iii. ablation: int: number of training and test entries to use for DataGeneration\n",
    "output:\n",
    "    i. training_generator\n",
    "    ii. validation_generator\n",
    "'''\n",
    "def data_generator(train_X, train_set, test_X, test_set,classes,ablation = None):\n",
    "    #Randomly selecting data in case of ablation testing\n",
    "    if ablation != None:\n",
    "        train_X = random.sample(train_X, ablation)\n",
    "        train_set = {image: train_set[image] for image in train_X }\n",
    "        test_X = random.sample(test_X, ablation)\n",
    "        test_set = {image: test_set[image] for image in test_X }\n",
    "    print(Counter(test_set.values()))\n",
    "    print(Counter(train_set.values()))\n",
    "    training_generator = DataGenerator(train_X, train_set,n_classes=classes)\n",
    "    validation_generator = DataGenerator(test_X, test_set,n_classes=classes)\n",
    "    return training_generator,validation_generator"
   ]
  },
  {
   "cell_type": "code",
   "execution_count": 14,
   "metadata": {},
   "outputs": [
    {
     "name": "stdout",
     "output_type": "stream",
     "text": [
      "Counter({0: 51, 1: 49})\n",
      "Counter({1: 51, 0: 49})\n"
     ]
    }
   ],
   "source": [
    "training_generator, validation_generator = data_generator(b_train_X, b_train_set, b_test_X, b_test_set,classes=b_nb_classes,ablation=100)"
   ]
  },
  {
   "cell_type": "markdown",
   "metadata": {},
   "source": [
    "## VGG Feature Extractor"
   ]
  },
  {
   "cell_type": "code",
   "execution_count": 15,
   "metadata": {},
   "outputs": [
    {
     "name": "stdout",
     "output_type": "stream",
     "text": [
      "_________________________________________________________________\n",
      "Layer (type)                 Output Shape              Param #   \n",
      "=================================================================\n",
      "input_1 (InputLayer)         (None, 224, 224, 3)       0         \n",
      "_________________________________________________________________\n",
      "block1_conv1 (Conv2D)        (None, 224, 224, 64)      1792      \n",
      "_________________________________________________________________\n",
      "block1_conv2 (Conv2D)        (None, 224, 224, 64)      36928     \n",
      "_________________________________________________________________\n",
      "block1_pool (MaxPooling2D)   (None, 112, 112, 64)      0         \n",
      "_________________________________________________________________\n",
      "block2_conv1 (Conv2D)        (None, 112, 112, 128)     73856     \n",
      "_________________________________________________________________\n",
      "block2_conv2 (Conv2D)        (None, 112, 112, 128)     147584    \n",
      "_________________________________________________________________\n",
      "block2_pool (MaxPooling2D)   (None, 56, 56, 128)       0         \n",
      "_________________________________________________________________\n",
      "block3_conv1 (Conv2D)        (None, 56, 56, 256)       295168    \n",
      "_________________________________________________________________\n",
      "block3_conv2 (Conv2D)        (None, 56, 56, 256)       590080    \n",
      "_________________________________________________________________\n",
      "block3_conv3 (Conv2D)        (None, 56, 56, 256)       590080    \n",
      "_________________________________________________________________\n",
      "block3_pool (MaxPooling2D)   (None, 28, 28, 256)       0         \n",
      "_________________________________________________________________\n",
      "block4_conv1 (Conv2D)        (None, 28, 28, 512)       1180160   \n",
      "_________________________________________________________________\n",
      "block4_conv2 (Conv2D)        (None, 28, 28, 512)       2359808   \n",
      "_________________________________________________________________\n",
      "block4_conv3 (Conv2D)        (None, 28, 28, 512)       2359808   \n",
      "_________________________________________________________________\n",
      "block4_pool (MaxPooling2D)   (None, 14, 14, 512)       0         \n",
      "_________________________________________________________________\n",
      "block5_conv1 (Conv2D)        (None, 14, 14, 512)       2359808   \n",
      "_________________________________________________________________\n",
      "block5_conv2 (Conv2D)        (None, 14, 14, 512)       2359808   \n",
      "_________________________________________________________________\n",
      "block5_conv3 (Conv2D)        (None, 14, 14, 512)       2359808   \n",
      "_________________________________________________________________\n",
      "block5_pool (MaxPooling2D)   (None, 7, 7, 512)         0         \n",
      "=================================================================\n",
      "Total params: 14,714,688\n",
      "Trainable params: 14,714,688\n",
      "Non-trainable params: 0\n",
      "_________________________________________________________________\n"
     ]
    }
   ],
   "source": [
    "base_model = VGG16(weights='imagenet',include_top=False, input_shape=(224, 224, 3))\n",
    "base_model.summary()"
   ]
  },
  {
   "cell_type": "code",
   "execution_count": 16,
   "metadata": {},
   "outputs": [],
   "source": [
    "vgg_model = Model(inputs=base_model.input, outputs=base_model.output)"
   ]
  },
  {
   "cell_type": "code",
   "execution_count": 17,
   "metadata": {},
   "outputs": [],
   "source": [
    "# for layer in res_model.layers:\n",
    "#         layer.trainable = False"
   ]
  },
  {
   "cell_type": "code",
   "execution_count": 18,
   "metadata": {},
   "outputs": [],
   "source": [
    "# def resNetModel_base():\n",
    "#     # base resNet model\n",
    "#     base_model = ResNet50(weights='imagenet', include_top=False, input_shape=(224, 224, 3))\n",
    "#     x = base_model.output\n",
    "#     x = GlobalAveragePooling2D()(x)\n",
    "#     x = Dense(1024, activation='relu')(x)\n",
    "#     prediction = Dense(2, activation='softmax')(x)\n",
    "#     model = Model(inputs=base_model.input, outputs=x)\n",
    "#     for layer in model.layers[:-5]:\n",
    "#         layer.trainable = True\n",
    "#     return model\n",
    "\n",
    "# #call define model\n",
    "# res_model = resNetModel_base()"
   ]
  },
  {
   "cell_type": "code",
   "execution_count": 17,
   "metadata": {},
   "outputs": [],
   "source": [
    "train_X = random.sample(b_train_X, 200)\n",
    "train_set = {image: b_train_set[image] for image in b_train_X }"
   ]
  },
  {
   "cell_type": "code",
   "execution_count": 20,
   "metadata": {},
   "outputs": [],
   "source": [
    "# test_X = random.sample(b_test_X, 100)\n",
    "# test_set = {image: b_test_set[image] for image in b_test_X }"
   ]
  },
  {
   "cell_type": "code",
   "execution_count": 21,
   "metadata": {},
   "outputs": [],
   "source": [
    "#scaler = sklearn.preprocessing.StandardScaler()"
   ]
  },
  {
   "cell_type": "code",
   "execution_count": 19,
   "metadata": {},
   "outputs": [],
   "source": [
    "def FeatureExtraction(train_X, train_set):\n",
    "    \n",
    "    features = []\n",
    "    labels = []\n",
    "    \n",
    "    for i, image_path in enumerate(train_X):\n",
    "        img = image.load_img(image_path, target_size=(224,224))\n",
    "        img_array = image.img_to_array(img)\n",
    "        #img = img/255\n",
    "        img = np.expand_dims(img_array, axis=0)\n",
    "        img_process = preprocess_input(img)\n",
    "        feature = vgg_model.predict(img_process)\n",
    "        flat = feature.flatten()\n",
    "        features.append(flat)\n",
    "        label = train_set[image_path]\n",
    "        labels.append(label)\n",
    "        if (i % 100) == 0:\n",
    "            print('On image',i)\n",
    "            #print(img_process)\n",
    "    le = LabelEncoder()\n",
    "    y_value = le.fit_transform(labels)\n",
    "    return features, y_value"
   ]
  },
  {
   "cell_type": "code",
   "execution_count": 23,
   "metadata": {
    "scrolled": true
   },
   "outputs": [
    {
     "name": "stdout",
     "output_type": "stream",
     "text": [
      "On image 0\n",
      "On image 100\n",
      "On image 200\n",
      "On image 300\n",
      "On image 400\n",
      "On image 500\n",
      "On image 600\n",
      "On image 700\n",
      "On image 800\n",
      "On image 900\n",
      "On image 1000\n",
      "On image 1100\n",
      "On image 1200\n",
      "On image 1300\n",
      "On image 1400\n",
      "On image 1500\n",
      "On image 1600\n",
      "On image 1700\n",
      "On image 1800\n",
      "On image 1900\n",
      "On image 2000\n",
      "On image 2100\n",
      "On image 2200\n",
      "On image 2300\n",
      "On image 2400\n",
      "On image 2500\n",
      "On image 2600\n",
      "On image 2700\n",
      "On image 2800\n",
      "On image 2900\n",
      "On image 3000\n",
      "On image 3100\n",
      "On image 3200\n",
      "On image 3300\n",
      "On image 3400\n",
      "On image 3500\n",
      "On image 3600\n",
      "On image 3700\n",
      "On image 3800\n",
      "On image 3900\n",
      "On image 4000\n",
      "On image 4100\n",
      "On image 4200\n",
      "On image 4300\n",
      "On image 4400\n",
      "On image 4500\n",
      "On image 4600\n",
      "On image 4700\n",
      "On image 4800\n",
      "On image 4900\n",
      "On image 5000\n",
      "On image 5100\n",
      "On image 5200\n",
      "On image 5300\n",
      "On image 5400\n",
      "On image 5500\n",
      "On image 5600\n"
     ]
    }
   ],
   "source": [
    "features, labels = FeatureExtraction(b_train_X, b_train_set)"
   ]
  },
  {
   "cell_type": "markdown",
   "metadata": {},
   "source": [
    "## Binary VGG SVM Model"
   ]
  },
  {
   "cell_type": "code",
   "execution_count": 24,
   "metadata": {},
   "outputs": [
    {
     "name": "stderr",
     "output_type": "stream",
     "text": [
      "/mnt/disks/user/anaconda3/lib/python3.6/site-packages/sklearn/svm/base.py:218: ConvergenceWarning: Solver terminated early (max_iter=1000).  Consider pre-processing your data with StandardScaler or MinMaxScaler.\n",
      "  % self.max_iter, ConvergenceWarning)\n"
     ]
    },
    {
     "data": {
      "text/plain": [
       "Pipeline(memory=None,\n",
       "     steps=[('scaler', StandardScaler(copy=True, with_mean=True, with_std=True)), ('svc', SVC(C=100, cache_size=200, class_weight='balanced', coef0=0.0,\n",
       "  decision_function_shape='ovr', degree=3, gamma=0.001, kernel='rbf',\n",
       "  max_iter=1000, probability=False, random_state=None, shrinking=True,\n",
       "  tol=0.001, verbose=False))])"
      ]
     },
     "execution_count": 24,
     "metadata": {},
     "output_type": "execute_result"
    }
   ],
   "source": [
    "pipe = Pipeline([('scaler', StandardScaler()), ('svc', SVC(kernel='rbf', max_iter=1000, C=100, gamma=0.001, class_weight='balanced'))])\n",
    "pipe.fit(features,labels)"
   ]
  },
  {
   "cell_type": "code",
   "execution_count": 25,
   "metadata": {},
   "outputs": [
    {
     "data": {
      "text/plain": [
       "0.7230055327503123"
      ]
     },
     "execution_count": 25,
     "metadata": {},
     "output_type": "execute_result"
    }
   ],
   "source": [
    "pipe.score(features,labels)"
   ]
  },
  {
   "cell_type": "code",
   "execution_count": 20,
   "metadata": {},
   "outputs": [
    {
     "name": "stdout",
     "output_type": "stream",
     "text": [
      "On image 0\n",
      "On image 100\n"
     ]
    }
   ],
   "source": [
    "t_features, t_labels = FeatureExtraction(train_X, train_set)"
   ]
  },
  {
   "cell_type": "code",
   "execution_count": 27,
   "metadata": {},
   "outputs": [],
   "source": [
    "# loocv = model_selection.LeaveOneOut()\n",
    "# results = model_selection.cross_val_score(pipe, features, labels, cv=loocv)\n",
    "# print(\"Accuracy: %.3f%% (%.3f%%)\" % (results.mean()*100.0, results.std()*100.0))"
   ]
  },
  {
   "cell_type": "markdown",
   "metadata": {},
   "source": [
    "### Hyperparameter training"
   ]
  },
  {
   "cell_type": "code",
   "execution_count": 1,
   "metadata": {},
   "outputs": [],
   "source": [
    "# # creating a KFold object with 5 splits \n",
    "# folds = KFold(n_splits = 5, shuffle = True, random_state = 101)\n",
    "\n",
    "# # specify range of hyperparameters\n",
    "# # Set the parameters by cross-validation\n",
    "# hyper_params = [ {'gamma': [1e-2, 1e-3, 1e-4],\n",
    "#                      'C': [1, 10, 100, 1000]}]\n",
    "\n",
    "\n",
    "# # specify model\n",
    "# sc = StandardScaler()\n",
    "# data = sc.fit_transform(t_features)\n",
    "# svc = SVC(kernel='sigmoid', class_weight='balanced')\n",
    "\n",
    "# # set up GridSearchCV()\n",
    "# model_cv = GridSearchCV(estimator = svc, \n",
    "#                         param_grid = hyper_params, \n",
    "#                         scoring= 'accuracy', \n",
    "#                         cv = folds, \n",
    "#                         verbose = 1,\n",
    "#                         return_train_score=True)      \n",
    "\n",
    "# # fit the model\n",
    "# model_cv.fit(data,t_labels)"
   ]
  },
  {
   "cell_type": "code",
   "execution_count": 28,
   "metadata": {},
   "outputs": [],
   "source": [
    "cv_results = pd.DataFrame(model_cv.cv_results_)"
   ]
  },
  {
   "cell_type": "code",
   "execution_count": 29,
   "metadata": {},
   "outputs": [
    {
     "data": {
      "text/html": [
       "<div>\n",
       "<style scoped>\n",
       "    .dataframe tbody tr th:only-of-type {\n",
       "        vertical-align: middle;\n",
       "    }\n",
       "\n",
       "    .dataframe tbody tr th {\n",
       "        vertical-align: top;\n",
       "    }\n",
       "\n",
       "    .dataframe thead th {\n",
       "        text-align: right;\n",
       "    }\n",
       "</style>\n",
       "<table border=\"1\" class=\"dataframe\">\n",
       "  <thead>\n",
       "    <tr style=\"text-align: right;\">\n",
       "      <th></th>\n",
       "      <th>mean_fit_time</th>\n",
       "      <th>std_fit_time</th>\n",
       "      <th>mean_score_time</th>\n",
       "      <th>std_score_time</th>\n",
       "      <th>param_C</th>\n",
       "      <th>param_gamma</th>\n",
       "      <th>params</th>\n",
       "      <th>split0_test_score</th>\n",
       "      <th>split1_test_score</th>\n",
       "      <th>split2_test_score</th>\n",
       "      <th>...</th>\n",
       "      <th>mean_test_score</th>\n",
       "      <th>std_test_score</th>\n",
       "      <th>rank_test_score</th>\n",
       "      <th>split0_train_score</th>\n",
       "      <th>split1_train_score</th>\n",
       "      <th>split2_train_score</th>\n",
       "      <th>split3_train_score</th>\n",
       "      <th>split4_train_score</th>\n",
       "      <th>mean_train_score</th>\n",
       "      <th>std_train_score</th>\n",
       "    </tr>\n",
       "  </thead>\n",
       "  <tbody>\n",
       "    <tr>\n",
       "      <th>0</th>\n",
       "      <td>0.737877</td>\n",
       "      <td>0.004806</td>\n",
       "      <td>0.177348</td>\n",
       "      <td>0.004338</td>\n",
       "      <td>1</td>\n",
       "      <td>0.01</td>\n",
       "      <td>{'C': 1, 'gamma': 0.01}</td>\n",
       "      <td>0.550</td>\n",
       "      <td>0.550</td>\n",
       "      <td>0.45</td>\n",
       "      <td>...</td>\n",
       "      <td>0.540</td>\n",
       "      <td>0.046368</td>\n",
       "      <td>1</td>\n",
       "      <td>1.0</td>\n",
       "      <td>1.00000</td>\n",
       "      <td>1.00000</td>\n",
       "      <td>1.00000</td>\n",
       "      <td>1.0</td>\n",
       "      <td>1.00000</td>\n",
       "      <td>0.000000</td>\n",
       "    </tr>\n",
       "    <tr>\n",
       "      <th>1</th>\n",
       "      <td>0.739920</td>\n",
       "      <td>0.002667</td>\n",
       "      <td>0.179598</td>\n",
       "      <td>0.003138</td>\n",
       "      <td>1</td>\n",
       "      <td>0.001</td>\n",
       "      <td>{'C': 1, 'gamma': 0.001}</td>\n",
       "      <td>0.550</td>\n",
       "      <td>0.550</td>\n",
       "      <td>0.45</td>\n",
       "      <td>...</td>\n",
       "      <td>0.540</td>\n",
       "      <td>0.046368</td>\n",
       "      <td>1</td>\n",
       "      <td>1.0</td>\n",
       "      <td>1.00000</td>\n",
       "      <td>1.00000</td>\n",
       "      <td>1.00000</td>\n",
       "      <td>1.0</td>\n",
       "      <td>1.00000</td>\n",
       "      <td>0.000000</td>\n",
       "    </tr>\n",
       "    <tr>\n",
       "      <th>2</th>\n",
       "      <td>0.740756</td>\n",
       "      <td>0.008089</td>\n",
       "      <td>0.176740</td>\n",
       "      <td>0.002345</td>\n",
       "      <td>1</td>\n",
       "      <td>0.0001</td>\n",
       "      <td>{'C': 1, 'gamma': 0.0001}</td>\n",
       "      <td>0.625</td>\n",
       "      <td>0.475</td>\n",
       "      <td>0.50</td>\n",
       "      <td>...</td>\n",
       "      <td>0.525</td>\n",
       "      <td>0.052440</td>\n",
       "      <td>9</td>\n",
       "      <td>1.0</td>\n",
       "      <td>0.99375</td>\n",
       "      <td>0.99375</td>\n",
       "      <td>0.99375</td>\n",
       "      <td>1.0</td>\n",
       "      <td>0.99625</td>\n",
       "      <td>0.003062</td>\n",
       "    </tr>\n",
       "    <tr>\n",
       "      <th>3</th>\n",
       "      <td>0.743207</td>\n",
       "      <td>0.005280</td>\n",
       "      <td>0.180751</td>\n",
       "      <td>0.002113</td>\n",
       "      <td>10</td>\n",
       "      <td>0.01</td>\n",
       "      <td>{'C': 10, 'gamma': 0.01}</td>\n",
       "      <td>0.550</td>\n",
       "      <td>0.550</td>\n",
       "      <td>0.45</td>\n",
       "      <td>...</td>\n",
       "      <td>0.540</td>\n",
       "      <td>0.046368</td>\n",
       "      <td>1</td>\n",
       "      <td>1.0</td>\n",
       "      <td>1.00000</td>\n",
       "      <td>1.00000</td>\n",
       "      <td>1.00000</td>\n",
       "      <td>1.0</td>\n",
       "      <td>1.00000</td>\n",
       "      <td>0.000000</td>\n",
       "    </tr>\n",
       "    <tr>\n",
       "      <th>4</th>\n",
       "      <td>0.759984</td>\n",
       "      <td>0.022659</td>\n",
       "      <td>0.181829</td>\n",
       "      <td>0.001968</td>\n",
       "      <td>10</td>\n",
       "      <td>0.001</td>\n",
       "      <td>{'C': 10, 'gamma': 0.001}</td>\n",
       "      <td>0.550</td>\n",
       "      <td>0.550</td>\n",
       "      <td>0.45</td>\n",
       "      <td>...</td>\n",
       "      <td>0.540</td>\n",
       "      <td>0.046368</td>\n",
       "      <td>1</td>\n",
       "      <td>1.0</td>\n",
       "      <td>1.00000</td>\n",
       "      <td>1.00000</td>\n",
       "      <td>1.00000</td>\n",
       "      <td>1.0</td>\n",
       "      <td>1.00000</td>\n",
       "      <td>0.000000</td>\n",
       "    </tr>\n",
       "  </tbody>\n",
       "</table>\n",
       "<p>5 rows × 22 columns</p>\n",
       "</div>"
      ],
      "text/plain": [
       "   mean_fit_time  std_fit_time  mean_score_time  std_score_time param_C  \\\n",
       "0       0.737877      0.004806         0.177348        0.004338       1   \n",
       "1       0.739920      0.002667         0.179598        0.003138       1   \n",
       "2       0.740756      0.008089         0.176740        0.002345       1   \n",
       "3       0.743207      0.005280         0.180751        0.002113      10   \n",
       "4       0.759984      0.022659         0.181829        0.001968      10   \n",
       "\n",
       "  param_gamma                     params  split0_test_score  \\\n",
       "0        0.01    {'C': 1, 'gamma': 0.01}              0.550   \n",
       "1       0.001   {'C': 1, 'gamma': 0.001}              0.550   \n",
       "2      0.0001  {'C': 1, 'gamma': 0.0001}              0.625   \n",
       "3        0.01   {'C': 10, 'gamma': 0.01}              0.550   \n",
       "4       0.001  {'C': 10, 'gamma': 0.001}              0.550   \n",
       "\n",
       "   split1_test_score  split2_test_score       ...         mean_test_score  \\\n",
       "0              0.550               0.45       ...                   0.540   \n",
       "1              0.550               0.45       ...                   0.540   \n",
       "2              0.475               0.50       ...                   0.525   \n",
       "3              0.550               0.45       ...                   0.540   \n",
       "4              0.550               0.45       ...                   0.540   \n",
       "\n",
       "   std_test_score  rank_test_score  split0_train_score  split1_train_score  \\\n",
       "0        0.046368                1                 1.0             1.00000   \n",
       "1        0.046368                1                 1.0             1.00000   \n",
       "2        0.052440                9                 1.0             0.99375   \n",
       "3        0.046368                1                 1.0             1.00000   \n",
       "4        0.046368                1                 1.0             1.00000   \n",
       "\n",
       "   split2_train_score  split3_train_score  split4_train_score  \\\n",
       "0             1.00000             1.00000                 1.0   \n",
       "1             1.00000             1.00000                 1.0   \n",
       "2             0.99375             0.99375                 1.0   \n",
       "3             1.00000             1.00000                 1.0   \n",
       "4             1.00000             1.00000                 1.0   \n",
       "\n",
       "   mean_train_score  std_train_score  \n",
       "0           1.00000         0.000000  \n",
       "1           1.00000         0.000000  \n",
       "2           0.99625         0.003062  \n",
       "3           1.00000         0.000000  \n",
       "4           1.00000         0.000000  \n",
       "\n",
       "[5 rows x 22 columns]"
      ]
     },
     "execution_count": 29,
     "metadata": {},
     "output_type": "execute_result"
    }
   ],
   "source": [
    "cv_results.head()"
   ]
  },
  {
   "cell_type": "code",
   "execution_count": 30,
   "metadata": {},
   "outputs": [
    {
     "data": {
      "image/png": "[encoded data removed]",
      "text/plain": [
       "<Figure size 1152x432 with 3 Axes>"
      ]
     },
     "metadata": {},
     "output_type": "display_data"
    }
   ],
   "source": [
    "# converting C to numeric type for plotting on x-axis\n",
    "cv_results['param_C'] = cv_results['param_C'].astype('int')\n",
    "\n",
    "# # plotting\n",
    "plt.figure(figsize=(16,6))\n",
    "\n",
    "# subplot 1/3\n",
    "plt.subplot(131)\n",
    "gamma_01 = cv_results[cv_results['param_gamma']==0.01]\n",
    "\n",
    "plt.plot(gamma_01[\"param_C\"], gamma_01[\"mean_test_score\"])\n",
    "plt.plot(gamma_01[\"param_C\"], gamma_01[\"mean_train_score\"])\n",
    "plt.xlabel('C')\n",
    "plt.ylabel('Accuracy')\n",
    "plt.title(\"Gamma=0.01\")\n",
    "plt.ylim([0.40, 1])\n",
    "plt.legend(['test accuracy', 'train accuracy'], loc='upper left')\n",
    "plt.xscale('log')\n",
    "\n",
    "# subplot 2/3\n",
    "plt.subplot(132)\n",
    "gamma_001 = cv_results[cv_results['param_gamma']==0.001]\n",
    "\n",
    "plt.plot(gamma_001[\"param_C\"], gamma_001[\"mean_test_score\"])\n",
    "plt.plot(gamma_001[\"param_C\"], gamma_001[\"mean_train_score\"])\n",
    "plt.xlabel('C')\n",
    "plt.ylabel('Accuracy')\n",
    "plt.title(\"Gamma=0.001\")\n",
    "plt.ylim([0.4, 1])\n",
    "plt.legend(['test accuracy', 'train accuracy'], loc='upper left')\n",
    "plt.xscale('log')\n",
    "\n",
    "\n",
    "# subplot 3/3\n",
    "plt.subplot(133)\n",
    "gamma_0001 = cv_results[cv_results['param_gamma']==0.0001]\n",
    "\n",
    "plt.plot(gamma_0001[\"param_C\"], gamma_0001[\"mean_test_score\"])\n",
    "plt.plot(gamma_0001[\"param_C\"], gamma_0001[\"mean_train_score\"])\n",
    "plt.xlabel('C')\n",
    "plt.ylabel('Accuracy')\n",
    "plt.title(\"Gamma=0.0001\")\n",
    "plt.ylim([0.4, 1])\n",
    "plt.legend(['test accuracy', 'train accuracy'], loc='upper left')\n",
    "plt.xscale('log')\n"
   ]
  },
  {
   "cell_type": "code",
   "execution_count": 31,
   "metadata": {},
   "outputs": [
    {
     "name": "stdout",
     "output_type": "stream",
     "text": [
      "The best test score is 0.54 corresponding to hyperparameters {'C': 1, 'gamma': 0.01}\n"
     ]
    }
   ],
   "source": [
    "# printing the optimal accuracy score and hyperparameters\n",
    "best_score = model_cv.best_score_\n",
    "best_hyperparams = model_cv.best_params_\n",
    "\n",
    "print(\"The best test score is {0} corresponding to hyperparameters {1}\".format(best_score, best_hyperparams))"
   ]
  },
  {
   "cell_type": "code",
   "execution_count": 129,
   "metadata": {},
   "outputs": [
    {
     "name": "stderr",
     "output_type": "stream",
     "text": [
      "/mnt/disks/user/anaconda3/lib/python3.6/site-packages/sklearn/svm/base.py:218: ConvergenceWarning: Solver terminated early (max_iter=50).  Consider pre-processing your data with StandardScaler or MinMaxScaler.\n",
      "  % self.max_iter, ConvergenceWarning)\n"
     ]
    },
    {
     "data": {
      "text/plain": [
       "Pipeline(memory=None,\n",
       "     steps=[('scaler', StandardScaler(copy=True, with_mean=True, with_std=True)), ('svc', SVC(C=1000, cache_size=200, class_weight='balanced', coef0=0.0,\n",
       "  decision_function_shape='ovr', degree=3, gamma=0.1, kernel='poly',\n",
       "  max_iter=50, probability=False, random_state=None, shrinking=True,\n",
       "  tol=0.001, verbose=False))])"
      ]
     },
     "execution_count": 129,
     "metadata": {},
     "output_type": "execute_result"
    }
   ],
   "source": [
    "final = Pipeline([('scaler', StandardScaler()), ('svc', SVC(kernel='poly', max_iter=50,\n",
    "                                                            C=1000,\n",
    "                                                            gamma = 0.1, class_weight='balanced'\n",
    "                                                           ))])\n",
    "final.fit(t_features,t_labels)"
   ]
  },
  {
   "cell_type": "markdown",
   "metadata": {},
   "source": [
    "\n",
    "\n",
    "\n",
    "\n",
    "### Binary Base Model Evaluation"
   ]
  },
  {
   "cell_type": "code",
   "execution_count": 130,
   "metadata": {
    "scrolled": true
   },
   "outputs": [
    {
     "name": "stdout",
     "output_type": "stream",
     "text": [
      "On image 0\n"
     ]
    }
   ],
   "source": [
    "b_test_feature, b_test_labels = FeatureExtraction(b_test_X, b_test_set)"
   ]
  },
  {
   "cell_type": "code",
   "execution_count": 137,
   "metadata": {},
   "outputs": [
    {
     "ename": "NameError",
     "evalue": "name 'pipe' is not defined",
     "output_type": "error",
     "traceback": [
      "\u001b[0;31m---------------------------------------------------------------------------\u001b[0m",
      "\u001b[0;31mNameError\u001b[0m                                 Traceback (most recent call last)",
      "\u001b[0;32m<ipython-input-137-618f09e3c94a>\u001b[0m in \u001b[0;36m<module>\u001b[0;34m()\u001b[0m\n\u001b[0;32m----> 1\u001b[0;31m \u001b[0mbinary_y_pred\u001b[0m \u001b[0;34m=\u001b[0m \u001b[0mpipe\u001b[0m\u001b[0;34m.\u001b[0m\u001b[0mpredict\u001b[0m\u001b[0;34m(\u001b[0m\u001b[0mb_test_feature\u001b[0m\u001b[0;34m)\u001b[0m\u001b[0;34m\u001b[0m\u001b[0m\n\u001b[0m\u001b[1;32m      2\u001b[0m \u001b[0;31m#binary_y_pred = final.predict(b_test_feature)\u001b[0m\u001b[0;34m\u001b[0m\u001b[0;34m\u001b[0m\u001b[0m\n",
      "\u001b[0;31mNameError\u001b[0m: name 'pipe' is not defined"
     ]
    }
   ],
   "source": [
    "binary_y_pred = pipe.predict(b_test_feature)\n",
    "#binary_y_pred = final.predict(b_test_feature)"
   ]
  },
  {
   "cell_type": "code",
   "execution_count": 132,
   "metadata": {},
   "outputs": [
    {
     "data": {
      "text/plain": [
       "Counter({1: 96, 0: 4})"
      ]
     },
     "execution_count": 132,
     "metadata": {},
     "output_type": "execute_result"
    }
   ],
   "source": [
    "Counter(binary_y_pred)"
   ]
  },
  {
   "cell_type": "code",
   "execution_count": 133,
   "metadata": {},
   "outputs": [
    {
     "name": "stdout",
     "output_type": "stream",
     "text": [
      "Base Model Test Score  0.51\n"
     ]
    }
   ],
   "source": [
    "binary_score_test = metrics.accuracy_score(b_test_labels, binary_y_pred)\n",
    "print('Base Model Test Score ',binary_score_test)"
   ]
  },
  {
   "cell_type": "code",
   "execution_count": 134,
   "metadata": {},
   "outputs": [
    {
     "name": "stdout",
     "output_type": "stream",
     "text": [
      "[[ 2 47]\n",
      " [ 2 49]]\n"
     ]
    }
   ],
   "source": [
    "binary_cm = confusion_matrix(b_test_labels, binary_y_pred)\n",
    "print(binary_cm)"
   ]
  },
  {
   "cell_type": "code",
   "execution_count": 135,
   "metadata": {
    "scrolled": true
   },
   "outputs": [
    {
     "name": "stdout",
     "output_type": "stream",
     "text": [
      "             precision    recall  f1-score   support\n",
      "\n",
      "          0       0.50      0.04      0.08        49\n",
      "          1       0.51      0.96      0.67        51\n",
      "\n",
      "avg / total       0.51      0.51      0.38       100\n",
      "\n"
     ]
    }
   ],
   "source": [
    "binary_report = classification_report(b_test_labels,binary_y_pred)\n",
    "print(binary_report)"
   ]
  },
  {
   "cell_type": "code",
   "execution_count": 136,
   "metadata": {},
   "outputs": [
    {
     "data": {
      "text/plain": [
       "0.5008003201280512"
      ]
     },
     "execution_count": 136,
     "metadata": {},
     "output_type": "execute_result"
    }
   ],
   "source": [
    "roc_auc_score(b_test_labels, binary_y_pred)"
   ]
  },
  {
   "cell_type": "markdown",
   "metadata": {},
   "source": [
    "## Multi-Class Base Classification Models"
   ]
  },
  {
   "cell_type": "code",
   "execution_count": 42,
   "metadata": {},
   "outputs": [],
   "source": [
    "# m_train_X = random.sample(m_train_X, 200)\n",
    "# m_train_set = {image: m_train_set[image] for image in m_train_X }"
   ]
  },
  {
   "cell_type": "code",
   "execution_count": 43,
   "metadata": {},
   "outputs": [],
   "source": [
    "#scaler = sklearn.preprocessing.StandardScaler()"
   ]
  },
  {
   "cell_type": "code",
   "execution_count": 44,
   "metadata": {},
   "outputs": [
    {
     "name": "stdout",
     "output_type": "stream",
     "text": [
      "On image 0\n",
      "On image 100\n",
      "On image 200\n",
      "On image 300\n",
      "On image 400\n",
      "On image 500\n",
      "On image 600\n",
      "On image 700\n",
      "On image 800\n",
      "On image 900\n",
      "On image 1000\n",
      "On image 1100\n",
      "On image 1200\n",
      "On image 1300\n",
      "On image 1400\n",
      "On image 1500\n",
      "On image 1600\n",
      "On image 1700\n",
      "On image 1800\n",
      "On image 1900\n",
      "On image 2000\n",
      "On image 2100\n",
      "On image 2200\n",
      "On image 2300\n",
      "On image 2400\n",
      "On image 2500\n",
      "On image 2600\n",
      "On image 2700\n",
      "On image 2800\n",
      "On image 2900\n",
      "On image 3000\n",
      "On image 3100\n",
      "On image 3200\n",
      "On image 3300\n",
      "On image 3400\n",
      "On image 3500\n",
      "On image 3600\n",
      "On image 3700\n",
      "On image 3800\n",
      "On image 3900\n",
      "On image 4000\n",
      "On image 4100\n",
      "On image 4200\n"
     ]
    }
   ],
   "source": [
    "m_features, m_labels = FeatureExtraction(m_train_X, m_train_set)"
   ]
  },
  {
   "cell_type": "markdown",
   "metadata": {},
   "source": [
    "## Multi-Class ResNet SVM Model"
   ]
  },
  {
   "cell_type": "code",
   "execution_count": 45,
   "metadata": {},
   "outputs": [
    {
     "name": "stderr",
     "output_type": "stream",
     "text": [
      "/mnt/disks/user/anaconda3/lib/python3.6/site-packages/sklearn/svm/base.py:218: ConvergenceWarning: Solver terminated early (max_iter=1000).  Consider pre-processing your data with StandardScaler or MinMaxScaler.\n",
      "  % self.max_iter, ConvergenceWarning)\n"
     ]
    },
    {
     "data": {
      "text/plain": [
       "Pipeline(memory=None,\n",
       "     steps=[('scaler', StandardScaler(copy=True, with_mean=True, with_std=True)), ('svc', SVC(C=100, cache_size=200, class_weight='balanced', coef0=0.0,\n",
       "  decision_function_shape='ovr', degree=3, gamma=0.001, kernel='rbf',\n",
       "  max_iter=1000, probability=False, random_state=None, shrinking=True,\n",
       "  tol=0.001, verbose=False))])"
      ]
     },
     "execution_count": 45,
     "metadata": {},
     "output_type": "execute_result"
    }
   ],
   "source": [
    "m_pipe = Pipeline([('scaler', StandardScaler()), ('svc', SVC(kernel='rbf', max_iter=1000, C=100, gamma=0.001, class_weight='balanced'))])\n",
    "m_pipe.fit(m_features,m_labels)"
   ]
  },
  {
   "cell_type": "code",
   "execution_count": 46,
   "metadata": {},
   "outputs": [
    {
     "data": {
      "text/plain": [
       "0.87461337140138"
      ]
     },
     "execution_count": 46,
     "metadata": {},
     "output_type": "execute_result"
    }
   ],
   "source": [
    "m_pipe.score(m_features,m_labels)"
   ]
  },
  {
   "cell_type": "markdown",
   "metadata": {},
   "source": [
    "### Hyperparameter training"
   ]
  },
  {
   "cell_type": "code",
   "execution_count": 47,
   "metadata": {},
   "outputs": [],
   "source": [
    "# # creating a KFold object with 5 splits \n",
    "# folds = KFold(n_splits = 5, shuffle = True, random_state = 101)\n",
    "\n",
    "# # specify range of hyperparameters\n",
    "# # Set the parameters by cross-validation\n",
    "# hyper_params = [ {'gamma': [1e-2, 1e-3, 1e-4],\n",
    "#                      'C': [1, 10, 100, 1000]}]\n",
    "\n",
    "\n",
    "# # specify model\n",
    "# sc = StandardScaler()\n",
    "# m_data = sc.fit_transform(m_features)\n",
    "# m_svc = SVC(kernel='rbf')\n",
    "\n",
    "# # set up GridSearchCV()\n",
    "# m_model_cv = GridSearchCV(estimator = m_svc, \n",
    "#                         param_grid = hyper_params, \n",
    "#                         scoring= 'accuracy', \n",
    "#                         cv = folds, \n",
    "#                         verbose = 1,\n",
    "#                         return_train_score=True)      \n",
    "\n",
    "# # fit the model\n",
    "# m_model_cv.fit(m_data,m_labels)"
   ]
  },
  {
   "cell_type": "code",
   "execution_count": 48,
   "metadata": {},
   "outputs": [],
   "source": [
    "# m_cv_results = pd.DataFrame(m_model_cv.cv_results_)"
   ]
  },
  {
   "cell_type": "code",
   "execution_count": 49,
   "metadata": {},
   "outputs": [],
   "source": [
    "# m_cv_results.head()"
   ]
  },
  {
   "cell_type": "code",
   "execution_count": 50,
   "metadata": {},
   "outputs": [],
   "source": [
    "# # converting C to numeric type for plotting on x-axis\n",
    "# m_cv_results['param_C'] = m_cv_results['param_C'].astype('int')\n",
    "\n",
    "# # # plotting\n",
    "# plt.figure(figsize=(16,6))\n",
    "\n",
    "# # subplot 1/3\n",
    "# plt.subplot(131)\n",
    "# gamma_01 = m_cv_results[m_cv_results['param_gamma']==0.01]\n",
    "\n",
    "# plt.plot(gamma_01[\"param_C\"], gamma_01[\"mean_test_score\"])\n",
    "# plt.plot(gamma_01[\"param_C\"], gamma_01[\"mean_train_score\"])\n",
    "# plt.xlabel('C')\n",
    "# plt.ylabel('Accuracy')\n",
    "# plt.title(\"Gamma=0.01\")\n",
    "# plt.ylim([0.40, 1])\n",
    "# plt.legend(['test accuracy', 'train accuracy'], loc='upper left')\n",
    "# plt.xscale('log')\n",
    "\n",
    "# # subplot 2/3\n",
    "# plt.subplot(132)\n",
    "# gamma_001 = m_cv_results[m_cv_results['param_gamma']==0.001]\n",
    "\n",
    "# plt.plot(gamma_001[\"param_C\"], gamma_001[\"mean_test_score\"])\n",
    "# plt.plot(gamma_001[\"param_C\"], gamma_001[\"mean_train_score\"])\n",
    "# plt.xlabel('C')\n",
    "# plt.ylabel('Accuracy')\n",
    "# plt.title(\"Gamma=0.001\")\n",
    "# plt.ylim([0.4, 1])\n",
    "# plt.legend(['test accuracy', 'train accuracy'], loc='upper left')\n",
    "# plt.xscale('log')\n",
    "\n",
    "\n",
    "# # subplot 3/3\n",
    "# plt.subplot(133)\n",
    "# gamma_0001 = m_cv_results[m_cv_results['param_gamma']==0.0001]\n",
    "\n",
    "# plt.plot(gamma_0001[\"param_C\"], gamma_0001[\"mean_test_score\"])\n",
    "# plt.plot(gamma_0001[\"param_C\"], gamma_0001[\"mean_train_score\"])\n",
    "# plt.xlabel('C')\n",
    "# plt.ylabel('Accuracy')\n",
    "# plt.title(\"Gamma=0.0001\")\n",
    "# plt.ylim([0.4, 1])\n",
    "# plt.legend(['test accuracy', 'train accuracy'], loc='upper left')\n",
    "# plt.xscale('log')\n"
   ]
  },
  {
   "cell_type": "code",
   "execution_count": 51,
   "metadata": {},
   "outputs": [],
   "source": [
    "# # printing the optimal accuracy score and hyperparameters\n",
    "# m_best_score = m_model_cv.best_score_\n",
    "# m_best_hyperparams = m_model_cv.best_params_\n",
    "\n",
    "# print(\"The best test score is {0} corresponding to hyperparameters {1}\".format(m_best_score, m_best_hyperparams))"
   ]
  },
  {
   "cell_type": "code",
   "execution_count": 52,
   "metadata": {},
   "outputs": [],
   "source": [
    "# m_final = Pipeline([('scaler', StandardScaler()), ('svc', SVC(kernel='rbf', max_iter=50,\n",
    "#                                                             C=m_best_hyperparams['C'],\n",
    "#                                                             gamma = m_best_hyperparams['gamma']\n",
    "#                                                            ))])\n",
    "# m_final.fit(m_features,m_labels)"
   ]
  },
  {
   "cell_type": "markdown",
   "metadata": {},
   "source": [
    "### Multi-Class Res Model Evaluation"
   ]
  },
  {
   "cell_type": "code",
   "execution_count": 53,
   "metadata": {},
   "outputs": [],
   "source": [
    "# m_test_X = random.sample(m_test_X, 100)\n",
    "# m_test_set = {image: m_test_set[image] for image in m_test_X }"
   ]
  },
  {
   "cell_type": "code",
   "execution_count": 54,
   "metadata": {
    "scrolled": true
   },
   "outputs": [
    {
     "name": "stdout",
     "output_type": "stream",
     "text": [
      "On image 0\n",
      "On image 100\n",
      "On image 200\n",
      "On image 300\n",
      "On image 400\n",
      "On image 500\n",
      "On image 600\n",
      "On image 700\n",
      "On image 800\n",
      "On image 900\n",
      "On image 1000\n",
      "On image 1100\n",
      "On image 1200\n",
      "On image 1300\n",
      "On image 1400\n",
      "On image 1500\n",
      "On image 1600\n",
      "On image 1700\n"
     ]
    }
   ],
   "source": [
    "m_test_feature, m_test_labels = FeatureExtraction(m_test_X, m_test_set)"
   ]
  },
  {
   "cell_type": "code",
   "execution_count": 56,
   "metadata": {},
   "outputs": [],
   "source": [
    "multi_y_pred = m_pipe.predict(m_test_feature)"
   ]
  },
  {
   "cell_type": "code",
   "execution_count": 57,
   "metadata": {},
   "outputs": [
    {
     "data": {
      "text/plain": [
       "Counter({0: 1583, 2: 90, 1: 124})"
      ]
     },
     "execution_count": 57,
     "metadata": {},
     "output_type": "execute_result"
    }
   ],
   "source": [
    "Counter(multi_y_pred)"
   ]
  },
  {
   "cell_type": "code",
   "execution_count": 58,
   "metadata": {},
   "outputs": [
    {
     "name": "stdout",
     "output_type": "stream",
     "text": [
      "Base Model Test Score  0.39621591541457984\n"
     ]
    }
   ],
   "source": [
    "multi_score_test = metrics.accuracy_score(m_test_labels, multi_y_pred)\n",
    "print('Base Model Test Score ',multi_score_test)"
   ]
  },
  {
   "cell_type": "code",
   "execution_count": 59,
   "metadata": {},
   "outputs": [
    {
     "name": "stdout",
     "output_type": "stream",
     "text": [
      "[[554  24  21]\n",
      " [500  94   5]\n",
      " [529   6  64]]\n"
     ]
    }
   ],
   "source": [
    "multi_cm = confusion_matrix(m_test_labels, multi_y_pred)\n",
    "print(multi_cm)"
   ]
  },
  {
   "cell_type": "code",
   "execution_count": 60,
   "metadata": {
    "scrolled": true
   },
   "outputs": [
    {
     "name": "stdout",
     "output_type": "stream",
     "text": [
      "             precision    recall  f1-score   support\n",
      "\n",
      "          0       0.35      0.92      0.51       599\n",
      "          1       0.76      0.16      0.26       599\n",
      "          2       0.71      0.11      0.19       599\n",
      "\n",
      "avg / total       0.61      0.40      0.32      1797\n",
      "\n"
     ]
    }
   ],
   "source": [
    "multi_report = classification_report(m_test_labels,multi_y_pred)\n",
    "print(multi_report)"
   ]
  },
  {
   "cell_type": "code",
   "execution_count": null,
   "metadata": {},
   "outputs": [],
   "source": [
    "pkl_filename = \"vgg_svm_binary.pkl\"\n",
    "with open(pkl_filename, 'wb') as file:\n",
    "    pickle.dump(m_pipe, file)"
   ]
  },
  {
   "cell_type": "code",
   "execution_count": null,
   "metadata": {},
   "outputs": [],
   "source": [
    "pkl_filename = \"vgg_svm_multi.pkl\"\n",
    "with open(pkl_filename, 'wb') as file:\n",
    "    pickle.dump(m_pipe, file)"
   ]
  },
  {
   "cell_type": "code",
   "execution_count": null,
   "metadata": {},
   "outputs": [],
   "source": [
    "with open(pkl_filename, 'rb') as file:\n",
    "    pickle_model = pickle.load(file)\n",
    "    \n",
    "# Calculate the accuracy score and predict target values\n",
    "Ypredict = pickle_model.predict(m_test_feature)"
   ]
  },
  {
   "cell_type": "code",
   "execution_count": null,
   "metadata": {},
   "outputs": [],
   "source": [
    "multi_score_test = metrics.accuracy_score(m_test_labels, Ypredict)\n",
    "print('Base Model Test Score ',multi_score_test)"
   ]
  },
  {
   "cell_type": "code",
   "execution_count": null,
   "metadata": {},
   "outputs": [],
   "source": []
  }
 ],
 "metadata": {
  "anaconda-cloud": {},
  "kernelspec": {
   "display_name": "Python 3",
   "language": "python",
   "name": "python3"
  },
  "language_info": {
   "codemirror_mode": {
    "name": "ipython",
    "version": 3
   },
   "file_extension": ".py",
   "mimetype": "text/x-python",
   "name": "python",
   "nbconvert_exporter": "python",
   "pygments_lexer": "ipython3",
   "version": "3.6.5"
  }
 },
 "nbformat": 4,
 "nbformat_minor": 1
}
