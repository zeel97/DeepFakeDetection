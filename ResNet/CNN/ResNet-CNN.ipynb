{
 "cells": [
  {
   "cell_type": "markdown",
   "metadata": {},
   "source": [
    "# DeepFake Detection: ResNet Model\n",
    "\n",
    "**Objective**: Use transfer learning for feature extraction with ResNet50 followed by CNN classification model  \n",
    "\n",
    "**ResNet 50 Models**: \n",
    "1. Binary Classification\n",
    "2. Multi-Class Classification"
   ]
  },
  {
   "cell_type": "code",
   "execution_count": 61,
   "metadata": {},
   "outputs": [],
   "source": [
    "import numpy as np\n",
    "% matplotlib inline\n",
    "from __future__ import print_function\n",
    "\n",
    "#Data Processing\n",
    "from skimage import io\n",
    "import os\n",
    "import glob\n",
    "from sklearn.preprocessing import LabelEncoder\n",
    "from keras.preprocessing.image import img_to_array\n",
    "from keras.preprocessing.image import load_img\n",
    "from keras.preprocessing.image import array_to_img\n",
    "from keras.applications.vgg16 import preprocess_input\n",
    "from tensorflow.keras.preprocessing import image\n",
    "from keras.preprocessing.image import ImageDataGenerator\n",
    "import random\n",
    "from PIL import Image\n",
    "import matplotlib.pyplot as plt\n",
    "from collections import Counter\n",
    "\n",
    "#Neural Networks\n",
    "from tensorflow.python import keras\n",
    "import tensorflow as tf\n",
    "from tensorflow.keras.models import Model\n",
    "from tensorflow.keras.layers import Dense, Dropout, Activation, Flatten\n",
    "from tensorflow.keras.layers import Conv2D, MaxPooling2D\n",
    "from tensorflow.keras.layers import LeakyReLU\n",
    "from tensorflow.keras.layers import GlobalAveragePooling2D\n",
    "from tensorflow.keras.models import Sequential\n",
    "from keras.optimizers import Adam\n",
    "from tensorflow.keras import optimizers\n",
    "\n",
    "#Models\n",
    "from tensorflow.keras.applications.resnet50 import ResNet50\n",
    "from sklearn.ensemble import RandomForestClassifier\n",
    "from sklearn import linear_model\n",
    "\n",
    "#Evaluation\n",
    "from sklearn.metrics import roc_auc_score\n",
    "from sklearn.metrics import roc_curve\n",
    "from sklearn.metrics import classification_report\n",
    "from sklearn.metrics import confusion_matrix\n",
    "from keras.callbacks import ModelCheckpoint,Callback\n",
    "from keras.callbacks import ReduceLROnPlateau\n",
    "\n",
    "from sklearn import metrics\n",
    "from tensorflow.keras.models import load_model"
   ]
  },
  {
   "cell_type": "markdown",
   "metadata": {},
   "source": [
    "## Dataset Split\n",
    "\n",
    "Load the DeepFake dataset to randomly divide it into train and test set "
   ]
  },
  {
   "cell_type": "code",
   "execution_count": 62,
   "metadata": {},
   "outputs": [],
   "source": [
    "# path to your dataset\n",
    "DATASET_PATH = '/mnt/disks/user/project/Dataset/'\n",
    "deepfake_class = ['original/clean_frames','FaceSwap/clean_frames', 'Reenactment/clean_frames']"
   ]
  },
  {
   "cell_type": "code",
   "execution_count": 63,
   "metadata": {},
   "outputs": [],
   "source": [
    "'''\n",
    "func: load the deepfake dataset and divide them into train and test with each having samples of the different classes\n",
    "input:\n",
    "    i.dataset_path: string: the main dataset folder path \n",
    "    ii.train_ratio: float: the ratio of the dataset that will be used for training the model. Eg: 0.8\n",
    "    iii. fake_class: string array: the different deepfake classes\n",
    "output:\n",
    "    i. train_set, test_set: dictionary of image paths as key and deepfake class as value\n",
    "    ii. X_train, X_test: array of image paths \n",
    "    iii. y_train, y_test: array of corresponding deepfake classes \n",
    "'''\n",
    "def MultiDatasetSplit(DATASET_PATH, train_ratio,fake_cls):\n",
    "    test_set = {}\n",
    "    train_set = {}\n",
    "    list_IDs = []\n",
    "    labels = {}\n",
    "    for i, cls in enumerate(fake_cls):\n",
    "        paths = glob.glob(os.path.join(DATASET_PATH, cls,'*/*.jpg'))\n",
    "        #balancing the dataset\n",
    "        balance_paths = random.sample(paths,2000)\n",
    "\n",
    "        brk_point = int(len(balance_paths)*train_ratio)\n",
    "        for j in range(len(balance_paths)):\n",
    "            if j <= brk_point:\n",
    "                train_set.update({balance_paths[j]:i})\n",
    "            else:\n",
    "                test_set.update({balance_paths[j]:i})\n",
    "    \n",
    "    X_train = [X for X in train_set.keys()] \n",
    "    y_train = [y for y in train_set.values()]\n",
    "    X_test = [X for X in test_set.keys()]\n",
    "    y_test = [y for y in test_set.values()]\n",
    "    return train_set, test_set, X_train,y_train, X_test, y_test"
   ]
  },
  {
   "cell_type": "code",
   "execution_count": 64,
   "metadata": {},
   "outputs": [],
   "source": [
    "'''\n",
    "func: load the deepfake dataset and divide them into train and test with each having samples of the different classes\n",
    "input:\n",
    "    i.dataset_path: string: the main dataset folder path \n",
    "    ii.train_ratio: float: the ratio of the dataset that will be used for training the model. Eg: 0.8\n",
    "    iii. fake_class: string array: the different deepfake classes\n",
    "output:\n",
    "    i. train_set, test_set: dictionary of image paths as key and deepfake class as value\n",
    "    ii. X_train, X_test: array of image paths \n",
    "    iii. y_train, y_test: array of corresponding deepfake classes \n",
    "'''\n",
    "def BinaryDatasetSplit(DATASET_PATH, train_ratio,fake_cls):\n",
    "    test_set = {}\n",
    "    train_set = {}\n",
    "    list_IDs = []\n",
    "    labels = {}\n",
    "    for i, cls in enumerate(fake_cls):\n",
    "        paths = glob.glob(os.path.join(DATASET_PATH, cls,'*/*.jpg'))\n",
    "        if i == 0:\n",
    "            paths = random.sample(paths,4000)\n",
    "        else:\n",
    "            paths = random.sample(paths,2000)\n",
    "        brk_point = int(len(paths)*train_ratio)\n",
    "        for j in range(len(paths)):\n",
    "            if j <= brk_point:\n",
    "                if i == 0:\n",
    "                    train_set.update({paths[j]:0})\n",
    "                else: \n",
    "                    train_set.update({paths[j]:1})\n",
    "            else:\n",
    "                if i == 0:\n",
    "                    test_set.update({paths[j]:0})\n",
    "                else:\n",
    "                    test_set.update({paths[j]:1})\n",
    "\n",
    "    X_train = [X for X in train_set.keys()] \n",
    "    y_train = [y for y in train_set.values()]\n",
    "    X_test = [X for X in test_set.keys()]\n",
    "    y_test = [y for y in test_set.values()]\n",
    "    return train_set, test_set, X_train,y_train, X_test, y_test"
   ]
  },
  {
   "cell_type": "code",
   "execution_count": 65,
   "metadata": {},
   "outputs": [],
   "source": [
    "b_train_set, b_test_set, b_train_X, b_train_y, b_test_X, b_test_y = BinaryDatasetSplit(DATASET_PATH,0.7,deepfake_class)"
   ]
  },
  {
   "cell_type": "code",
   "execution_count": 66,
   "metadata": {},
   "outputs": [],
   "source": [
    "m_train_set, m_test_set, m_train_X, m_train_y, m_test_X, m_test_y = MultiDatasetSplit(DATASET_PATH,0.7,deepfake_class)"
   ]
  },
  {
   "cell_type": "code",
   "execution_count": 67,
   "metadata": {},
   "outputs": [
    {
     "data": {
      "text/plain": [
       "Counter({0: 2801, 1: 2802})"
      ]
     },
     "execution_count": 67,
     "metadata": {},
     "output_type": "execute_result"
    }
   ],
   "source": [
    "Counter(b_train_set.values())"
   ]
  },
  {
   "cell_type": "code",
   "execution_count": 68,
   "metadata": {},
   "outputs": [
    {
     "data": {
      "text/plain": [
       "Counter({0: 1401, 1: 1401, 2: 1401})"
      ]
     },
     "execution_count": 68,
     "metadata": {},
     "output_type": "execute_result"
    }
   ],
   "source": [
    "Counter(m_train_set.values())"
   ]
  },
  {
   "cell_type": "code",
   "execution_count": 69,
   "metadata": {},
   "outputs": [
    {
     "data": {
      "text/plain": [
       "{0, 1}"
      ]
     },
     "execution_count": 69,
     "metadata": {},
     "output_type": "execute_result"
    }
   ],
   "source": [
    "set(b_test_set.values())"
   ]
  },
  {
   "cell_type": "code",
   "execution_count": 70,
   "metadata": {},
   "outputs": [
    {
     "data": {
      "text/plain": [
       "{0, 1, 2}"
      ]
     },
     "execution_count": 70,
     "metadata": {},
     "output_type": "execute_result"
    }
   ],
   "source": [
    "set(m_test_set.values())"
   ]
  },
  {
   "cell_type": "code",
   "execution_count": 71,
   "metadata": {},
   "outputs": [],
   "source": [
    "# specify image size and channels\n",
    "img_channels = 3\n",
    "img_rows = 224\n",
    "img_cols = 224\n",
    "\n",
    "# number of classes\n",
    "b_nb_classes = 2\n",
    "m_nb_classes = 3"
   ]
  },
  {
   "cell_type": "markdown",
   "metadata": {},
   "source": [
    "## Data Processing\n",
    "\n",
    "Divide data into batches and process them"
   ]
  },
  {
   "cell_type": "code",
   "execution_count": 72,
   "metadata": {},
   "outputs": [],
   "source": [
    "'''\n",
    "func: prepare and process batch wise data for training/ablation. \n",
    "The image path is converted to image data while the classes are label encoded (0,1,2)\n",
    "input:\n",
    "    i.image_list: X data: array of image paths\n",
    "    ii:classes: y data: dictionary of image paths and their corresponding classes\n",
    "output:\n",
    "    i. DataGenerator\n",
    "'''\n",
    "class DataGenerator(tf.keras.utils.Sequence):\n",
    "    'Generates data for Keras'\n",
    "    def __init__(self, image_list, classes, batch_size=32, dim=(224,224), n_channels=3,\n",
    "                 n_classes=3,shuffle=True):\n",
    "        'Initialization'\n",
    "        self.dim = dim\n",
    "        self.batch_size = batch_size\n",
    "        self.classes = classes\n",
    "        self.image_list = image_list\n",
    "        self.n_channels = n_channels\n",
    "        self.n_classes = n_classes\n",
    "        self.shuffle = shuffle\n",
    "        self.on_epoch_end()\n",
    "\n",
    "    def __len__(self):\n",
    "        'Denotes the number of batches per epoch'\n",
    "        return int(np.floor(len(self.image_list) / self.batch_size))\n",
    "\n",
    "    def __getitem__(self, index):\n",
    "        'Generate one batch of data'\n",
    "        # Generate indexes of the batch\n",
    "        indexes = self.indexes[index*self.batch_size:(index+1)*self.batch_size]\n",
    "\n",
    "        # Find list of IDs\n",
    "        list_img_temp = [self.image_list[k] for k in indexes]\n",
    "\n",
    "        # Generate data\n",
    "        X, y = self.__data_generation(list_img_temp)\n",
    "        return X, y\n",
    "\n",
    "\n",
    "    def on_epoch_end(self):\n",
    "        'Updates indexes after each epoch'\n",
    "        self.indexes = np.arange(len(self.image_list))\n",
    "        if self.shuffle == True:\n",
    "            np.random.shuffle(self.indexes)\n",
    "\n",
    "    def __data_generation(self, list_img_temp):\n",
    "        'Generates data containing batch_size samples' # X : (n_samples, *dim, n_channels)\n",
    "        # Initialization of Y\n",
    "        y = np.empty((self.batch_size), dtype=int)\n",
    "        X = np.empty((self.batch_size, *self.dim, self.n_channels))\n",
    "        #X = np.random.rand(self.batch_size, *self.dim, self.n_channels)\n",
    "\n",
    "        #For each image path in the batch: load it, convert it to array, normalize values and pre-process.\n",
    "        #Append X and respective y values to the empty X and y variables\n",
    "        for i, ID in enumerate(list_img_temp):\n",
    "            img = load_img(ID, target_size=self.dim)\n",
    "            img = img_to_array(img)\n",
    "            #img = img/255\n",
    "            #process = datagen.fit(img)\n",
    "            img = preprocess_input(img)\n",
    "            X[i,] = img\n",
    "            y[i] = self.classes[ID]\n",
    "            \n",
    "        #class encoding to 0,1,2\n",
    "#         le = LabelEncoder()\n",
    "#         self.y_value = le.fit_transform(y)\n",
    "        return X,keras.utils.to_categorical(y, num_classes=self.n_classes)"
   ]
  },
  {
   "cell_type": "code",
   "execution_count": 73,
   "metadata": {},
   "outputs": [],
   "source": [
    "'''\n",
    "func: get the data generators for training and validation\n",
    "input:\n",
    "    i.train_X, test_X: array of image paths in training and testing respectively\n",
    "    ii.train_set, test_set: dictionary of image paths and their corresponding class for training and test data respectively\n",
    "    iii. ablation: int: number of training and test entries to use for DataGeneration\n",
    "output:\n",
    "    i. training_generator\n",
    "    ii. validation_generator\n",
    "'''\n",
    "def data_generator(train_X, train_set, test_X, test_set,classes,ablation = None):\n",
    "    #Randomly selecting data in case of ablation testing\n",
    "    if ablation != None:\n",
    "        train_X = random.sample(train_X, ablation)\n",
    "        train_set = {image: train_set[image] for image in train_X }\n",
    "        test_X = random.sample(test_X, ablation)\n",
    "        test_set = {image: test_set[image] for image in test_X }\n",
    "    print(Counter(test_set.values()))\n",
    "    print(Counter(train_set.values()))\n",
    "    training_generator = DataGenerator(train_X, train_set,n_classes=classes)\n",
    "    validation_generator = DataGenerator(test_X, test_set,n_classes=classes)\n",
    "    return training_generator,validation_generator"
   ]
  },
  {
   "cell_type": "code",
   "execution_count": 74,
   "metadata": {},
   "outputs": [],
   "source": [
    "from sklearn.metrics import roc_auc_score\n",
    "\n",
    "class roc_callback(Callback):\n",
    "    \n",
    "    def on_train_begin(self, logs={}):\n",
    "        logs['val_auc'] = 0\n",
    "\n",
    "    def on_epoch_end(self, epoch, logs={}):\n",
    "        y_p = []\n",
    "        y_v = []\n",
    "        for i in range(len(validation_generator)):\n",
    "            x_val, y_val = validation_generator[i]\n",
    "            y_pred = self.model.predict(x_val)\n",
    "            y_p.append(y_pred)\n",
    "            y_v.append(y_val)\n",
    "        y_p = np.concatenate(y_p)\n",
    "        y_v = np.concatenate(y_v)\n",
    "        roc_auc = roc_auc_score(y_v, y_p)\n",
    "        print ('\\nVal AUC for epoch{}: {}'.format(epoch, roc_auc))\n",
    "        logs['val_auc'] = roc_auc"
   ]
  },
  {
   "cell_type": "markdown",
   "metadata": {},
   "source": [
    "## ResNet Feature Extractor"
   ]
  },
  {
   "cell_type": "code",
   "execution_count": 75,
   "metadata": {},
   "outputs": [],
   "source": [
    "res_base = ResNet50(weights='imagenet', include_top=False,input_shape=(224, 224, 3))\n",
    "fine_tune_at = 5\n",
    "\n",
    "# Freeze all the layers before the `fine_tune_at` layer\n",
    "for layer in res_base.layers[:fine_tune_at]:\n",
    "    layer.trainable =  False"
   ]
  },
  {
   "cell_type": "markdown",
   "metadata": {},
   "source": [
    "## Binary ResNet Classification Models"
   ]
  },
  {
   "cell_type": "code",
   "execution_count": 76,
   "metadata": {},
   "outputs": [
    {
     "name": "stdout",
     "output_type": "stream",
     "text": [
      "_________________________________________________________________\n",
      "Layer (type)                 Output Shape              Param #   \n",
      "=================================================================\n",
      "resnet50 (Model)             (None, 1, 1, 2048)        23587712  \n",
      "_________________________________________________________________\n",
      "conv2d_10 (Conv2D)           (None, 1, 1, 64)          1179712   \n",
      "_________________________________________________________________\n",
      "leaky_re_lu_10 (LeakyReLU)   (None, 1, 1, 64)          0         \n",
      "_________________________________________________________________\n",
      "dropout_10 (Dropout)         (None, 1, 1, 64)          0         \n",
      "_________________________________________________________________\n",
      "flatten_10 (Flatten)         (None, 64)                0         \n",
      "_________________________________________________________________\n",
      "dense_10 (Dense)             (None, 2)                 130       \n",
      "=================================================================\n",
      "Total params: 24,767,554\n",
      "Trainable params: 24,704,834\n",
      "Non-trainable params: 62,720\n",
      "_________________________________________________________________\n"
     ]
    }
   ],
   "source": [
    "def cnn_model(in_shape=(224,224,3)):\n",
    "    model = Sequential()\n",
    "    model.add(res_base)\n",
    "    model.add(Conv2D(64,(3,3), strides=(2,2), padding='same'))\n",
    "    model.add(LeakyReLU(alpha=0.2))\n",
    "    model.add(Dropout(0.6))\n",
    "    model.add(Flatten())\n",
    "    model.add(Dense(b_nb_classes, activation='sigmoid'))\n",
    "    \n",
    "    return model\n",
    "\n",
    "#call define model\n",
    "binary_res_model = cnn_model()\n",
    "binary_res_model.summary()"
   ]
  },
  {
   "cell_type": "code",
   "execution_count": 77,
   "metadata": {},
   "outputs": [],
   "source": [
    "sgd = optimizers.SGD(lr=0.005, momentum=0.5, decay = 0.001)\n",
    "# #reduce_lr = ReduceLROnPlateau(monitor='val_acc', factor=0.2,\n",
    "#                               patience=2, min_lr=0.0001)"
   ]
  },
  {
   "cell_type": "code",
   "execution_count": 78,
   "metadata": {},
   "outputs": [
    {
     "name": "stdout",
     "output_type": "stream",
     "text": [
      "Counter({0: 1199, 1: 1198})\n",
      "Counter({1: 2802, 0: 2801})\n"
     ]
    }
   ],
   "source": [
    "training_generator, validation_generator = data_generator(b_train_X, b_train_set, b_test_X, b_test_set,classes=b_nb_classes)\n",
    "binary_res_model.compile(loss='binary_crossentropy',\n",
    "              optimizer=sgd,\n",
    "              metrics=['accuracy'])"
   ]
  },
  {
   "cell_type": "code",
   "execution_count": 79,
   "metadata": {},
   "outputs": [],
   "source": [
    "#validation_generator.classes.items()"
   ]
  },
  {
   "cell_type": "code",
   "execution_count": 80,
   "metadata": {},
   "outputs": [
    {
     "name": "stdout",
     "output_type": "stream",
     "text": [
      "Epoch 1/20\n",
      "174/175 [============================>.] - ETA: 1s - loss: 0.6918 - acc: 0.5417\n",
      "Epoch 00001: val_acc improved from -inf to 0.55954, saving model to /mnt/disks/user/project/Final_Models/res_binary_best_modelv2.hdf5\n",
      "\n",
      "Val AUC for epoch0: 0.5983937354433947\n",
      "175/175 [==============================] - 287s 2s/step - loss: 0.6918 - acc: 0.5411 - val_loss: 0.6826 - val_acc: 0.5595\n",
      "Epoch 2/20\n",
      "174/175 [============================>.] - ETA: 0s - loss: 0.6603 - acc: 0.6097\n",
      "Epoch 00002: val_acc improved from 0.55954 to 0.59861, saving model to /mnt/disks/user/project/Final_Models/res_binary_best_modelv2.hdf5\n",
      "\n",
      "Val AUC for epoch1: 0.6449742732266788\n",
      "175/175 [==============================] - 189s 1s/step - loss: 0.6604 - acc: 0.6096 - val_loss: 0.6644 - val_acc: 0.5986\n",
      "Epoch 3/20\n",
      "174/175 [============================>.] - ETA: 0s - loss: 0.5898 - acc: 0.6873\n",
      "Epoch 00003: val_acc improved from 0.59861 to 0.62141, saving model to /mnt/disks/user/project/Final_Models/res_binary_best_modelv2.hdf5\n",
      "\n",
      "Val AUC for epoch2: 0.6661557930359019\n",
      "175/175 [==============================] - 190s 1s/step - loss: 0.5904 - acc: 0.6864 - val_loss: 0.6652 - val_acc: 0.6214\n",
      "Epoch 4/20\n",
      "174/175 [============================>.] - ETA: 0s - loss: 0.4785 - acc: 0.7784\n",
      "Epoch 00004: val_acc improved from 0.62141 to 0.63387, saving model to /mnt/disks/user/project/Final_Models/res_binary_best_modelv2.hdf5\n",
      "\n",
      "Val AUC for epoch3: 0.6813536350050469\n",
      "175/175 [==============================] - 189s 1s/step - loss: 0.4786 - acc: 0.7788 - val_loss: 0.7061 - val_acc: 0.6339\n",
      "Epoch 5/20\n",
      "174/175 [============================>.] - ETA: 0s - loss: 0.3013 - acc: 0.8844\n",
      "Epoch 00005: val_acc improved from 0.63387 to 0.63682, saving model to /mnt/disks/user/project/Final_Models/res_binary_best_modelv2.hdf5\n",
      "\n",
      "Val AUC for epoch4: 0.6940159873299875\n",
      "175/175 [==============================] - 189s 1s/step - loss: 0.3011 - acc: 0.8844 - val_loss: 0.8718 - val_acc: 0.6368\n",
      "Epoch 6/20\n",
      "174/175 [============================>.] - ETA: 0s - loss: 0.1545 - acc: 0.9556\n",
      "Epoch 00006: val_acc did not improve from 0.63682\n",
      "\n",
      "Val AUC for epoch5: 0.6832518099336091\n",
      "175/175 [==============================] - 187s 1s/step - loss: 0.1547 - acc: 0.9556 - val_loss: 1.1808 - val_acc: 0.6305\n",
      "Epoch 7/20\n",
      "174/175 [============================>.] - ETA: 0s - loss: 0.0770 - acc: 0.9846\n",
      "Epoch 00007: val_acc did not improve from 0.63682\n",
      "\n",
      "Val AUC for epoch6: 0.655644125214806\n",
      "175/175 [==============================] - 187s 1s/step - loss: 0.0769 - acc: 0.9846 - val_loss: 1.4129 - val_acc: 0.6102\n",
      "Epoch 8/20\n",
      "174/175 [============================>.] - ETA: 0s - loss: 0.0446 - acc: 0.9934\n",
      "Epoch 00008: val_acc did not improve from 0.63682\n",
      "\n",
      "Val AUC for epoch7: 0.6709952170516922\n",
      "175/175 [==============================] - 187s 1s/step - loss: 0.0446 - acc: 0.9935 - val_loss: 1.6594 - val_acc: 0.6151\n",
      "Epoch 9/20\n",
      "174/175 [============================>.] - ETA: 0s - loss: 0.0286 - acc: 0.9972\n",
      "Epoch 00009: val_acc did not improve from 0.63682\n",
      "\n",
      "Val AUC for epoch8: 0.6746839009740665\n",
      "175/175 [==============================] - 187s 1s/step - loss: 0.0285 - acc: 0.9972 - val_loss: 1.5437 - val_acc: 0.6282\n",
      "Epoch 10/20\n",
      "174/175 [============================>.] - ETA: 0s - loss: 0.0223 - acc: 0.9979\n",
      "Epoch 00010: val_acc did not improve from 0.63682\n",
      "\n",
      "Val AUC for epoch9: 0.6751504790791636\n",
      "175/175 [==============================] - 187s 1s/step - loss: 0.0222 - acc: 0.9979 - val_loss: 1.7239 - val_acc: 0.6231\n",
      "Epoch 11/20\n",
      "174/175 [============================>.] - ETA: 0s - loss: 0.0193 - acc: 0.9987\n",
      "Epoch 00011: val_acc did not improve from 0.63682\n",
      "\n",
      "Val AUC for epoch10: 0.6794545026536551\n",
      "175/175 [==============================] - 187s 1s/step - loss: 0.0196 - acc: 0.9985 - val_loss: 1.7063 - val_acc: 0.6277\n",
      "Epoch 12/20\n",
      "174/175 [============================>.] - ETA: 0s - loss: 0.0175 - acc: 0.9981\n",
      "Epoch 00012: val_acc did not improve from 0.63682\n",
      "\n",
      "Val AUC for epoch11: 0.679134254255968\n",
      "175/175 [==============================] - 188s 1s/step - loss: 0.0175 - acc: 0.9981 - val_loss: 1.7778 - val_acc: 0.6282\n",
      "Epoch 13/20\n",
      "174/175 [============================>.] - ETA: 0s - loss: 0.0143 - acc: 0.9990\n",
      "Epoch 00013: val_acc did not improve from 0.63682\n",
      "\n",
      "Val AUC for epoch12: 0.6850107536086114\n",
      "175/175 [==============================] - 188s 1s/step - loss: 0.0144 - acc: 0.9990 - val_loss: 1.7406 - val_acc: 0.6292\n",
      "Epoch 14/20\n",
      "174/175 [============================>.] - ETA: 0s - loss: 0.0130 - acc: 0.9986\n",
      "Epoch 00014: val_acc did not improve from 0.63682\n",
      "\n",
      "Val AUC for epoch13: 0.6814278713362856\n",
      "175/175 [==============================] - 188s 1s/step - loss: 0.0130 - acc: 0.9986 - val_loss: 1.9776 - val_acc: 0.6244\n",
      "Epoch 15/20\n",
      "174/175 [============================>.] - ETA: 0s - loss: 0.0125 - acc: 0.9991\n",
      "Epoch 00015: val_acc did not improve from 0.63682\n",
      "\n",
      "Val AUC for epoch14: 0.677819924314569\n",
      "175/175 [==============================] - 188s 1s/step - loss: 0.0125 - acc: 0.9991 - val_loss: 1.9791 - val_acc: 0.6265\n",
      "Epoch 16/20\n",
      "174/175 [============================>.] - ETA: 0s - loss: 0.0098 - acc: 0.9995\n",
      "Epoch 00016: val_acc did not improve from 0.63682\n",
      "\n",
      "Val AUC for epoch15: 0.6822697759820581\n",
      "175/175 [==============================] - 188s 1s/step - loss: 0.0098 - acc: 0.9995 - val_loss: 2.0583 - val_acc: 0.6223\n",
      "Epoch 17/20\n",
      "174/175 [============================>.] - ETA: 0s - loss: 0.0117 - acc: 0.9985\n",
      "Epoch 00017: val_acc did not improve from 0.63682\n",
      "\n",
      "Val AUC for epoch16: 0.6860744982811766\n",
      "175/175 [==============================] - 188s 1s/step - loss: 0.0117 - acc: 0.9985 - val_loss: 2.0175 - val_acc: 0.6275\n",
      "Epoch 18/20\n",
      "174/175 [============================>.] - ETA: 0s - loss: 0.0091 - acc: 0.9996\n",
      "Epoch 00018: val_acc did not improve from 0.63682\n",
      "\n",
      "Val AUC for epoch17: 0.6783342428425194\n",
      "175/175 [==============================] - 188s 1s/step - loss: 0.0091 - acc: 0.9996 - val_loss: 1.9879 - val_acc: 0.6301\n",
      "Epoch 19/20\n",
      "174/175 [============================>.] - ETA: 0s - loss: 0.0076 - acc: 0.9999\n",
      "Epoch 00019: val_acc did not improve from 0.63682\n",
      "\n",
      "Val AUC for epoch18: 0.684501589688461\n",
      "175/175 [==============================] - 188s 1s/step - loss: 0.0076 - acc: 0.9999 - val_loss: 1.9655 - val_acc: 0.6282\n",
      "Epoch 20/20\n",
      "174/175 [============================>.] - ETA: 0s - loss: 0.0070 - acc: 0.9998\n",
      "Epoch 00020: val_acc did not improve from 0.63682\n",
      "\n",
      "Val AUC for epoch19: 0.6843652272415996\n",
      "175/175 [==============================] - 187s 1s/step - loss: 0.0070 - acc: 0.9998 - val_loss: 2.0402 - val_acc: 0.6315\n"
     ]
    }
   ],
   "source": [
    "# checkpoint \n",
    "binary_filepath = '/mnt/disks/user/project/Final_Models/res_binary_best_modelv2.hdf5'\n",
    "checkpoint = ModelCheckpoint(binary_filepath, monitor='val_acc', verbose=1, save_best_only=True, mode='max')\n",
    "auc_logger = roc_callback()\n",
    "# fit: this will fit the net on 'ablation' samples, only 1 epoch\n",
    "binary_history = binary_res_model.fit_generator(generator = training_generator,\n",
    "                    validation_data = validation_generator,\n",
    "                    shuffle=True,\n",
    "                    epochs=20,\n",
    "                    callbacks=[checkpoint,auc_logger])"
   ]
  },
  {
   "cell_type": "code",
   "execution_count": 81,
   "metadata": {
    "scrolled": true
   },
   "outputs": [
    {
     "data": {
      "text/plain": [
       "<matplotlib.legend.Legend at 0x7f74d8465f98>"
      ]
     },
     "execution_count": 81,
     "metadata": {},
     "output_type": "execute_result"
    },
    {
     "data": {
      "image/png": "[encoded data removed]",
      "text/plain": [
       "<Figure size 432x288 with 1 Axes>"
      ]
     },
     "metadata": {},
     "output_type": "display_data"
    }
   ],
   "source": [
    "binary_acc = binary_history.history['acc']\n",
    "binary_val_acc = binary_history.history['val_acc']\n",
    "\n",
    "binary_epochs = range(len(binary_acc))\n",
    "\n",
    "plt.plot(binary_epochs, binary_acc, 'g', label='Training acc')\n",
    "plt.plot(binary_epochs, binary_val_acc, 'b', label='Validation acc')\n",
    "plt.title('Binary Classification Res Model Accuracy')\n",
    "plt.legend()"
   ]
  },
  {
   "cell_type": "markdown",
   "metadata": {},
   "source": [
    "### Hyperparameter Tuning"
   ]
  },
  {
   "cell_type": "code",
   "execution_count": 37,
   "metadata": {},
   "outputs": [],
   "source": [
    "# generic way to create custom callback\n",
    "class LossHistory(keras.callbacks.Callback):\n",
    "    def on_train_begin(self, logs={}):\n",
    "        self.losses = []\n",
    "\n",
    "    def on_batch_end(self, batch, logs={}):\n",
    "        self.losses.append(logs.get('loss'))"
   ]
  },
  {
   "cell_type": "code",
   "execution_count": 38,
   "metadata": {},
   "outputs": [
    {
     "name": "stdout",
     "output_type": "stream",
     "text": [
      "\n",
      "\n",
      "========================================   Checking for LR=0.1  ========================================\n",
      "Counter({1: 53, 0: 47})\n",
      "Counter({0: 55, 1: 45})\n",
      "Epoch 1/3\n",
      "10/10 [==============================] - 35s 4s/step - loss: 0.7116 - acc: 0.5400 - val_loss: 0.6797 - val_acc: 0.5700\n",
      "Epoch 2/3\n",
      "10/10 [==============================] - 5s 460ms/step - loss: 0.5473 - acc: 0.7400 - val_loss: 1.3316 - val_acc: 0.4900\n",
      "Epoch 3/3\n",
      "10/10 [==============================] - 5s 460ms/step - loss: 0.2817 - acc: 0.9000 - val_loss: 1.0277 - val_acc: 0.5800\n",
      "\n",
      "\n",
      "========================================   Checking for LR=0.01  ========================================\n",
      "Counter({0: 52, 1: 48})\n",
      "Counter({0: 54, 1: 46})\n",
      "Epoch 1/3\n",
      "10/10 [==============================] - 36s 4s/step - loss: 0.7131 - acc: 0.4500 - val_loss: 0.7015 - val_acc: 0.4700\n",
      "Epoch 2/3\n",
      "10/10 [==============================] - 5s 488ms/step - loss: 0.6990 - acc: 0.5600 - val_loss: 0.6981 - val_acc: 0.4700\n",
      "Epoch 3/3\n",
      "10/10 [==============================] - 5s 477ms/step - loss: 0.6335 - acc: 0.7600 - val_loss: 0.6992 - val_acc: 0.4700\n",
      "\n",
      "\n",
      "========================================   Checking for LR=0.001  ========================================\n",
      "Counter({0: 54, 1: 46})\n",
      "Counter({0: 52, 1: 48})\n",
      "Epoch 1/3\n",
      "10/10 [==============================] - 51s 5s/step - loss: 0.6994 - acc: 0.5200 - val_loss: 0.7000 - val_acc: 0.4800\n",
      "Epoch 2/3\n",
      "10/10 [==============================] - 5s 492ms/step - loss: 0.6915 - acc: 0.4600 - val_loss: 0.6994 - val_acc: 0.4600\n",
      "Epoch 3/3\n",
      "10/10 [==============================] - 5s 498ms/step - loss: 0.6849 - acc: 0.5900 - val_loss: 0.6990 - val_acc: 0.4600\n",
      "\n",
      "\n",
      "========================================   Checking for LR=0.0001  ========================================\n",
      "Counter({0: 53, 1: 47})\n",
      "Counter({1: 56, 0: 44})\n",
      "Epoch 1/3\n",
      "10/10 [==============================] - 53s 5s/step - loss: 0.6772 - acc: 0.5600 - val_loss: 0.7008 - val_acc: 0.5800\n",
      "Epoch 2/3\n",
      "10/10 [==============================] - 5s 473ms/step - loss: 0.6923 - acc: 0.5300 - val_loss: 0.7008 - val_acc: 0.5600\n",
      "Epoch 3/3\n",
      "10/10 [==============================] - 5s 475ms/step - loss: 0.6825 - acc: 0.6000 - val_loss: 0.7009 - val_acc: 0.5400\n"
     ]
    }
   ],
   "source": [
    "# range of learning rates to tune\n",
    "hyper_parameters_for_lr = [0.1, 0.01, 0.001, 0.0001]\n",
    "\n",
    "# callback to append loss\n",
    "class LossHistory(keras.callbacks.Callback):\n",
    "    def on_train_begin(self, logs={}):\n",
    "        self.losses = []\n",
    "\n",
    "    def on_epoch_end(self, epoch, logs={}):\n",
    "        self.losses.append(logs.get('loss'))\n",
    "\n",
    "# instantiate a LossHistory() object to store histories\n",
    "history = LossHistory()\n",
    "plot_data = {}\n",
    "\n",
    "# for each hyperparam: train the model and plot loss history\n",
    "for lr in hyper_parameters_for_lr:\n",
    "    print ('\\n\\n'+'=='*20 + '   Checking for LR={}  '.format(lr) + '=='*20 )\n",
    "    sgd = optimizers.SGD(lr=lr, clipnorm=1.)\n",
    "    \n",
    "    # model and generators\n",
    "    model_tuning = cnn_model()\n",
    "    model_tuning.compile(loss='categorical_crossentropy',optimizer= sgd,\n",
    "                  metrics=['accuracy'])\n",
    "    training_generator, validation_generator = data_generator(b_train_X, b_train_set, b_test_X, b_test_set,classes=b_nb_classes,ablation=100)\n",
    "    model_tuning.fit_generator(generator=training_generator,\n",
    "                        validation_data=validation_generator,\n",
    "                        epochs=3, callbacks=[history])\n",
    "    \n",
    "    # plot loss history\n",
    "    plot_data[lr] = history.losses"
   ]
  },
  {
   "cell_type": "code",
   "execution_count": 39,
   "metadata": {},
   "outputs": [
    {
     "data": {
      "image/png": "[encoded data removed]",
      "text/plain": [
       "<Figure size 1080x288 with 4 Axes>"
      ]
     },
     "metadata": {},
     "output_type": "display_data"
    }
   ],
   "source": [
    "# plot loss history for each value of hyperparameter\n",
    "f, axes = plt.subplots(1, 4, sharey=True)\n",
    "f.set_figwidth(15)\n",
    "\n",
    "plt.setp(axes, xticks=np.arange(0, len(plot_data[0.01]), 1)+1)\n",
    "\n",
    "for i, lr in enumerate(plot_data.keys()):\n",
    "    axes[i].plot(np.arange(len(plot_data[lr]))+1, plot_data[lr])"
   ]
  },
  {
   "cell_type": "code",
   "execution_count": null,
   "metadata": {},
   "outputs": [],
   "source": [
    "# # Utility function for obtaining of the errors \n",
    "# def obtain_errors(val_generator, predictions):\n",
    "#     # Get the filenames from the generator\n",
    "#     fnames = validation_generator.filenames\n",
    "\n",
    "#     # Get the ground truth from generator\n",
    "#     ground_truth = validation_generator.classes\n",
    "\n",
    "#     # Get the dictionary of classes\n",
    "#     label2index = validation_generator.class_indices\n",
    "\n",
    "#     # Obtain the list of the classes\n",
    "#     idx2label = list(label2index.keys())\n",
    "#     print(\"The list of classes: \", idx2label)\n",
    "\n",
    "#     # Get the class index\n",
    "#     predicted_classes = np.argmax(predictions, axis=1)\n",
    "\n",
    "#     errors = np.where(predicted_classes != ground_truth)[0]\n",
    "#     print(\"Number of errors = {}/{}\".format(len(errors),validation_generator.samples))\n",
    "    \n",
    "#     return idx2label, errors, fnames\n",
    "\n",
    "\n",
    "# # Utility function for visualization of the errors\n",
    "# def show_errors(idx2label, errors, predictions, fnames):\n",
    "#     # Show the errors\n",
    "#     for i in range(len(errors)):\n",
    "#         pred_class = np.argmax(predictions[errors[i]])\n",
    "#         pred_label = idx2label[pred_class]\n",
    "\n",
    "#         title = 'Original label:{}, Prediction :{}, confidence : {:.3f}'.format(\n",
    "#             fnames[errors[i]].split('/')[0],\n",
    "#             pred_label,\n",
    "#             predictions[errors[i]][pred_class])\n",
    "\n",
    "#         original = load_img('{}/{}'.format(validation_dir,fnames[errors[i]]))\n",
    "#         plt.figure(figsize=[7,7])\n",
    "#         plt.axis('off')\n",
    "#         plt.title(title)\n",
    "#         plt.imshow(original)\n",
    "#         plt.show()"
   ]
  },
  {
   "cell_type": "code",
   "execution_count": null,
   "metadata": {},
   "outputs": [],
   "source": []
  },
  {
   "cell_type": "markdown",
   "metadata": {},
   "source": [
    "### Binary Base Model Evaluation"
   ]
  },
  {
   "cell_type": "code",
   "execution_count": null,
   "metadata": {},
   "outputs": [],
   "source": [
    "# test_X = random.sample(b_test_X, 100)\n",
    "# test_set = {image: b_test_set[image] for image in test_X }"
   ]
  },
  {
   "cell_type": "code",
   "execution_count": null,
   "metadata": {},
   "outputs": [],
   "source": [
    "len(test_set)"
   ]
  },
  {
   "cell_type": "code",
   "execution_count": 82,
   "metadata": {},
   "outputs": [],
   "source": [
    "binary_test_generator = DataGenerator(b_test_X, b_test_set,n_classes=2,shuffle=False)"
   ]
  },
  {
   "cell_type": "code",
   "execution_count": 83,
   "metadata": {},
   "outputs": [],
   "source": [
    "#Load the best model\n",
    "binary_eval_base_model = load_model(binary_filepath)\n",
    "#binary_eval_base_model = load_model('/mnt/disks/user/project/Final_Models/res_binary_best_modelv2_val65.hdf5')"
   ]
  },
  {
   "cell_type": "code",
   "execution_count": 84,
   "metadata": {},
   "outputs": [],
   "source": [
    "#x,y = binary_test_generator[0]"
   ]
  },
  {
   "cell_type": "code",
   "execution_count": 85,
   "metadata": {},
   "outputs": [],
   "source": [
    "binary_predictions = binary_eval_base_model.predict_generator(binary_test_generator)\n",
    "#binary_predictions = binary_res_model.predict_generator(binary_test_generator)\n",
    "#binary_predictions = binary_eval_base_model.predict(binary_test_generator)"
   ]
  },
  {
   "cell_type": "code",
   "execution_count": 86,
   "metadata": {},
   "outputs": [
    {
     "data": {
      "text/plain": [
       "array([0, 0, 0, ..., 1, 1, 1])"
      ]
     },
     "execution_count": 86,
     "metadata": {},
     "output_type": "execute_result"
    }
   ],
   "source": [
    "np.array(list(binary_test_generator.classes.values()))[binary_test_generator.indexes]"
   ]
  },
  {
   "cell_type": "code",
   "execution_count": 87,
   "metadata": {},
   "outputs": [
    {
     "data": {
      "text/plain": [
       "array([0, 0, 0, ..., 1, 1, 1])"
      ]
     },
     "execution_count": 87,
     "metadata": {},
     "output_type": "execute_result"
    }
   ],
   "source": [
    "np.array(list(binary_test_generator.classes.values()))[:len(binary_predictions)]"
   ]
  },
  {
   "cell_type": "code",
   "execution_count": 88,
   "metadata": {},
   "outputs": [],
   "source": [
    "binary_y_class = np.array(list(binary_test_generator.classes.values()))[:len(binary_predictions)]\n",
    "binary_y = keras.utils.to_categorical(binary_y_class, num_classes=b_nb_classes)"
   ]
  },
  {
   "cell_type": "code",
   "execution_count": 89,
   "metadata": {},
   "outputs": [],
   "source": [
    "binary_prob_max = binary_predictions.max(axis=1).reshape(-1, 1)\n",
    "binary_y_pred = np.where(binary_predictions == binary_prob_max, 1, 0)"
   ]
  },
  {
   "cell_type": "code",
   "execution_count": 90,
   "metadata": {},
   "outputs": [],
   "source": [
    "binary_pred = np.argmax(binary_predictions, axis=-1)"
   ]
  },
  {
   "cell_type": "code",
   "execution_count": 91,
   "metadata": {},
   "outputs": [
    {
     "data": {
      "text/plain": [
       "2368"
      ]
     },
     "execution_count": 91,
     "metadata": {},
     "output_type": "execute_result"
    }
   ],
   "source": [
    "len(binary_y_pred)"
   ]
  },
  {
   "cell_type": "code",
   "execution_count": 92,
   "metadata": {},
   "outputs": [
    {
     "data": {
      "text/plain": [
       "2368"
      ]
     },
     "execution_count": 92,
     "metadata": {},
     "output_type": "execute_result"
    }
   ],
   "source": [
    "len(binary_y)"
   ]
  },
  {
   "cell_type": "code",
   "execution_count": 93,
   "metadata": {},
   "outputs": [
    {
     "data": {
      "text/plain": [
       "array([0, 0, 0, ..., 1, 1, 1])"
      ]
     },
     "execution_count": 93,
     "metadata": {},
     "output_type": "execute_result"
    }
   ],
   "source": [
    "binary_y_class"
   ]
  },
  {
   "cell_type": "code",
   "execution_count": 94,
   "metadata": {},
   "outputs": [
    {
     "data": {
      "text/plain": [
       "array([0, 0, 0, ..., 0, 0, 1])"
      ]
     },
     "execution_count": 94,
     "metadata": {},
     "output_type": "execute_result"
    }
   ],
   "source": [
    "binary_pred"
   ]
  },
  {
   "cell_type": "code",
   "execution_count": 95,
   "metadata": {},
   "outputs": [
    {
     "data": {
      "text/plain": [
       "Counter({0: 1427, 1: 941})"
      ]
     },
     "execution_count": 95,
     "metadata": {},
     "output_type": "execute_result"
    }
   ],
   "source": [
    "Counter(binary_pred)"
   ]
  },
  {
   "cell_type": "code",
   "execution_count": 96,
   "metadata": {},
   "outputs": [
    {
     "name": "stdout",
     "output_type": "stream",
     "text": [
      "Res Model Test Score  0.6351351351351351\n"
     ]
    }
   ],
   "source": [
    "binary_score_test = metrics.accuracy_score(binary_y, binary_y_pred)\n",
    "print('Res Model Test Score ',binary_score_test)"
   ]
  },
  {
   "cell_type": "code",
   "execution_count": 97,
   "metadata": {},
   "outputs": [
    {
     "name": "stdout",
     "output_type": "stream",
     "text": [
      "[[881 318]\n",
      " [546 623]]\n"
     ]
    }
   ],
   "source": [
    "binary_cm = confusion_matrix(binary_y_class, binary_pred)\n",
    "print(binary_cm)"
   ]
  },
  {
   "cell_type": "code",
   "execution_count": 98,
   "metadata": {
    "scrolled": true
   },
   "outputs": [
    {
     "name": "stdout",
     "output_type": "stream",
     "text": [
      "             precision    recall  f1-score   support\n",
      "\n",
      "          0       0.62      0.73      0.67      1199\n",
      "          1       0.66      0.53      0.59      1169\n",
      "\n",
      "avg / total       0.64      0.64      0.63      2368\n",
      "\n"
     ]
    }
   ],
   "source": [
    "binary_report = classification_report(binary_y,binary_y_pred)\n",
    "print(binary_report)"
   ]
  },
  {
   "cell_type": "code",
   "execution_count": 99,
   "metadata": {},
   "outputs": [
    {
     "data": {
      "text/plain": [
       "0.6338565571109658"
      ]
     },
     "execution_count": 99,
     "metadata": {},
     "output_type": "execute_result"
    }
   ],
   "source": [
    "roc_auc_score(binary_y, binary_y_pred)"
   ]
  },
  {
   "cell_type": "markdown",
   "metadata": {},
   "source": [
    "## Multi-Class Res Classification Models"
   ]
  },
  {
   "cell_type": "code",
   "execution_count": 103,
   "metadata": {},
   "outputs": [
    {
     "name": "stdout",
     "output_type": "stream",
     "text": [
      "_________________________________________________________________\n",
      "Layer (type)                 Output Shape              Param #   \n",
      "=================================================================\n",
      "resnet50 (Model)             (None, 1, 1, 2048)        23587712  \n",
      "_________________________________________________________________\n",
      "conv2d_12 (Conv2D)           (None, 1, 1, 64)          1179712   \n",
      "_________________________________________________________________\n",
      "leaky_re_lu_12 (LeakyReLU)   (None, 1, 1, 64)          0         \n",
      "_________________________________________________________________\n",
      "dropout_12 (Dropout)         (None, 1, 1, 64)          0         \n",
      "_________________________________________________________________\n",
      "flatten_12 (Flatten)         (None, 64)                0         \n",
      "_________________________________________________________________\n",
      "dense_12 (Dense)             (None, 3)                 195       \n",
      "=================================================================\n",
      "Total params: 24,767,619\n",
      "Trainable params: 24,704,899\n",
      "Non-trainable params: 62,720\n",
      "_________________________________________________________________\n"
     ]
    }
   ],
   "source": [
    "def cnn_model(in_shape=(224,224,3)):\n",
    "    model = Sequential()\n",
    "    model.add(res_base)\n",
    "    model.add(Conv2D(64,(3,3), strides=(2,2), padding='same'))\n",
    "    model.add(LeakyReLU(alpha=0.2))\n",
    "    model.add(Dropout(0.6))\n",
    "#     model.add(Conv2D(64,(3,3),strides=(2,2), padding='same'))\n",
    "#     model.add(LeakyReLU(alpha=0.2))\n",
    "#     model.add(Dropout(0.4))\n",
    "    model.add(Flatten())\n",
    "    model.add(Dense(m_nb_classes, activation='softmax'))\n",
    "    \n",
    "    return model\n",
    "\n",
    "#call define model\n",
    "multi_res_model = cnn_model()\n",
    "multi_res_model.summary()"
   ]
  },
  {
   "cell_type": "code",
   "execution_count": 104,
   "metadata": {},
   "outputs": [],
   "source": [
    "sgd = optimizers.SGD(lr=0.005, momentum=0.5, decay = 0.001)"
   ]
  },
  {
   "cell_type": "code",
   "execution_count": 105,
   "metadata": {},
   "outputs": [
    {
     "name": "stdout",
     "output_type": "stream",
     "text": [
      "Counter({0: 599, 1: 599, 2: 599})\n",
      "Counter({0: 1401, 1: 1401, 2: 1401})\n"
     ]
    }
   ],
   "source": [
    "m_training_generator, m_validation_generator = data_generator(m_train_X, m_train_set, m_test_X, m_test_set,classes=m_nb_classes)\n",
    "multi_res_model.compile(loss='categorical_crossentropy',\n",
    "              optimizer=sgd,\n",
    "              metrics=['accuracy'])"
   ]
  },
  {
   "cell_type": "code",
   "execution_count": 106,
   "metadata": {
    "scrolled": true
   },
   "outputs": [
    {
     "name": "stdout",
     "output_type": "stream",
     "text": [
      "Epoch 1/20\n",
      "130/131 [============================>.] - ETA: 1s - loss: 0.8880 - acc: 0.5942\n",
      "Epoch 00001: val_acc improved from -inf to 0.51730, saving model to /mnt/disks/user/project/Final_Models/multi_res_best_model.hdf5\n",
      "131/131 [==============================] - 175s 1s/step - loss: 0.8868 - acc: 0.5949 - val_loss: 1.0050 - val_acc: 0.5173\n",
      "Epoch 2/20\n",
      "130/131 [============================>.] - ETA: 0s - loss: 0.5197 - acc: 0.7873\n",
      "Epoch 00002: val_acc did not improve from 0.51730\n",
      "131/131 [==============================] - 121s 924ms/step - loss: 0.5207 - acc: 0.7872 - val_loss: 1.1931 - val_acc: 0.5067\n",
      "Epoch 3/20\n",
      "130/131 [============================>.] - ETA: 0s - loss: 0.2853 - acc: 0.8913\n",
      "Epoch 00003: val_acc did not improve from 0.51730\n",
      "131/131 [==============================] - 121s 923ms/step - loss: 0.2847 - acc: 0.8915 - val_loss: 1.5150 - val_acc: 0.5123\n",
      "Epoch 4/20\n",
      "130/131 [============================>.] - ETA: 0s - loss: 0.1409 - acc: 0.9582\n",
      "Epoch 00004: val_acc did not improve from 0.51730\n",
      "131/131 [==============================] - 121s 923ms/step - loss: 0.1401 - acc: 0.9585 - val_loss: 2.1035 - val_acc: 0.4916\n",
      "Epoch 5/20\n",
      "130/131 [============================>.] - ETA: 0s - loss: 0.0985 - acc: 0.9738\n",
      "Epoch 00005: val_acc improved from 0.51730 to 0.52790, saving model to /mnt/disks/user/project/Final_Models/multi_res_best_model.hdf5\n",
      "131/131 [==============================] - 123s 937ms/step - loss: 0.0990 - acc: 0.9730 - val_loss: 2.0182 - val_acc: 0.5279\n",
      "Epoch 6/20\n",
      "130/131 [============================>.] - ETA: 0s - loss: 0.0597 - acc: 0.9837\n",
      "Epoch 00006: val_acc did not improve from 0.52790\n",
      "131/131 [==============================] - 121s 923ms/step - loss: 0.0594 - acc: 0.9838 - val_loss: 3.2055 - val_acc: 0.4710\n",
      "Epoch 7/20\n",
      "130/131 [============================>.] - ETA: 0s - loss: 0.0345 - acc: 0.9911\n",
      "Epoch 00007: val_acc improved from 0.52790 to 0.53460, saving model to /mnt/disks/user/project/Final_Models/multi_res_best_model.hdf5\n",
      "131/131 [==============================] - 123s 937ms/step - loss: 0.0344 - acc: 0.9912 - val_loss: 2.5212 - val_acc: 0.5346\n",
      "Epoch 8/20\n",
      "130/131 [============================>.] - ETA: 0s - loss: 0.0324 - acc: 0.9916\n",
      "Epoch 00008: val_acc did not improve from 0.53460\n",
      "131/131 [==============================] - 121s 923ms/step - loss: 0.0325 - acc: 0.9917 - val_loss: 2.4140 - val_acc: 0.5206\n",
      "Epoch 9/20\n",
      "130/131 [============================>.] - ETA: 0s - loss: 0.0294 - acc: 0.9930\n",
      "Epoch 00009: val_acc did not improve from 0.53460\n",
      "131/131 [==============================] - 121s 925ms/step - loss: 0.0293 - acc: 0.9931 - val_loss: 2.5526 - val_acc: 0.5206\n",
      "Epoch 10/20\n",
      "130/131 [============================>.] - ETA: 0s - loss: 0.0243 - acc: 0.9954\n",
      "Epoch 00010: val_acc did not improve from 0.53460\n",
      "131/131 [==============================] - 121s 926ms/step - loss: 0.0241 - acc: 0.9955 - val_loss: 2.6101 - val_acc: 0.5346\n",
      "Epoch 11/20\n",
      "130/131 [============================>.] - ETA: 0s - loss: 0.0184 - acc: 0.9964\n",
      "Epoch 00011: val_acc did not improve from 0.53460\n",
      "131/131 [==============================] - 121s 926ms/step - loss: 0.0183 - acc: 0.9964 - val_loss: 2.7384 - val_acc: 0.5173\n",
      "Epoch 12/20\n",
      "130/131 [============================>.] - ETA: 0s - loss: 0.0152 - acc: 0.9966\n",
      "Epoch 00012: val_acc did not improve from 0.53460\n",
      "131/131 [==============================] - 121s 927ms/step - loss: 0.0153 - acc: 0.9967 - val_loss: 2.9364 - val_acc: 0.5028\n",
      "Epoch 13/20\n",
      "130/131 [============================>.] - ETA: 0s - loss: 0.0117 - acc: 0.9981\n",
      "Epoch 00013: val_acc did not improve from 0.53460\n",
      "131/131 [==============================] - 121s 926ms/step - loss: 0.0117 - acc: 0.9981 - val_loss: 2.7932 - val_acc: 0.5218\n",
      "Epoch 14/20\n",
      "130/131 [============================>.] - ETA: 0s - loss: 0.0106 - acc: 0.9983\n",
      "Epoch 00014: val_acc did not improve from 0.53460\n",
      "131/131 [==============================] - 121s 927ms/step - loss: 0.0117 - acc: 0.9981 - val_loss: 2.6831 - val_acc: 0.5307\n",
      "Epoch 15/20\n",
      "130/131 [============================>.] - ETA: 0s - loss: 0.0119 - acc: 0.9966\n",
      "Epoch 00015: val_acc did not improve from 0.53460\n",
      "131/131 [==============================] - 122s 928ms/step - loss: 0.0118 - acc: 0.9967 - val_loss: 2.9261 - val_acc: 0.5100\n",
      "Epoch 16/20\n",
      "130/131 [============================>.] - ETA: 0s - loss: 0.0079 - acc: 0.9995\n",
      "Epoch 00016: val_acc did not improve from 0.53460\n",
      "131/131 [==============================] - 121s 927ms/step - loss: 0.0079 - acc: 0.9995 - val_loss: 2.8011 - val_acc: 0.5273\n",
      "Epoch 17/20\n",
      "130/131 [============================>.] - ETA: 0s - loss: 0.0133 - acc: 0.9983\n",
      "Epoch 00017: val_acc did not improve from 0.53460\n",
      "131/131 [==============================] - 122s 930ms/step - loss: 0.0133 - acc: 0.9983 - val_loss: 2.7460 - val_acc: 0.5234\n",
      "Epoch 18/20\n",
      "130/131 [============================>.] - ETA: 0s - loss: 0.0102 - acc: 0.9976\n",
      "Epoch 00018: val_acc did not improve from 0.53460\n",
      "131/131 [==============================] - 122s 928ms/step - loss: 0.0103 - acc: 0.9974 - val_loss: 2.6248 - val_acc: 0.5234\n",
      "Epoch 19/20\n",
      "130/131 [============================>.] - ETA: 0s - loss: 0.0135 - acc: 0.9978\n",
      "Epoch 00019: val_acc did not improve from 0.53460\n",
      "131/131 [==============================] - 122s 928ms/step - loss: 0.0134 - acc: 0.9979 - val_loss: 2.6926 - val_acc: 0.5212\n",
      "Epoch 20/20\n",
      "130/131 [============================>.] - ETA: 0s - loss: 0.0077 - acc: 0.9983\n",
      "Epoch 00020: val_acc did not improve from 0.53460\n",
      "131/131 [==============================] - 122s 928ms/step - loss: 0.0077 - acc: 0.9983 - val_loss: 2.7491 - val_acc: 0.5184\n"
     ]
    }
   ],
   "source": [
    "# checkpoint \n",
    "multi_filepath = '/mnt/disks/user/project/Final_Models/multi_res_best_model.hdf5'\n",
    "checkpoint = ModelCheckpoint(multi_filepath, monitor='val_acc', verbose=1, save_best_only=True, mode='max')\n",
    "auc_logger = roc_callback()\n",
    "# fit: this will fit the net on 'ablation' samples, only 1 epoch\n",
    "multi_history = multi_res_model.fit_generator(generator = m_training_generator,\n",
    "                    validation_data = m_validation_generator,\n",
    "                    shuffle=True,\n",
    "                    epochs=20,\n",
    "                    callbacks=[checkpoint])"
   ]
  },
  {
   "cell_type": "code",
   "execution_count": 107,
   "metadata": {
    "scrolled": true
   },
   "outputs": [
    {
     "data": {
      "text/plain": [
       "<matplotlib.legend.Legend at 0x7f74b7a37128>"
      ]
     },
     "execution_count": 107,
     "metadata": {},
     "output_type": "execute_result"
    },
    {
     "data": {
      "image/png": "[encoded data removed]",
      "text/plain": [
       "<Figure size 432x288 with 1 Axes>"
      ]
     },
     "metadata": {},
     "output_type": "display_data"
    }
   ],
   "source": [
    "multi_acc = multi_history.history['acc']\n",
    "multi_val_acc = multi_history.history['val_acc']\n",
    "\n",
    "multi_epochs = range(len(multi_acc))\n",
    "\n",
    "plt.plot(multi_epochs, multi_acc, 'g', label='Training acc')\n",
    "plt.plot(multi_epochs, multi_val_acc, 'b', label='Validation acc')\n",
    "plt.title('Multi-Class Classification Res Model Accuracy')\n",
    "plt.legend()"
   ]
  },
  {
   "cell_type": "markdown",
   "metadata": {},
   "source": [
    "### Multi-Class Base Model Evaluation"
   ]
  },
  {
   "cell_type": "code",
   "execution_count": 108,
   "metadata": {},
   "outputs": [],
   "source": [
    "multi_test_generator = DataGenerator(m_test_X, m_test_set,n_classes=m_nb_classes,shuffle=False)"
   ]
  },
  {
   "cell_type": "code",
   "execution_count": 109,
   "metadata": {},
   "outputs": [],
   "source": [
    "#Load the best model\n",
    "multi_eval_base_model = load_model(multi_filepath)"
   ]
  },
  {
   "cell_type": "code",
   "execution_count": 110,
   "metadata": {},
   "outputs": [],
   "source": [
    "multi_predictions = multi_eval_base_model.predict_generator(multi_test_generator)"
   ]
  },
  {
   "cell_type": "code",
   "execution_count": 111,
   "metadata": {},
   "outputs": [],
   "source": [
    "multi_y_class = np.array(list(multi_test_generator.classes.values()))[:len(multi_predictions)]\n",
    "multi_y = keras.utils.to_categorical(multi_y_class, num_classes=m_nb_classes)"
   ]
  },
  {
   "cell_type": "code",
   "execution_count": 112,
   "metadata": {},
   "outputs": [],
   "source": [
    "multi_prob_max = multi_predictions.max(axis=1).reshape(-1, 1)\n",
    "multi_y_pred = np.where(multi_predictions == multi_prob_max, 1, 0)"
   ]
  },
  {
   "cell_type": "code",
   "execution_count": 113,
   "metadata": {},
   "outputs": [],
   "source": [
    "multi_pred = np.argmax(multi_predictions, axis=-1)"
   ]
  },
  {
   "cell_type": "code",
   "execution_count": 114,
   "metadata": {},
   "outputs": [
    {
     "data": {
      "text/plain": [
       "1792"
      ]
     },
     "execution_count": 114,
     "metadata": {},
     "output_type": "execute_result"
    }
   ],
   "source": [
    "len(multi_y_pred)"
   ]
  },
  {
   "cell_type": "code",
   "execution_count": 115,
   "metadata": {},
   "outputs": [
    {
     "data": {
      "text/plain": [
       "1792"
      ]
     },
     "execution_count": 115,
     "metadata": {},
     "output_type": "execute_result"
    }
   ],
   "source": [
    "len(multi_y)"
   ]
  },
  {
   "cell_type": "code",
   "execution_count": 116,
   "metadata": {},
   "outputs": [
    {
     "data": {
      "text/plain": [
       "Counter({0: 825, 2: 809, 1: 158})"
      ]
     },
     "execution_count": 116,
     "metadata": {},
     "output_type": "execute_result"
    }
   ],
   "source": [
    "Counter(multi_pred)"
   ]
  },
  {
   "cell_type": "code",
   "execution_count": 117,
   "metadata": {},
   "outputs": [
    {
     "name": "stdout",
     "output_type": "stream",
     "text": [
      "Multi-Class Res Model Test Score  0.5323660714285714\n"
     ]
    }
   ],
   "source": [
    "multi_score_test = metrics.accuracy_score(multi_y, multi_y_pred)\n",
    "print('Multi-Class Res Model Test Score ',multi_score_test)"
   ]
  },
  {
   "cell_type": "code",
   "execution_count": 118,
   "metadata": {},
   "outputs": [
    {
     "name": "stdout",
     "output_type": "stream",
     "text": [
      "[[405  15 179]\n",
      " [282 118 199]\n",
      " [138  25 431]]\n"
     ]
    }
   ],
   "source": [
    "multi_cm = confusion_matrix(multi_y_class, multi_pred)\n",
    "print(multi_cm)"
   ]
  },
  {
   "cell_type": "code",
   "execution_count": 119,
   "metadata": {
    "scrolled": true
   },
   "outputs": [
    {
     "name": "stdout",
     "output_type": "stream",
     "text": [
      "             precision    recall  f1-score   support\n",
      "\n",
      "          0       0.49      0.68      0.57       599\n",
      "          1       0.75      0.20      0.31       599\n",
      "          2       0.53      0.73      0.61       594\n",
      "\n",
      "avg / total       0.59      0.53      0.50      1792\n",
      "\n"
     ]
    }
   ],
   "source": [
    "multi_report = classification_report(multi_y,multi_y_pred)\n",
    "print(multi_report)"
   ]
  },
  {
   "cell_type": "code",
   "execution_count": null,
   "metadata": {},
   "outputs": [],
   "source": []
  }
 ],
 "metadata": {
  "anaconda-cloud": {},
  "kernelspec": {
   "display_name": "Python 3",
   "language": "python",
   "name": "python3"
  },
  "language_info": {
   "codemirror_mode": {
    "name": "ipython",
    "version": 3
   },
   "file_extension": ".py",
   "mimetype": "text/x-python",
   "name": "python",
   "nbconvert_exporter": "python",
   "pygments_lexer": "ipython3",
   "version": "3.6.5"
  }
 },
 "nbformat": 4,
 "nbformat_minor": 1
}
